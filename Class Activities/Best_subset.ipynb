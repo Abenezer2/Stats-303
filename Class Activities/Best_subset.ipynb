{
 "cells": [
  {
   "cell_type": "code",
   "execution_count": 1,
   "metadata": {},
   "outputs": [],
   "source": [
    "import pandas as pd\n",
    "import numpy as np\n",
    "import statsmodels.formula.api as sm\n",
    "import seaborn as sns\n",
    "import matplotlib.pyplot as plt\n",
    "import itertools\n",
    "import time"
   ]
  },
  {
   "cell_type": "code",
   "execution_count": 2,
   "metadata": {},
   "outputs": [
    {
     "data": {
      "text/html": [
       "<div>\n",
       "<style scoped>\n",
       "    .dataframe tbody tr th:only-of-type {\n",
       "        vertical-align: middle;\n",
       "    }\n",
       "\n",
       "    .dataframe tbody tr th {\n",
       "        vertical-align: top;\n",
       "    }\n",
       "\n",
       "    .dataframe thead th {\n",
       "        text-align: right;\n",
       "    }\n",
       "</style>\n",
       "<table border=\"1\" class=\"dataframe\">\n",
       "  <thead>\n",
       "    <tr style=\"text-align: right;\">\n",
       "      <th></th>\n",
       "      <th>house_id</th>\n",
       "      <th>house_age</th>\n",
       "      <th>distance_MRT</th>\n",
       "      <th>number_convenience_stores</th>\n",
       "      <th>latitude</th>\n",
       "      <th>longitude</th>\n",
       "      <th>house_price</th>\n",
       "    </tr>\n",
       "  </thead>\n",
       "  <tbody>\n",
       "    <tr>\n",
       "      <th>0</th>\n",
       "      <td>210</td>\n",
       "      <td>5.2</td>\n",
       "      <td>390.5684</td>\n",
       "      <td>5</td>\n",
       "      <td>24.97937</td>\n",
       "      <td>121.54245</td>\n",
       "      <td>2724.84</td>\n",
       "    </tr>\n",
       "    <tr>\n",
       "      <th>1</th>\n",
       "      <td>190</td>\n",
       "      <td>35.3</td>\n",
       "      <td>616.5735</td>\n",
       "      <td>8</td>\n",
       "      <td>24.97945</td>\n",
       "      <td>121.53642</td>\n",
       "      <td>1789.29</td>\n",
       "    </tr>\n",
       "    <tr>\n",
       "      <th>2</th>\n",
       "      <td>328</td>\n",
       "      <td>15.9</td>\n",
       "      <td>1497.7130</td>\n",
       "      <td>3</td>\n",
       "      <td>24.97003</td>\n",
       "      <td>121.51696</td>\n",
       "      <td>556.96</td>\n",
       "    </tr>\n",
       "    <tr>\n",
       "      <th>3</th>\n",
       "      <td>5</td>\n",
       "      <td>7.1</td>\n",
       "      <td>2175.0300</td>\n",
       "      <td>3</td>\n",
       "      <td>24.96305</td>\n",
       "      <td>121.51254</td>\n",
       "      <td>1030.41</td>\n",
       "    </tr>\n",
       "    <tr>\n",
       "      <th>4</th>\n",
       "      <td>412</td>\n",
       "      <td>8.1</td>\n",
       "      <td>104.8101</td>\n",
       "      <td>5</td>\n",
       "      <td>24.96674</td>\n",
       "      <td>121.54067</td>\n",
       "      <td>2756.25</td>\n",
       "    </tr>\n",
       "  </tbody>\n",
       "</table>\n",
       "</div>"
      ],
      "text/plain": [
       "   house_id  house_age  distance_MRT  number_convenience_stores  latitude  \\\n",
       "0       210        5.2      390.5684                          5  24.97937   \n",
       "1       190       35.3      616.5735                          8  24.97945   \n",
       "2       328       15.9     1497.7130                          3  24.97003   \n",
       "3         5        7.1     2175.0300                          3  24.96305   \n",
       "4       412        8.1      104.8101                          5  24.96674   \n",
       "\n",
       "   longitude  house_price  \n",
       "0  121.54245      2724.84  \n",
       "1  121.53642      1789.29  \n",
       "2  121.51696       556.96  \n",
       "3  121.51254      1030.41  \n",
       "4  121.54067      2756.25  "
      ]
     },
     "execution_count": 2,
     "metadata": {},
     "output_type": "execute_result"
    }
   ],
   "source": [
    "trainf = pd.read_csv('house_feature_train.csv')\n",
    "trainp = pd.read_csv('house_price_train.csv')\n",
    "testf = pd.read_csv('house_feature_test.csv')\n",
    "testp = pd.read_csv('house_price_test.csv')\n",
    "train = pd.merge(trainf,trainp)\n",
    "test = pd.merge(testf,testp)\n",
    "train.head()"
   ]
  },
  {
   "cell_type": "code",
   "execution_count": 3,
   "metadata": {},
   "outputs": [],
   "source": [
    "#Creating a set of predictors from which we need to find the best subset of predictors\n",
    "X = train[['house_age','number_convenience_stores','latitude', 'longitude','distance_MRT']]"
   ]
  },
  {
   "cell_type": "code",
   "execution_count": 4,
   "metadata": {},
   "outputs": [],
   "source": [
    "#Function to develop a model based on all predictors in predictor_subset\n",
    "def processSubset(predictor_subset):\n",
    "    # Fit model on feature_set and calculate R-squared\n",
    "    model = sm.ols('np.log(house_price)~' + '+'.join(predictor_subset),data = train).fit()\n",
    "    Rsquared = model.rsquared\n",
    "    return {\"model\":model, \"Rsquared\":Rsquared}"
   ]
  },
  {
   "cell_type": "code",
   "execution_count": 5,
   "metadata": {},
   "outputs": [],
   "source": [
    "#Function to select the best model amongst all models with 'k' predictors\n",
    "def getBest_model(k):\n",
    "    tic = time.time()\n",
    "    results = []\n",
    "    for combo in itertools.combinations(X.columns, k):\n",
    "        results.append(processSubset((list(combo))))\n",
    "\n",
    "    # Wrap everything up in a dataframe\n",
    "    models = pd.DataFrame(results)\n",
    "\n",
    "    # Choose the model with the highest RSS\n",
    "    best_model = models.loc[models['Rsquared'].argmax()]\n",
    "    \n",
    "    toc = time.time()\n",
    "    print(\"Processed\", models.shape[0], \"models on\", k, \"predictors in\", (toc-tic), \"seconds.\")\n",
    "    return best_model"
   ]
  },
  {
   "cell_type": "code",
   "execution_count": 6,
   "metadata": {},
   "outputs": [
    {
     "name": "stdout",
     "output_type": "stream",
     "text": [
      "Processed 5 models on 1 predictors in 0.04551291465759277 seconds.\n",
      "Processed 10 models on 2 predictors in 0.060678958892822266 seconds.\n",
      "Processed 10 models on 3 predictors in 0.0638270378112793 seconds.\n",
      "Processed 5 models on 4 predictors in 0.04068899154663086 seconds.\n",
      "Processed 1 models on 5 predictors in 0.011404037475585938 seconds.\n",
      "Total elapsed time: 0.23928499221801758 seconds.\n"
     ]
    }
   ],
   "source": [
    "#Function to select the best model amongst the best models for 'k' predictors, where k = 1,2,3,..\n",
    "models_best = pd.DataFrame(columns=[\"Rsquared\", \"model\"])\n",
    "\n",
    "#a for loop that finds the best model for each subset size\n",
    "tic = time.time()\n",
    "for i in range(1,1+X.shape[1]):\n",
    "    models_best.loc[i] = getBest_model(i)\n",
    "\n",
    "toc = time.time()\n",
    "print(\"Total elapsed time:\", (toc-tic), \"seconds.\")"
   ]
  },
  {
   "cell_type": "code",
   "execution_count": 7,
   "metadata": {},
   "outputs": [
    {
     "data": {
      "image/png": "[encoded data removed]",
      "text/plain": [
       "<Figure size 1440x720 with 4 Axes>"
      ]
     },
     "metadata": {
      "needs_background": "light"
     },
     "output_type": "display_data"
    }
   ],
   "source": [
    "def best_sub_plots():\n",
    "    plt.figure(figsize=(20,10))\n",
    "    plt.rcParams.update({'font.size': 18, 'lines.markersize': 10})\n",
    "\n",
    "    # Set up a 2x2 grid so we can look at 4 plots at once\n",
    "    plt.subplot(2, 2, 1)\n",
    "\n",
    "    # We will now plot a red dot to indicate the model with the largest adjusted R^2 statistic.\n",
    "    # The argmax() function can be used to identify the location of the maximum point of a vector\n",
    "    plt.plot(models_best[\"Rsquared\"])\n",
    "    plt.xlabel('# Predictors')\n",
    "    plt.ylabel('Rsquared')\n",
    "\n",
    "    # We will now plot a red dot to indicate the model with the largest adjusted R^2 statistic.\n",
    "    # The argmax() function can be used to identify the location of the maximum point of a vector\n",
    "\n",
    "    rsquared_adj = models_best.apply(lambda row: row[1].rsquared_adj, axis=1)\n",
    "\n",
    "    plt.subplot(2, 2, 2)\n",
    "    plt.plot(rsquared_adj)\n",
    "    plt.plot(1+rsquared_adj.argmax(), rsquared_adj.max(), \"or\")\n",
    "    plt.xlabel('# Predictors')\n",
    "    plt.ylabel('adjusted rsquared')\n",
    "\n",
    "    # We'll do the same for AIC and BIC, this time looking for the models with the SMALLEST statistic\n",
    "    aic = models_best.apply(lambda row: row[1].aic, axis=1)\n",
    "\n",
    "    plt.subplot(2, 2, 3)\n",
    "    plt.plot(aic)\n",
    "    plt.plot(1+aic.argmin(), aic.min(), \"or\")\n",
    "    plt.xlabel('# Predictors')\n",
    "    plt.ylabel('AIC')\n",
    "\n",
    "    bic = models_best.apply(lambda row: row[1].bic, axis=1)\n",
    "\n",
    "    plt.subplot(2, 2, 4)\n",
    "    plt.plot(bic)\n",
    "    plt.plot(1+bic.argmin(), bic.min(), \"or\")\n",
    "    plt.xlabel('# Predictors')\n",
    "    plt.ylabel('BIC')\n",
    "best_sub_plots()"
   ]
  },
  {
   "cell_type": "code",
   "execution_count": 8,
   "metadata": {},
   "outputs": [
    {
     "data": {
      "text/html": [
       "<table class=\"simpletable\">\n",
       "<caption>OLS Regression Results</caption>\n",
       "<tr>\n",
       "  <th>Dep. Variable:</th>    <td>np.log(house_price)</td> <th>  R-squared:         </th> <td>   0.772</td>\n",
       "</tr>\n",
       "<tr>\n",
       "  <th>Model:</th>                    <td>OLS</td>         <th>  Adj. R-squared:    </th> <td>   0.768</td>\n",
       "</tr>\n",
       "<tr>\n",
       "  <th>Method:</th>              <td>Least Squares</td>    <th>  F-statistic:       </th> <td>   228.0</td>\n",
       "</tr>\n",
       "<tr>\n",
       "  <th>Date:</th>              <td>Mon, 27 Feb 2023</td>   <th>  Prob (F-statistic):</th> <td>2.79e-85</td>\n",
       "</tr>\n",
       "<tr>\n",
       "  <th>Time:</th>                  <td>13:20:52</td>       <th>  Log-Likelihood:    </th> <td> -118.47</td>\n",
       "</tr>\n",
       "<tr>\n",
       "  <th>No. Observations:</th>       <td>   275</td>        <th>  AIC:               </th> <td>   246.9</td>\n",
       "</tr>\n",
       "<tr>\n",
       "  <th>Df Residuals:</th>           <td>   270</td>        <th>  BIC:               </th> <td>   265.0</td>\n",
       "</tr>\n",
       "<tr>\n",
       "  <th>Df Model:</th>               <td>     4</td>        <th>                     </th>     <td> </td>   \n",
       "</tr>\n",
       "<tr>\n",
       "  <th>Covariance Type:</th>       <td>nonrobust</td>      <th>                     </th>     <td> </td>   \n",
       "</tr>\n",
       "</table>\n",
       "<table class=\"simpletable\">\n",
       "<tr>\n",
       "              <td></td>                 <th>coef</th>     <th>std err</th>      <th>t</th>      <th>P>|t|</th>  <th>[0.025</th>    <th>0.975]</th>  \n",
       "</tr>\n",
       "<tr>\n",
       "  <th>Intercept</th>                 <td> -459.0262</td> <td>   58.231</td> <td>   -7.883</td> <td> 0.000</td> <td> -573.671</td> <td> -344.381</td>\n",
       "</tr>\n",
       "<tr>\n",
       "  <th>house_age</th>                 <td>   -0.0131</td> <td>    0.002</td> <td>   -6.451</td> <td> 0.000</td> <td>   -0.017</td> <td>   -0.009</td>\n",
       "</tr>\n",
       "<tr>\n",
       "  <th>number_convenience_stores</th> <td>    0.0597</td> <td>    0.010</td> <td>    6.271</td> <td> 0.000</td> <td>    0.041</td> <td>    0.078</td>\n",
       "</tr>\n",
       "<tr>\n",
       "  <th>latitude</th>                  <td>   18.6828</td> <td>    2.332</td> <td>    8.012</td> <td> 0.000</td> <td>   14.092</td> <td>   23.274</td>\n",
       "</tr>\n",
       "<tr>\n",
       "  <th>distance_MRT</th>              <td>   -0.0003</td> <td> 2.53e-05</td> <td>  -12.221</td> <td> 0.000</td> <td>   -0.000</td> <td>   -0.000</td>\n",
       "</tr>\n",
       "</table>\n",
       "<table class=\"simpletable\">\n",
       "<tr>\n",
       "  <th>Omnibus:</th>       <td> 4.422</td> <th>  Durbin-Watson:     </th> <td>   2.261</td>\n",
       "</tr>\n",
       "<tr>\n",
       "  <th>Prob(Omnibus):</th> <td> 0.110</td> <th>  Jarque-Bera (JB):  </th> <td>   5.555</td>\n",
       "</tr>\n",
       "<tr>\n",
       "  <th>Skew:</th>          <td> 0.073</td> <th>  Prob(JB):          </th> <td>  0.0622</td>\n",
       "</tr>\n",
       "<tr>\n",
       "  <th>Kurtosis:</th>      <td> 3.681</td> <th>  Cond. No.          </th> <td>4.25e+06</td>\n",
       "</tr>\n",
       "</table><br/><br/>Notes:<br/>[1] Standard Errors assume that the covariance matrix of the errors is correctly specified.<br/>[2] The condition number is large, 4.25e+06. This might indicate that there are<br/>strong multicollinearity or other numerical problems."
      ],
      "text/plain": [
       "<class 'statsmodels.iolib.summary.Summary'>\n",
       "\"\"\"\n",
       "                             OLS Regression Results                            \n",
       "===============================================================================\n",
       "Dep. Variable:     np.log(house_price)   R-squared:                       0.772\n",
       "Model:                             OLS   Adj. R-squared:                  0.768\n",
       "Method:                  Least Squares   F-statistic:                     228.0\n",
       "Date:                 Mon, 27 Feb 2023   Prob (F-statistic):           2.79e-85\n",
       "Time:                         13:20:52   Log-Likelihood:                -118.47\n",
       "No. Observations:                  275   AIC:                             246.9\n",
       "Df Residuals:                      270   BIC:                             265.0\n",
       "Df Model:                            4                                         \n",
       "Covariance Type:             nonrobust                                         \n",
       "=============================================================================================\n",
       "                                coef    std err          t      P>|t|      [0.025      0.975]\n",
       "---------------------------------------------------------------------------------------------\n",
       "Intercept                  -459.0262     58.231     -7.883      0.000    -573.671    -344.381\n",
       "house_age                    -0.0131      0.002     -6.451      0.000      -0.017      -0.009\n",
       "number_convenience_stores     0.0597      0.010      6.271      0.000       0.041       0.078\n",
       "latitude                     18.6828      2.332      8.012      0.000      14.092      23.274\n",
       "distance_MRT                 -0.0003   2.53e-05    -12.221      0.000      -0.000      -0.000\n",
       "==============================================================================\n",
       "Omnibus:                        4.422   Durbin-Watson:                   2.261\n",
       "Prob(Omnibus):                  0.110   Jarque-Bera (JB):                5.555\n",
       "Skew:                           0.073   Prob(JB):                       0.0622\n",
       "Kurtosis:                       3.681   Cond. No.                     4.25e+06\n",
       "==============================================================================\n",
       "\n",
       "Notes:\n",
       "[1] Standard Errors assume that the covariance matrix of the errors is correctly specified.\n",
       "[2] The condition number is large, 4.25e+06. This might indicate that there are\n",
       "strong multicollinearity or other numerical problems.\n",
       "\"\"\""
      ]
     },
     "execution_count": 8,
     "metadata": {},
     "output_type": "execute_result"
    }
   ],
   "source": [
    "best_subset_model = models_best.loc[4,'model']\n",
    "models_best.loc[4,'model'].summary()"
   ]
  },
  {
   "attachments": {},
   "cell_type": "markdown",
   "metadata": {},
   "source": [
    "Compare RMSEs \n",
    "    RMSE of the model with all pred.s \n",
    "    RMSE of the model with the single best subset \n",
    "    Check if the best subset RMSE is lower\n",
    "\n",
    "For the example above, the change in RMSE is minimal \n",
    "    the number of pred.s was low \n",
    "    the total effect of these predictors were limited "
   ]
  },
  {
   "cell_type": "code",
   "execution_count": 9,
   "metadata": {},
   "outputs": [],
   "source": [
    "#creating the interaction terms and running the same algorithms\n",
    "#Creating a dataframe with all the predictors\n",
    "X = train[['house_age', 'distance_MRT', 'number_convenience_stores','latitude','longitude']]\n",
    "#Since 'X' will change when we include interactions, we need a backup containing all individual predictors\n",
    "X_backup = train[['house_age', 'distance_MRT', 'number_convenience_stores','latitude','longitude']]"
   ]
  },
  {
   "cell_type": "code",
   "execution_count": 11,
   "metadata": {},
   "outputs": [],
   "source": [
    "#Including 2-factor interactions of predictors in train and 'X'. Note that we need train to develop the model, and X to \n",
    "#find 'k' variable subsets from amongst all the predictors under consideration\n",
    "for combo in itertools.combinations(X_backup.columns, 2):    \n",
    "    train['_'.join(combo)] = train[combo[0]]*train[combo[1]]\n",
    "    test['_'.join(combo)] = test[combo[0]]*test[combo[1]]\n",
    "    X.loc[:,'_'.join(combo)] = train.loc[:,'_'.join(combo)] "
   ]
  },
  {
   "cell_type": "code",
   "execution_count": 12,
   "metadata": {},
   "outputs": [
    {
     "name": "stdout",
     "output_type": "stream",
     "text": [
      "Processed 15 models on 1 predictors in 0.11006283760070801 seconds.\n",
      "Processed 105 models on 2 predictors in 0.561190128326416 seconds.\n",
      "Processed 455 models on 3 predictors in 2.796420097351074 seconds.\n",
      "Processed 1365 models on 4 predictors in 9.423472881317139 seconds.\n",
      "Processed 3003 models on 5 predictors in 24.040611028671265 seconds.\n",
      "Processed 5005 models on 6 predictors in 46.43419313430786 seconds.\n",
      "Processed 6435 models on 7 predictors in 65.32798910140991 seconds.\n",
      "Processed 6435 models on 8 predictors in 71.89001274108887 seconds.\n",
      "Processed 5005 models on 9 predictors in 58.42204475402832 seconds.\n",
      "Processed 3003 models on 10 predictors in 39.35493302345276 seconds.\n",
      "Processed 1365 models on 11 predictors in 18.33052921295166 seconds.\n",
      "Processed 455 models on 12 predictors in 6.658989906311035 seconds.\n",
      "Processed 105 models on 13 predictors in 1.5764780044555664 seconds.\n",
      "Processed 15 models on 14 predictors in 0.2438356876373291 seconds.\n",
      "Processed 1 models on 15 predictors in 0.020877838134765625 seconds.\n",
      "Total elapsed time: 346.03763484954834 seconds.\n"
     ]
    }
   ],
   "source": [
    "models_best = pd.DataFrame(columns=[\"Rsquared\", \"model\"])\n",
    "\n",
    "tic = time.time()\n",
    "for i in range(1,1+X.shape[1]):\n",
    "    models_best.loc[i] = getBest_model(i)\n",
    "\n",
    "toc = time.time()\n",
    "print(\"Total elapsed time:\", (toc-tic), \"seconds.\")"
   ]
  },
  {
   "attachments": {},
   "cell_type": "markdown",
   "metadata": {},
   "source": [
    "Rmse of the best subset model will be lower\n",
    "    the rmse of the model with all pred.s (originals and in. terms)\n",
    "    because some interactions are not useful o caputure the genral trend in the data\n",
    "\n",
    "The complete picture: \n",
    "    train a model with all your pred.s\n",
    "    add transformations and interactions- some are useful \n",
    "    get rid of the redundant/harmful ones by subset selection/reg. \n",
    "    "
   ]
  }
 ],
 "metadata": {
  "kernelspec": {
   "display_name": "base",
   "language": "python",
   "name": "python3"
  },
  "language_info": {
   "codemirror_mode": {
    "name": "ipython",
    "version": 3
   },
   "file_extension": ".py",
   "mimetype": "text/x-python",
   "name": "python",
   "nbconvert_exporter": "python",
   "pygments_lexer": "ipython3",
   "version": "3.8.8"
  },
  "orig_nbformat": 4,
  "vscode": {
   "interpreter": {
    "hash": "9b30c500a2c6b773b3af537f6a7d82178de4caa4af23850326d13fdd2609c842"
   }
  }
 },
 "nbformat": 4,
 "nbformat_minor": 2
}

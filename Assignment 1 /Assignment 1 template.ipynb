{
 "cells": [
  {
   "cell_type": "raw",
   "id": "2d08f12d",
   "metadata": {},
   "source": [
    "---\n",
    "title: \"Assignment A\"\n",
    "format: \n",
    "  html:\n",
    "    toc: true\n",
    "    toc-title: Contents\n",
    "    toc-depth: 4\n",
    "    code-fold: show\n",
    "    self-contained: true\n",
    "jupyter: python3\n",
    "---"
   ]
  },
  {
   "cell_type": "markdown",
   "id": "6efe6ec7",
   "metadata": {},
   "source": [
    "## Instructions {-}\n",
    "\n",
    "1. You may talk to a friend, discuss the questions and potential directions for solving them. However, you need to write your own solutions and code separately, and not as a group activity. \n",
    "\n",
    "2. Do not write your name on the assignment.\n",
    "\n",
    "3. Write your code in the *Code* cells and your answer in the *Markdown* cells of the Jupyter notebook. Ensure that the solution is written neatly enough to understand and grade.\n",
    "\n",
    "4. Use [Quarto](https://quarto.org/docs/output-formats/html-basics.html) to print the *.ipynb* file as HTML. You will need to open the command prompt, navigate to the directory containing the file, and use the command: `quarto render filename.ipynb --to html`. Submit the HTML file.\n",
    "\n",
    "5. The assignment is worth 100 points, and is due on **Tuesday, 17th January 2022 at 11:59 pm**. \n",
    "\n",
    "6. There is a **bonus** question worth 5 points.\n",
    "\n",
    "7. **Five points are for properly formatting the assignment**. The breakdown is as follows:\n",
    "- Must be an HTML file rendered using Quarto (1 pt); *If you have a Quarto issue, you must mention the issue & quote the error you get when rendering using Quarto in the comments section of Canvas, and submit the ipynb file.* \n",
    "- No name can be written on the assignment, nor can there be any indicator of the student’s identity—e.g., printouts of the working directory should not be included in the final submission  (1 pt).\n",
    "- There aren’t excessively long outputs of extraneous information (e.g. no printouts of entire data frames without good reason, there aren’t long printouts of which iteration a loop is on, there aren’t long sections of commented-out code, etc.) (1 pt).\n",
    "- Final answers of each question are written in Markdown cells (1 pt).\n",
    "- There is no piece of unnecessary / redundant code, and no unnecessary / redundant text (1 pt).\n",
    "\n",
    "8.  The maximum possible score in the assigment is 95 + 5 (formatting) + 5 (bonus question) = 105 out of 100. There is no partial credit for the bonus question."
   ]
  },
  {
   "cell_type": "markdown",
   "id": "93d691ac",
   "metadata": {},
   "source": [
    "## Regression vs Classification; Prediction vs Inference"
   ]
  },
  {
   "cell_type": "markdown",
   "id": "76ef6e03",
   "metadata": {},
   "source": [
    "Explain (1) whether each scenario is a classification or regression problem, and (2) whether we are most interested in inference or prediction. Answers to both parts must be supported by a justification."
   ]
  },
  {
   "cell_type": "markdown",
   "id": "659b081f",
   "metadata": {},
   "source": [
    "### \n",
    "Consider a company that is interested in conducting a marketing campaign. The goal is to identify individuals who are likely to respond positively to a marketing campaign, based on observations of demographic variables *(such as age, gender, income, etc.)* measured on each individual. \n",
    "\n",
    "*(2+2 points)*"
   ]
  },
  {
   "attachments": {},
   "cell_type": "markdown",
   "id": "59d945e1",
   "metadata": {},
   "source": [
    "1) This scenario is a classification problem. The goal is to identify individuals who are likely to respond positively to a marketing campaign, which requires classifying individuals into two groups: those who will respond positively and those who will not. \n",
    "\n",
    "2)In this scenario, the company is most interested in prediction. The goal is to predict which demographic variables are more likely to responde positivly to the marketing campaign."
   ]
  },
  {
   "cell_type": "markdown",
   "id": "87243d10",
   "metadata": {},
   "source": [
    "### \n",
    "Consider that the company mentioned in the previous question is interested in understanding the impact of advertising promotions in different media types on the company sales. For example, the company is interested in the question, *'how large of an increase in sales is associated with a given increase in radio vis-a-vis TV advertising?'*\n",
    "\n",
    "*(2+2 points)*"
   ]
  },
  {
   "attachments": {},
   "cell_type": "markdown",
   "id": "85e464d7",
   "metadata": {},
   "source": [
    "1) This is a regression problem since the independent variable is continous.\n",
    "2) This is a inference because the company is tring to undertand the relationship between media types and the company's sales"
   ]
  },
  {
   "cell_type": "markdown",
   "id": "daea437c",
   "metadata": {},
   "source": [
    "### \n",
    "Consider a company selling furniture is interested in the finding the association between demographic characterisitcs of customers (such as age, gender, income, etc.) and their probability of purchase of a particular company product.\n",
    "\n",
    "*(2+2 points)*"
   ]
  },
  {
   "attachments": {},
   "cell_type": "markdown",
   "id": "158f1ba9",
   "metadata": {},
   "source": [
    "1)This is a classification problem since the independent variable (purchasing product) is categorical. \n",
    "2)This is inference because the company wants to know if there is a positive or negative association between demographics and probability of purchase. "
   ]
  },
  {
   "cell_type": "markdown",
   "id": "30aee047",
   "metadata": {},
   "source": [
    "### \n",
    "We are interested in predicting the % change in the USD/Euro exchange rate in relation to the weekly changes in the world\n",
    "stock markets. Hence we collect weekly data for all of 2022. For each week we record the % change in the USD/Euro, the %\n",
    "change in the US market, the % change in the British market, and the % change in the German market.\n",
    "\n",
    "*(2+2 points)*"
   ]
  },
  {
   "attachments": {},
   "cell_type": "markdown",
   "id": "a6f91be5",
   "metadata": {},
   "source": [
    "1) Regression becauase independent varaiable (% change in the USD/Euro exchange rate) is continous. \n",
    "2) Predicition becuase we are trying to predict the independent variable using the dependent varaible (weekly change in world stock market)"
   ]
  },
  {
   "cell_type": "markdown",
   "id": "fc077572",
   "metadata": {},
   "source": [
    "## RMSE vs MAE"
   ]
  },
  {
   "attachments": {},
   "cell_type": "markdown",
   "id": "d93c431a",
   "metadata": {},
   "source": [
    "### \n",
    "Describe a regression problem, where it will be more appropriate to assess the model accuracy using the root mean squared error (RMSE) metric as compared to the mean absolute error (MAE) metric.\n",
    "\n",
    "**Note:** Don't use the examples presented in class\n",
    "\n",
    "\n",
    "*(4 points)*"
   ]
  },
  {
   "attachments": {},
   "cell_type": "markdown",
   "id": "886037de",
   "metadata": {},
   "source": [
    "It is appropriate to use Root Mean Squared Error (RMSE) when the data contains large variations or outliers since it is sensitive to large errors or outliers, which will be penalized more than smaller errors. \n",
    "\n",
    "An example would be when we want to predict electricity consumption of a county. There will be large varaitions since some counties use a large amount of electricity."
   ]
  },
  {
   "cell_type": "markdown",
   "id": "541a43e9",
   "metadata": {},
   "source": [
    "### \n",
    "Describe a regression problem, where it will be more appropriate to assess the model accuracy using the mean absolute error (MAE) metric as compared to the root mean squared error (RMSE) metric.\n",
    "\n",
    "**Note:** Don't use the examples presented in class\n",
    "\n",
    "*(4 points)*"
   ]
  },
  {
   "attachments": {},
   "cell_type": "markdown",
   "id": "a9bbde97",
   "metadata": {},
   "source": [
    "The MAE is appropriate when the data contains small variations or outliers. The MAE gives equal weight to all errors regardless of their size, so it will not penalize large errors as heavily as the RMSE.\n",
    "\n",
    "Example: Predicting the number of items sold in a local shop. There will not be large varaitions. "
   ]
  },
  {
   "cell_type": "markdown",
   "id": "5bea5b7d",
   "metadata": {},
   "source": [
    "## FNR vs FPR"
   ]
  },
  {
   "cell_type": "markdown",
   "id": "eeae1d75",
   "metadata": {},
   "source": [
    "### \n",
    "A classification model is developed to predict those customers who will respond positively to a company's tele-marketing campaign. All those customers that are predicted to respond positively to the campaign will be called by phone to buy the product being marketed. If the customer being called purchases the product ($y = 1$), the company will get a profit of \\$100. On the other hand, if they are called and they don't purchase ($y = 0$), the company will have a loss of \\$1. Among FPR (False positive rate) and FNR (False negative rate), which metric is more important to be minimized to reduce the loss associated with misclassification? Justify your answer. \n",
    "\n",
    "In your justification, you must clearly interpret False Negatives (FN) and False Postives (FP) first.\n",
    "\n",
    "**Assumption:** Assume that based on the past marketing campaigns, around 50% of the customers will actually respond positively to the campaign.\n",
    "\n",
    "*(4 points)*"
   ]
  },
  {
   "attachments": {},
   "cell_type": "markdown",
   "id": "eac988c0",
   "metadata": {},
   "source": [
    "False Positive Rate= is the rate of getting false positive results. It is calculated by dividing the false postive with the sum of the flase positive and True negative \n",
    "Flase Negative Rate= is the rate of getting false negative results. It is calculated by dividing the false negative with the sum of the false negative and True negative\n",
    "\n",
    "\n",
    "For this case it would be more important to reduce the false NEGATIVE rate since a high false negative rate will result in the missing out of potential sale.  "
   ]
  },
  {
   "cell_type": "markdown",
   "id": "eabe8f27",
   "metadata": {},
   "source": [
    "### \n",
    "Can the answer to the previous question change if the assumption stated in the question is false? Justify your answer.\n",
    "\n",
    "*(6 points)*"
   ]
  },
  {
   "attachments": {},
   "cell_type": "markdown",
   "id": "bdebfe0c",
   "metadata": {},
   "source": [
    "Yes it will change. In the case that only 5% of the customers will actually respond positively to the campaign, then we would focus on reducing the false postive rate because we would waaste time calling people who are not interested. "
   ]
  },
  {
   "cell_type": "markdown",
   "id": "4393cced-a26a-47a9-a23d-cba029eeaf27",
   "metadata": {},
   "source": [
    "## Petrol consumption\n",
    "\n",
    "Read the dataset *petrol_consumption_train.csv*. It contains the following five columns: \n",
    "\n",
    "`Petrol_tax`: Petrol tax (cents per gallon) \n",
    "\n",
    "`Per_capita_income`: Average income (dollars) \n",
    "\n",
    "`Paved_highways`: Paved Highways (miles) \n",
    "\n",
    "`Prop_license`: Proportion of population with driver's licenses \n",
    "\n",
    "`Petrol_consumption`: Consumption of petrol (millions of gallons)"
   ]
  },
  {
   "cell_type": "markdown",
   "id": "2270390b-eb12-458d-a5fd-68a0b13be9bc",
   "metadata": {},
   "source": [
    "### \n",
    "Make a pairwise plot of all the variables in the dataset. Which variable seems to have the highest linear correlation with `Petrol_consumption`? Let this variable be predictor *P*. *Note: If you cannot figure out P by looking at the visualization, you may find the pairwise linear correlation coefficient to identify P.*\n",
    "\n",
    "*(4 points)*"
   ]
  },
  {
   "cell_type": "code",
   "execution_count": 2,
   "id": "bd035a28",
   "metadata": {},
   "outputs": [],
   "source": [
    "import pandas as pd\n",
    "import seaborn as sns\n",
    "import statsmodels.formula.api as smf\n",
    "import numpy as np\n",
    "import matplotlib.pyplot as plt"
   ]
  },
  {
   "cell_type": "code",
   "execution_count": 5,
   "id": "3f94e2f7",
   "metadata": {},
   "outputs": [
    {
     "data": {
      "text/html": [
       "<div>\n",
       "<style scoped>\n",
       "    .dataframe tbody tr th:only-of-type {\n",
       "        vertical-align: middle;\n",
       "    }\n",
       "\n",
       "    .dataframe tbody tr th {\n",
       "        vertical-align: top;\n",
       "    }\n",
       "\n",
       "    .dataframe thead th {\n",
       "        text-align: right;\n",
       "    }\n",
       "</style>\n",
       "<table border=\"1\" class=\"dataframe\">\n",
       "  <thead>\n",
       "    <tr style=\"text-align: right;\">\n",
       "      <th></th>\n",
       "      <th>Petrol_tax</th>\n",
       "      <th>Per_capita_income</th>\n",
       "      <th>Paved_highways</th>\n",
       "      <th>Prop_license</th>\n",
       "      <th>Petrol_consumption</th>\n",
       "    </tr>\n",
       "  </thead>\n",
       "  <tbody>\n",
       "    <tr>\n",
       "      <th>Petrol_tax</th>\n",
       "      <td>1.000000</td>\n",
       "      <td>0.082359</td>\n",
       "      <td>-0.660022</td>\n",
       "      <td>-0.223920</td>\n",
       "      <td>-0.393415</td>\n",
       "    </tr>\n",
       "    <tr>\n",
       "      <th>Per_capita_income</th>\n",
       "      <td>0.082359</td>\n",
       "      <td>1.000000</td>\n",
       "      <td>0.040256</td>\n",
       "      <td>0.048153</td>\n",
       "      <td>-0.314039</td>\n",
       "    </tr>\n",
       "    <tr>\n",
       "      <th>Paved_highways</th>\n",
       "      <td>-0.660022</td>\n",
       "      <td>0.040256</td>\n",
       "      <td>1.000000</td>\n",
       "      <td>-0.037998</td>\n",
       "      <td>0.098117</td>\n",
       "    </tr>\n",
       "    <tr>\n",
       "      <th>Prop_license</th>\n",
       "      <td>-0.223920</td>\n",
       "      <td>0.048153</td>\n",
       "      <td>-0.037998</td>\n",
       "      <td>1.000000</td>\n",
       "      <td>0.718303</td>\n",
       "    </tr>\n",
       "    <tr>\n",
       "      <th>Petrol_consumption</th>\n",
       "      <td>-0.393415</td>\n",
       "      <td>-0.314039</td>\n",
       "      <td>0.098117</td>\n",
       "      <td>0.718303</td>\n",
       "      <td>1.000000</td>\n",
       "    </tr>\n",
       "  </tbody>\n",
       "</table>\n",
       "</div>"
      ],
      "text/plain": [
       "                    Petrol_tax  Per_capita_income  Paved_highways  \\\n",
       "Petrol_tax            1.000000           0.082359       -0.660022   \n",
       "Per_capita_income     0.082359           1.000000        0.040256   \n",
       "Paved_highways       -0.660022           0.040256        1.000000   \n",
       "Prop_license         -0.223920           0.048153       -0.037998   \n",
       "Petrol_consumption   -0.393415          -0.314039        0.098117   \n",
       "\n",
       "                    Prop_license  Petrol_consumption  \n",
       "Petrol_tax             -0.223920           -0.393415  \n",
       "Per_capita_income       0.048153           -0.314039  \n",
       "Paved_highways         -0.037998            0.098117  \n",
       "Prop_license            1.000000            0.718303  \n",
       "Petrol_consumption      0.718303            1.000000  "
      ]
     },
     "execution_count": 5,
     "metadata": {},
     "output_type": "execute_result"
    }
   ],
   "source": [
    "train= pd.read_csv(\"petrol_consumption_train.csv\")\n",
    "# sns.pairplot(train)\n",
    "train.corr()"
   ]
  },
  {
   "attachments": {},
   "cell_type": "markdown",
   "id": "e6b31680",
   "metadata": {},
   "source": [
    "The varaiable that has the highest correlation with pertol_consumption is Prop_license, which a correlation factor of \n",
    "0.718303"
   ]
  },
  {
   "cell_type": "markdown",
   "id": "d9a01ec9",
   "metadata": {},
   "source": [
    "### \n",
    "Fit a simple linear regression model to predict `Petrol_consumption` based on predictor *P* (identified in the previous part). Print the model summary.\n",
    "\n",
    "*(4 points)*"
   ]
  },
  {
   "cell_type": "code",
   "execution_count": 8,
   "id": "68a04fd9",
   "metadata": {},
   "outputs": [
    {
     "name": "stdout",
     "output_type": "stream",
     "text": [
      "                            OLS Regression Results                            \n",
      "==============================================================================\n",
      "Dep. Variable:     Petrol_consumption   R-squared:                       0.516\n",
      "Model:                            OLS   Adj. R-squared:                  0.503\n",
      "Method:                 Least Squares   F-statistic:                     40.51\n",
      "Date:                Mon, 30 Jan 2023   Prob (F-statistic):           1.80e-07\n",
      "Time:                        19:41:31   Log-Likelihood:                -231.59\n",
      "No. Observations:                  40   AIC:                             467.2\n",
      "Df Residuals:                      38   BIC:                             470.5\n",
      "Df Model:                           1                                         \n",
      "Covariance Type:            nonrobust                                         \n",
      "================================================================================\n",
      "                   coef    std err          t      P>|t|      [0.025      0.975]\n",
      "--------------------------------------------------------------------------------\n",
      "Intercept     -267.6155    132.038     -2.027      0.050    -534.912      -0.319\n",
      "Prop_license  1479.1803    232.414      6.364      0.000    1008.682    1949.678\n",
      "==============================================================================\n",
      "Omnibus:                        5.963   Durbin-Watson:                   1.280\n",
      "Prob(Omnibus):                  0.051   Jarque-Bera (JB):                4.620\n",
      "Skew:                           0.762   Prob(JB):                       0.0993\n",
      "Kurtosis:                       3.670   Cond. No.                         23.9\n",
      "==============================================================================\n",
      "\n",
      "Notes:\n",
      "[1] Standard Errors assume that the covariance matrix of the errors is correctly specified.\n"
     ]
    }
   ],
   "source": [
    "Linear_model= smf.ols(formula= \"Petrol_consumption~Prop_license\", data=train)\n",
    "model = Linear_model.fit()\n",
    "print(model.summary())"
   ]
  },
  {
   "attachments": {},
   "cell_type": "markdown",
   "id": "619bdc1b",
   "metadata": {},
   "source": [
    "### \n",
    "Interpret the coefficient of `Prop_license`. What is the increase in petrol consumption for an increase of 0.05 in *P*?\n",
    "*(2+2 points)*"
   ]
  },
  {
   "attachments": {},
   "cell_type": "markdown",
   "id": "1e69b74c",
   "metadata": {},
   "source": [
    "1) The value of the intercept is 1479.1803, which is the slope and the linear assocation between between X and Y\n",
    "\n",
    "2) A 0.05 increase in P will result in a 73.95 increase in petrol consumption "
   ]
  },
  {
   "cell_type": "markdown",
   "id": "aa369a53",
   "metadata": {},
   "source": [
    "### \n",
    "Does petrol consumption have a statistically significant relationship with the predictor *P*? Justify your answer.\n",
    "\n",
    "*(4 points)*"
   ]
  },
  {
   "attachments": {},
   "cell_type": "markdown",
   "id": "8c0ce7fb",
   "metadata": {},
   "source": [
    "There is a statistically significant relationship since the p value of prop_license's p value is below 0.05 and 0.01. "
   ]
  },
  {
   "cell_type": "markdown",
   "id": "e224b584",
   "metadata": {},
   "source": [
    "### \n",
    "What is the R-squared? Interpret its value.\n",
    "\n",
    "*(4 points)*"
   ]
  },
  {
   "attachments": {},
   "cell_type": "markdown",
   "id": "e9ba21d8",
   "metadata": {},
   "source": [
    "The value of  R-squared is 0.516, which means that 51.6% of the variations in the dependent variable is explained by the independet varaible. "
   ]
  },
  {
   "cell_type": "markdown",
   "id": "571380f8",
   "metadata": {},
   "source": [
    "### \n",
    "Use the model developed above to estimate the petrol consumption for a state in which 50% of the population has a driver’s license. What are the confidence and prediction intervals for your estimate? Which interval includes the irreducible error?\n",
    "\n",
    "*(4+3+3+2 = 12 points)*"
   ]
  },
  {
   "attachments": {},
   "cell_type": "markdown",
   "id": "48583e86",
   "metadata": {},
   "source": [
    "1) Confidence interval= (431.6968, 512.252454)\n",
    "2) Prediction interval= (302.822725, 641.126528)\n",
    "3) The interval with the irreducible error is the prediction interval. "
   ]
  },
  {
   "cell_type": "code",
   "execution_count": 9,
   "id": "fbc2f1e0",
   "metadata": {},
   "outputs": [
    {
     "data": {
      "text/html": [
       "<div>\n",
       "<style scoped>\n",
       "    .dataframe tbody tr th:only-of-type {\n",
       "        vertical-align: middle;\n",
       "    }\n",
       "\n",
       "    .dataframe tbody tr th {\n",
       "        vertical-align: top;\n",
       "    }\n",
       "\n",
       "    .dataframe thead th {\n",
       "        text-align: right;\n",
       "    }\n",
       "</style>\n",
       "<table border=\"1\" class=\"dataframe\">\n",
       "  <thead>\n",
       "    <tr style=\"text-align: right;\">\n",
       "      <th></th>\n",
       "      <th>mean</th>\n",
       "      <th>mean_se</th>\n",
       "      <th>mean_ci_lower</th>\n",
       "      <th>mean_ci_upper</th>\n",
       "      <th>obs_ci_lower</th>\n",
       "      <th>obs_ci_upper</th>\n",
       "    </tr>\n",
       "  </thead>\n",
       "  <tbody>\n",
       "    <tr>\n",
       "      <th>0</th>\n",
       "      <td>471.974627</td>\n",
       "      <td>19.896237</td>\n",
       "      <td>431.6968</td>\n",
       "      <td>512.252454</td>\n",
       "      <td>302.822725</td>\n",
       "      <td>641.126528</td>\n",
       "    </tr>\n",
       "  </tbody>\n",
       "</table>\n",
       "</div>"
      ],
      "text/plain": [
       "         mean    mean_se  mean_ci_lower  mean_ci_upper  obs_ci_lower  \\\n",
       "0  471.974627  19.896237       431.6968     512.252454    302.822725   \n",
       "\n",
       "   obs_ci_upper  \n",
       "0    641.126528  "
      ]
     },
     "execution_count": 9,
     "metadata": {},
     "output_type": "execute_result"
    }
   ],
   "source": [
    "prediction = model.get_prediction(pd.DataFrame({'Prop_license':[0.5]}))\n",
    "prediction.summary_frame(alpha=0.05)\n"
   ]
  },
  {
   "cell_type": "markdown",
   "id": "786b15d3",
   "metadata": {},
   "source": [
    "### \n",
    "Use the model developed above to estimate the petrol consumption for a state in which 10% of the population has a driver’s license. Are you getting a reasonable estimate? Why or why not?\n",
    "\n",
    "*(5 points)*"
   ]
  },
  {
   "cell_type": "code",
   "execution_count": null,
   "id": "76fcdb4b",
   "metadata": {},
   "outputs": [],
   "source": [
    "prediction = model.get_prediction(pd.DataFrame({'Prop_license':[0.1]}))\n",
    "prediction.summary_frame(alpha=0.05)"
   ]
  },
  {
   "attachments": {},
   "cell_type": "markdown",
   "id": "403450a0",
   "metadata": {},
   "source": [
    "No its does not make since we are getting negative consumption estimates. "
   ]
  },
  {
   "cell_type": "markdown",
   "id": "112c3de4",
   "metadata": {},
   "source": [
    "### \n",
    "What is the residual standard error of the model?\n",
    "\n",
    "*(4 points)*"
   ]
  },
  {
   "cell_type": "code",
   "execution_count": null,
   "id": "c186a201",
   "metadata": {},
   "outputs": [],
   "source": [
    "np.sqrt(model.mse_resid)"
   ]
  },
  {
   "attachments": {},
   "cell_type": "markdown",
   "id": "4cf4b4cc",
   "metadata": {},
   "source": [
    "81.15342760294635"
   ]
  },
  {
   "cell_type": "markdown",
   "id": "7f4ee6cd",
   "metadata": {},
   "source": [
    "### \n",
    "Using the model developed above, predict the petrol consumption for the observations in *petrol_consumption_test.csv*. Find the RMSE (Root mean squared error). Include the units of RMSE in your answer.\n",
    "\n",
    "*(5 points)*"
   ]
  },
  {
   "attachments": {},
   "cell_type": "markdown",
   "id": "54ae2c4e",
   "metadata": {},
   "source": [
    "1)80.13903941152401\n",
    "2)millions of gallons"
   ]
  },
  {
   "cell_type": "code",
   "execution_count": null,
   "id": "564d04cb",
   "metadata": {},
   "outputs": [],
   "source": [
    "test= pd.read_csv(\"petrol_consumption_test.csv\")\n",
    "pred_price = model.predict(test['Prop_license'])\n",
    "np.sqrt(((test.Petrol_consumption - pred_price)**2).mean())"
   ]
  },
  {
   "cell_type": "markdown",
   "id": "28011b87",
   "metadata": {},
   "source": [
    "### \n",
    "Based on the answers to the previous two questions, do you think the model is overfitting? Justify your answer.\n",
    "\n",
    "*(4 points)*"
   ]
  },
  {
   "cell_type": "code",
   "execution_count": null,
   "id": "f66a3f3c",
   "metadata": {},
   "outputs": [],
   "source": [
    "train_pred_price = model.predict(train['Prop_license'])\n",
    "np.sqrt(((train.Petrol_consumption - train_pred_price)**2).mean())"
   ]
  },
  {
   "attachments": {},
   "cell_type": "markdown",
   "id": "8fc5ee17",
   "metadata": {},
   "source": [
    "The model is not overfitting since the RMSE for the train (79.09) is close to the RMSE of the test (80.13)"
   ]
  },
  {
   "cell_type": "markdown",
   "id": "2c986876",
   "metadata": {},
   "source": [
    "Make a scatterplot of `Petrol_consumption` vs `Prop_license` using *petrol_consumption_test.csv*. Over the scatterplot, plot the regression line, the prediction interval, and the confidence interval. Distinguish the regression line, prediction interval lines, and confidence interval lines with the following colors. Include the legend as well.\n",
    "\n",
    "- Regression line: red\n",
    "- Confidence interval lines: blue\n",
    "- Prediction interval lines: green\n",
    "\n",
    "*(4 points)*"
   ]
  },
  {
   "cell_type": "code",
   "execution_count": 23,
   "id": "96ae247f",
   "metadata": {},
   "outputs": [],
   "source": [
    "intervals = model.get_prediction(test)\n",
    "intervals.summary_frame(alpha=0.05)\n",
    "interval_table = intervals.summary_frame(alpha=0.05)"
   ]
  },
  {
   "cell_type": "code",
   "execution_count": 1,
   "id": "ddc9ee1f",
   "metadata": {},
   "outputs": [
    {
     "ename": "NameError",
     "evalue": "name 'sns' is not defined",
     "output_type": "error",
     "traceback": [
      "\u001b[0;31m---------------------------------------------------------------------------\u001b[0m",
      "\u001b[0;31mNameError\u001b[0m                                 Traceback (most recent call last)",
      "\u001b[0;32m<ipython-input-1-19d2d3fa9ba8>\u001b[0m in \u001b[0;36m<module>\u001b[0;34m\u001b[0m\n\u001b[0;32m----> 1\u001b[0;31m \u001b[0msns\u001b[0m\u001b[0;34m.\u001b[0m\u001b[0mscatterplot\u001b[0m\u001b[0;34m(\u001b[0m\u001b[0mx\u001b[0m \u001b[0;34m=\u001b[0m \u001b[0mtest\u001b[0m\u001b[0;34m.\u001b[0m\u001b[0mProp_license\u001b[0m\u001b[0;34m,\u001b[0m \u001b[0my\u001b[0m \u001b[0;34m=\u001b[0m \u001b[0mtest\u001b[0m\u001b[0;34m.\u001b[0m\u001b[0mPetrol_consumption\u001b[0m\u001b[0;34m,\u001b[0m\u001b[0mcolor\u001b[0m \u001b[0;34m=\u001b[0m \u001b[0;34m'orange'\u001b[0m\u001b[0;34m,\u001b[0m \u001b[0ms\u001b[0m \u001b[0;34m=\u001b[0m \u001b[0;36m10\u001b[0m\u001b[0;34m)\u001b[0m\u001b[0;34m\u001b[0m\u001b[0;34m\u001b[0m\u001b[0m\n\u001b[0m\u001b[1;32m      2\u001b[0m \u001b[0msns\u001b[0m\u001b[0;34m.\u001b[0m\u001b[0mlineplot\u001b[0m\u001b[0;34m(\u001b[0m\u001b[0mx\u001b[0m \u001b[0;34m=\u001b[0m \u001b[0mtest\u001b[0m\u001b[0;34m.\u001b[0m\u001b[0mProp_license\u001b[0m\u001b[0;34m,\u001b[0m \u001b[0my\u001b[0m \u001b[0;34m=\u001b[0m \u001b[0mpred_price\u001b[0m\u001b[0;34m,\u001b[0m \u001b[0mcolor\u001b[0m \u001b[0;34m=\u001b[0m \u001b[0;34m'red'\u001b[0m\u001b[0;34m)\u001b[0m\u001b[0;34m\u001b[0m\u001b[0;34m\u001b[0m\u001b[0m\n\u001b[1;32m      3\u001b[0m \u001b[0msns\u001b[0m\u001b[0;34m.\u001b[0m\u001b[0mlineplot\u001b[0m\u001b[0;34m(\u001b[0m\u001b[0mx\u001b[0m \u001b[0;34m=\u001b[0m \u001b[0mtest\u001b[0m\u001b[0;34m.\u001b[0m\u001b[0mProp_license\u001b[0m\u001b[0;34m,\u001b[0m \u001b[0my\u001b[0m \u001b[0;34m=\u001b[0m \u001b[0minterval_table\u001b[0m\u001b[0;34m.\u001b[0m\u001b[0mmean_ci_lower\u001b[0m\u001b[0;34m,\u001b[0m \u001b[0mcolor\u001b[0m \u001b[0;34m=\u001b[0m \u001b[0;34m'blue'\u001b[0m\u001b[0;34m)\u001b[0m\u001b[0;34m\u001b[0m\u001b[0;34m\u001b[0m\u001b[0m\n\u001b[1;32m      4\u001b[0m \u001b[0msns\u001b[0m\u001b[0;34m.\u001b[0m\u001b[0mlineplot\u001b[0m\u001b[0;34m(\u001b[0m\u001b[0mx\u001b[0m \u001b[0;34m=\u001b[0m \u001b[0mtest\u001b[0m\u001b[0;34m.\u001b[0m\u001b[0mProp_license\u001b[0m\u001b[0;34m,\u001b[0m \u001b[0my\u001b[0m \u001b[0;34m=\u001b[0m \u001b[0minterval_table\u001b[0m\u001b[0;34m.\u001b[0m\u001b[0mmean_ci_upper\u001b[0m\u001b[0;34m,\u001b[0m \u001b[0mcolor\u001b[0m \u001b[0;34m=\u001b[0m \u001b[0;34m'blue'\u001b[0m\u001b[0;34m,\u001b[0m\u001b[0mlabel\u001b[0m\u001b[0;34m=\u001b[0m\u001b[0;34m'_nolegend_'\u001b[0m\u001b[0;34m)\u001b[0m\u001b[0;34m\u001b[0m\u001b[0;34m\u001b[0m\u001b[0m\n\u001b[1;32m      5\u001b[0m \u001b[0msns\u001b[0m\u001b[0;34m.\u001b[0m\u001b[0mlineplot\u001b[0m\u001b[0;34m(\u001b[0m\u001b[0mx\u001b[0m \u001b[0;34m=\u001b[0m \u001b[0mtest\u001b[0m\u001b[0;34m.\u001b[0m\u001b[0mProp_license\u001b[0m\u001b[0;34m,\u001b[0m \u001b[0my\u001b[0m \u001b[0;34m=\u001b[0m \u001b[0minterval_table\u001b[0m\u001b[0;34m.\u001b[0m\u001b[0mobs_ci_lower\u001b[0m\u001b[0;34m,\u001b[0m \u001b[0mcolor\u001b[0m \u001b[0;34m=\u001b[0m \u001b[0;34m'green'\u001b[0m\u001b[0;34m)\u001b[0m\u001b[0;34m\u001b[0m\u001b[0;34m\u001b[0m\u001b[0m\n",
      "\u001b[0;31mNameError\u001b[0m: name 'sns' is not defined"
     ]
    }
   ],
   "source": [
    "sns.scatterplot(x = test.Prop_license, y = test.Petrol_consumption,color = 'orange', s = 10)\n",
    "sns.lineplot(x = test.Prop_license, y = pred_price, color = 'red')\n",
    "sns.lineplot(x = test.Prop_license, y = interval_table.mean_ci_lower, color = 'blue')\n",
    "sns.lineplot(x = test.Prop_license, y = interval_table.mean_ci_upper, color = 'blue',label='_nolegend_')\n",
    "sns.lineplot(x = test.Prop_license, y = interval_table.obs_ci_lower, color = 'green')\n",
    "sns.lineplot(x = test.Prop_license, y = interval_table.obs_ci_upper, color = 'green')\n",
    "plt.legend(labels=[\"Regression line\",\"Confidence interval\", \"Prediction interval\"])"
   ]
  },
  {
   "cell_type": "markdown",
   "id": "2c044d6e",
   "metadata": {},
   "source": [
    "Among the confidence and prediction intervals, which interval is wider, and why?\n",
    "\n",
    "*(1+2 points)*"
   ]
  },
  {
   "attachments": {},
   "cell_type": "markdown",
   "id": "f8827c0f",
   "metadata": {},
   "source": [
    "The prediction interval is wider becuase it also includes the incorrectable errors as well. "
   ]
  },
  {
   "cell_type": "markdown",
   "id": "f6a1a96c",
   "metadata": {},
   "source": [
    "### \n",
    "Find the correlation between `Petrol_consumption` and the rest of the variables in *petrol_consumption_train.csv*. Based on the correlations, a simple linear regression model with which predictor will have the least R-squared value for predicting `Petrol_consumption`. Don't develop any linear regression models.\n",
    "\n",
    "*(4 points)*"
   ]
  },
  {
   "cell_type": "code",
   "execution_count": null,
   "id": "5f60bf9b",
   "metadata": {},
   "outputs": [],
   "source": [
    "train.corrwith(train.Petrol_consumption)"
   ]
  },
  {
   "attachments": {},
   "cell_type": "markdown",
   "id": "672628ae",
   "metadata": {},
   "source": [
    "Paved highways has the least R-Squared"
   ]
  },
  {
   "cell_type": "markdown",
   "id": "28c213fd",
   "metadata": {},
   "source": [
    "**Bonus point question**\n",
    "\n",
    "*(5 points - no partial credit)*"
   ]
  },
  {
   "cell_type": "markdown",
   "id": "450a9c7f",
   "metadata": {},
   "source": [
    "### \n",
    "Fit a simple linear regression model to predict `Petrol_consumption` based on predictor *P*, but without an intercept term.\n",
    "\n",
    "*(you must answer this correctly to qualify for earning bonus points)*"
   ]
  },
  {
   "cell_type": "code",
   "execution_count": null,
   "id": "ec4e422b",
   "metadata": {},
   "outputs": [],
   "source": [
    "Linear_model2= smf.ols(formula= \"Petrol_consumption~Prop_license-1\", data=train)\n",
    "model2= Linear_model2.fit()\n",
    "model2.summary()\n"
   ]
  },
  {
   "cell_type": "markdown",
   "id": "be041d59",
   "metadata": {},
   "source": [
    "### \n",
    "Estimate the petrol consumption for the observations in *petrol_consumption_test.csv* using the model in developed in the previous question. Find the RMSE.\n",
    "\n",
    "*(you must answer this correctly to qualify for earning bonus points)*"
   ]
  },
  {
   "cell_type": "code",
   "execution_count": null,
   "id": "04c089ab",
   "metadata": {},
   "outputs": [],
   "source": [
    "test= pd.read_csv(\"petrol_consumption_test.csv\")\n",
    "pred_price2 = model2.predict(test['Prop_license'])\n",
    "np.sqrt(((test.Petrol_consumption - pred_price2)**2).mean())"
   ]
  },
  {
   "cell_type": "markdown",
   "id": "461fac34",
   "metadata": {},
   "source": [
    "### \n",
    "The RMSE for the models with and without the intercept are similar, which indicates that both models are almost equally good. However, the R-squared for the model without intercept is much higher than the R-squared for the model with the intercept. Why? Justify your answer.\n",
    "\n",
    "*(5 points)*"
   ]
  },
  {
   "attachments": {},
   "cell_type": "markdown",
   "id": "b0e4753d",
   "metadata": {},
   "source": [
    "The model without intercept is forced to pass through the origin, which means that it is not able to adjust its fit to the data as much as the model with intercept."
   ]
  }
 ],
 "metadata": {
  "kernelspec": {
   "display_name": "base",
   "language": "python",
   "name": "python3"
  },
  "language_info": {
   "codemirror_mode": {
    "name": "ipython",
    "version": 3
   },
   "file_extension": ".py",
   "mimetype": "text/x-python",
   "name": "python",
   "nbconvert_exporter": "python",
   "pygments_lexer": "ipython3",
   "version": "3.8.8"
  },
  "vscode": {
   "interpreter": {
    "hash": "9b30c500a2c6b773b3af537f6a7d82178de4caa4af23850326d13fdd2609c842"
   }
  }
 },
 "nbformat": 4,
 "nbformat_minor": 5
}

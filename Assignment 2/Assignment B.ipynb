{
 "cells": [
  {
   "cell_type": "raw",
   "id": "2d08f12d",
   "metadata": {},
   "source": [
    "---\n",
    "title: \"Assignment B\"\n",
    "format: \n",
    "  html:\n",
    "    toc: true\n",
    "    toc-title: Contents\n",
    "    toc-depth: 4\n",
    "    code-fold: show\n",
    "    self-contained: true\n",
    "jupyter: python3\n",
    "---"
   ]
  },
  {
   "cell_type": "markdown",
   "id": "6efe6ec7",
   "metadata": {},
   "source": [
    "## Instructions {-}\n",
    "\n",
    "1. You may talk to a friend, discuss the questions and potential directions for solving them. However, you need to write your own solutions and code separately, and not as a group activity. \n",
    "\n",
    "2. Do not write your name on the assignment.\n",
    "\n",
    "3. Write your code in the *Code* cells and your answer in the *Markdown* cells of the Jupyter notebook. Ensure that the solution is written neatly enough to understand and grade.\n",
    "\n",
    "4. Use [Quarto](https://quarto.org/docs/output-formats/html-basics.html) to print the *.ipynb* file as HTML. You will need to open the command prompt, navigate to the directory containing the file, and use the command: `quarto render filename.ipynb --to html`. Submit the HTML file.\n",
    "\n",
    "5. The assignment is worth 100 points, and is due on **Thursday, 26th January 2023 at 11:59 pm**. \n",
    "\n",
    "6. **Five points are properly formatting the assignment**. The breakdown is as follows:\n",
    "- Must be an HTML file rendered using Quarto (1 pt). *If you have a Quarto issue, you must mention the issue & quote the error you get when rendering using Quarto in the comments section of Canvas, and submit the ipynb file.* \n",
    "- No name can be written on the assignment, nor can there be any indicator of the student’s identity—e.g. printouts of the working directory should not be included in the final submission  (1 pt)\n",
    "- There aren’t excessively long outputs of extraneous information (e.g. no printouts of entire data frames without good reason, there aren’t long printouts of which iteration a loop is on, there aren’t long sections of commented-out code, etc.) (1 pt)\n",
    "- Final answers of each question are written in Markdown cells (1 pt).\n",
    "- There is no piece of unnecessary / redundant code, and no unnecessary / redundant text (1 pt)"
   ]
  },
  {
   "cell_type": "markdown",
   "id": "93d691ac",
   "metadata": {},
   "source": [
    "## Multiple linear regression"
   ]
  },
  {
   "cell_type": "markdown",
   "id": "76ef6e03",
   "metadata": {},
   "source": [
    "A study was conducted on 97 men with prostate cancer who were due to receive a radical prostatectomy. The dataset *prostate.csv* contains data on 9 measurements made on these 97 men. The description of variables can be found [here](https://rafalab.github.io/pages/649/prostate.html):"
   ]
  },
  {
   "cell_type": "markdown",
   "id": "659b081f",
   "metadata": {},
   "source": [
    "### Training MLR\n",
    "Fit a linear regression model with `lpsa` as the response and all the other variables as predictors. Write down the equation to predict `lpsa` based on the other eight variables.\n",
    "\n",
    "*(2+2 points)*"
   ]
  },
  {
   "cell_type": "code",
   "execution_count": 1,
   "id": "aa65d00c",
   "metadata": {},
   "outputs": [],
   "source": [
    "import pandas as pd\n",
    "import numpy as np\n",
    "import statsmodels.formula.api as smf\n",
    "import seaborn as sns\n",
    "import matplotlib.pyplot as plt"
   ]
  },
  {
   "cell_type": "code",
   "execution_count": 2,
   "id": "aaaeda5c",
   "metadata": {},
   "outputs": [
    {
     "data": {
      "text/html": [
       "<div>\n",
       "<style scoped>\n",
       "    .dataframe tbody tr th:only-of-type {\n",
       "        vertical-align: middle;\n",
       "    }\n",
       "\n",
       "    .dataframe tbody tr th {\n",
       "        vertical-align: top;\n",
       "    }\n",
       "\n",
       "    .dataframe thead th {\n",
       "        text-align: right;\n",
       "    }\n",
       "</style>\n",
       "<table border=\"1\" class=\"dataframe\">\n",
       "  <thead>\n",
       "    <tr style=\"text-align: right;\">\n",
       "      <th></th>\n",
       "      <th>lcavol</th>\n",
       "      <th>lweight</th>\n",
       "      <th>age</th>\n",
       "      <th>lbph</th>\n",
       "      <th>svi</th>\n",
       "      <th>lcp</th>\n",
       "      <th>gleason</th>\n",
       "      <th>pgg45</th>\n",
       "      <th>lpsa</th>\n",
       "    </tr>\n",
       "  </thead>\n",
       "  <tbody>\n",
       "    <tr>\n",
       "      <th>0</th>\n",
       "      <td>-0.579819</td>\n",
       "      <td>2.7695</td>\n",
       "      <td>50</td>\n",
       "      <td>-1.386294</td>\n",
       "      <td>0</td>\n",
       "      <td>-1.38629</td>\n",
       "      <td>6</td>\n",
       "      <td>0</td>\n",
       "      <td>-0.43078</td>\n",
       "    </tr>\n",
       "    <tr>\n",
       "      <th>1</th>\n",
       "      <td>-0.994252</td>\n",
       "      <td>3.3196</td>\n",
       "      <td>58</td>\n",
       "      <td>-1.386294</td>\n",
       "      <td>0</td>\n",
       "      <td>-1.38629</td>\n",
       "      <td>6</td>\n",
       "      <td>0</td>\n",
       "      <td>-0.16252</td>\n",
       "    </tr>\n",
       "    <tr>\n",
       "      <th>2</th>\n",
       "      <td>-0.510826</td>\n",
       "      <td>2.6912</td>\n",
       "      <td>74</td>\n",
       "      <td>-1.386294</td>\n",
       "      <td>0</td>\n",
       "      <td>-1.38629</td>\n",
       "      <td>7</td>\n",
       "      <td>20</td>\n",
       "      <td>-0.16252</td>\n",
       "    </tr>\n",
       "    <tr>\n",
       "      <th>3</th>\n",
       "      <td>-1.203973</td>\n",
       "      <td>3.2828</td>\n",
       "      <td>58</td>\n",
       "      <td>-1.386294</td>\n",
       "      <td>0</td>\n",
       "      <td>-1.38629</td>\n",
       "      <td>6</td>\n",
       "      <td>0</td>\n",
       "      <td>-0.16252</td>\n",
       "    </tr>\n",
       "    <tr>\n",
       "      <th>4</th>\n",
       "      <td>0.751416</td>\n",
       "      <td>3.4324</td>\n",
       "      <td>62</td>\n",
       "      <td>-1.386294</td>\n",
       "      <td>0</td>\n",
       "      <td>-1.38629</td>\n",
       "      <td>6</td>\n",
       "      <td>0</td>\n",
       "      <td>0.37156</td>\n",
       "    </tr>\n",
       "  </tbody>\n",
       "</table>\n",
       "</div>"
      ],
      "text/plain": [
       "     lcavol  lweight  age      lbph  svi      lcp  gleason  pgg45     lpsa\n",
       "0 -0.579819   2.7695   50 -1.386294    0 -1.38629        6      0 -0.43078\n",
       "1 -0.994252   3.3196   58 -1.386294    0 -1.38629        6      0 -0.16252\n",
       "2 -0.510826   2.6912   74 -1.386294    0 -1.38629        7     20 -0.16252\n",
       "3 -1.203973   3.2828   58 -1.386294    0 -1.38629        6      0 -0.16252\n",
       "4  0.751416   3.4324   62 -1.386294    0 -1.38629        6      0  0.37156"
      ]
     },
     "execution_count": 2,
     "metadata": {},
     "output_type": "execute_result"
    }
   ],
   "source": [
    "train = pd.read_csv('prostate.csv')\n",
    "train.head()"
   ]
  },
  {
   "cell_type": "code",
   "execution_count": 3,
   "id": "41bb24a3",
   "metadata": {},
   "outputs": [
    {
     "data": {
      "text/html": [
       "<table class=\"simpletable\">\n",
       "<caption>OLS Regression Results</caption>\n",
       "<tr>\n",
       "  <th>Dep. Variable:</th>          <td>lpsa</td>       <th>  R-squared:         </th> <td>   0.655</td>\n",
       "</tr>\n",
       "<tr>\n",
       "  <th>Model:</th>                   <td>OLS</td>       <th>  Adj. R-squared:    </th> <td>   0.623</td>\n",
       "</tr>\n",
       "<tr>\n",
       "  <th>Method:</th>             <td>Least Squares</td>  <th>  F-statistic:       </th> <td>   20.86</td>\n",
       "</tr>\n",
       "<tr>\n",
       "  <th>Date:</th>             <td>Wed, 01 Feb 2023</td> <th>  Prob (F-statistic):</th> <td>2.24e-17</td>\n",
       "</tr>\n",
       "<tr>\n",
       "  <th>Time:</th>                 <td>11:12:06</td>     <th>  Log-Likelihood:    </th> <td> -99.476</td>\n",
       "</tr>\n",
       "<tr>\n",
       "  <th>No. Observations:</th>      <td>    97</td>      <th>  AIC:               </th> <td>   217.0</td>\n",
       "</tr>\n",
       "<tr>\n",
       "  <th>Df Residuals:</th>          <td>    88</td>      <th>  BIC:               </th> <td>   240.1</td>\n",
       "</tr>\n",
       "<tr>\n",
       "  <th>Df Model:</th>              <td>     8</td>      <th>                     </th>     <td> </td>   \n",
       "</tr>\n",
       "<tr>\n",
       "  <th>Covariance Type:</th>      <td>nonrobust</td>    <th>                     </th>     <td> </td>   \n",
       "</tr>\n",
       "</table>\n",
       "<table class=\"simpletable\">\n",
       "<tr>\n",
       "      <td></td>         <th>coef</th>     <th>std err</th>      <th>t</th>      <th>P>|t|</th>  <th>[0.025</th>    <th>0.975]</th>  \n",
       "</tr>\n",
       "<tr>\n",
       "  <th>Intercept</th> <td>    0.6693</td> <td>    1.296</td> <td>    0.516</td> <td> 0.607</td> <td>   -1.907</td> <td>    3.246</td>\n",
       "</tr>\n",
       "<tr>\n",
       "  <th>lcavol</th>    <td>    0.5870</td> <td>    0.088</td> <td>    6.677</td> <td> 0.000</td> <td>    0.412</td> <td>    0.762</td>\n",
       "</tr>\n",
       "<tr>\n",
       "  <th>lweight</th>   <td>    0.4545</td> <td>    0.170</td> <td>    2.673</td> <td> 0.009</td> <td>    0.117</td> <td>    0.792</td>\n",
       "</tr>\n",
       "<tr>\n",
       "  <th>age</th>       <td>   -0.0196</td> <td>    0.011</td> <td>   -1.758</td> <td> 0.082</td> <td>   -0.042</td> <td>    0.003</td>\n",
       "</tr>\n",
       "<tr>\n",
       "  <th>lbph</th>      <td>    0.1071</td> <td>    0.058</td> <td>    1.832</td> <td> 0.070</td> <td>   -0.009</td> <td>    0.223</td>\n",
       "</tr>\n",
       "<tr>\n",
       "  <th>svi</th>       <td>    0.7662</td> <td>    0.244</td> <td>    3.136</td> <td> 0.002</td> <td>    0.281</td> <td>    1.252</td>\n",
       "</tr>\n",
       "<tr>\n",
       "  <th>lcp</th>       <td>   -0.1055</td> <td>    0.091</td> <td>   -1.159</td> <td> 0.250</td> <td>   -0.286</td> <td>    0.075</td>\n",
       "</tr>\n",
       "<tr>\n",
       "  <th>gleason</th>   <td>    0.0451</td> <td>    0.157</td> <td>    0.287</td> <td> 0.775</td> <td>   -0.268</td> <td>    0.358</td>\n",
       "</tr>\n",
       "<tr>\n",
       "  <th>pgg45</th>     <td>    0.0045</td> <td>    0.004</td> <td>    1.024</td> <td> 0.309</td> <td>   -0.004</td> <td>    0.013</td>\n",
       "</tr>\n",
       "</table>\n",
       "<table class=\"simpletable\">\n",
       "<tr>\n",
       "  <th>Omnibus:</th>       <td> 0.235</td> <th>  Durbin-Watson:     </th> <td>   1.507</td>\n",
       "</tr>\n",
       "<tr>\n",
       "  <th>Prob(Omnibus):</th> <td> 0.889</td> <th>  Jarque-Bera (JB):  </th> <td>   0.026</td>\n",
       "</tr>\n",
       "<tr>\n",
       "  <th>Skew:</th>          <td>-0.017</td> <th>  Prob(JB):          </th> <td>   0.987</td>\n",
       "</tr>\n",
       "<tr>\n",
       "  <th>Kurtosis:</th>      <td> 3.073</td> <th>  Cond. No.          </th> <td>1.28e+03</td>\n",
       "</tr>\n",
       "</table><br/><br/>Notes:<br/>[1] Standard Errors assume that the covariance matrix of the errors is correctly specified.<br/>[2] The condition number is large, 1.28e+03. This might indicate that there are<br/>strong multicollinearity or other numerical problems."
      ],
      "text/plain": [
       "<class 'statsmodels.iolib.summary.Summary'>\n",
       "\"\"\"\n",
       "                            OLS Regression Results                            \n",
       "==============================================================================\n",
       "Dep. Variable:                   lpsa   R-squared:                       0.655\n",
       "Model:                            OLS   Adj. R-squared:                  0.623\n",
       "Method:                 Least Squares   F-statistic:                     20.86\n",
       "Date:                Wed, 01 Feb 2023   Prob (F-statistic):           2.24e-17\n",
       "Time:                        11:12:06   Log-Likelihood:                -99.476\n",
       "No. Observations:                  97   AIC:                             217.0\n",
       "Df Residuals:                      88   BIC:                             240.1\n",
       "Df Model:                           8                                         \n",
       "Covariance Type:            nonrobust                                         \n",
       "==============================================================================\n",
       "                 coef    std err          t      P>|t|      [0.025      0.975]\n",
       "------------------------------------------------------------------------------\n",
       "Intercept      0.6693      1.296      0.516      0.607      -1.907       3.246\n",
       "lcavol         0.5870      0.088      6.677      0.000       0.412       0.762\n",
       "lweight        0.4545      0.170      2.673      0.009       0.117       0.792\n",
       "age           -0.0196      0.011     -1.758      0.082      -0.042       0.003\n",
       "lbph           0.1071      0.058      1.832      0.070      -0.009       0.223\n",
       "svi            0.7662      0.244      3.136      0.002       0.281       1.252\n",
       "lcp           -0.1055      0.091     -1.159      0.250      -0.286       0.075\n",
       "gleason        0.0451      0.157      0.287      0.775      -0.268       0.358\n",
       "pgg45          0.0045      0.004      1.024      0.309      -0.004       0.013\n",
       "==============================================================================\n",
       "Omnibus:                        0.235   Durbin-Watson:                   1.507\n",
       "Prob(Omnibus):                  0.889   Jarque-Bera (JB):                0.026\n",
       "Skew:                          -0.017   Prob(JB):                        0.987\n",
       "Kurtosis:                       3.073   Cond. No.                     1.28e+03\n",
       "==============================================================================\n",
       "\n",
       "Notes:\n",
       "[1] Standard Errors assume that the covariance matrix of the errors is correctly specified.\n",
       "[2] The condition number is large, 1.28e+03. This might indicate that there are\n",
       "strong multicollinearity or other numerical problems.\n",
       "\"\"\""
      ]
     },
     "execution_count": 3,
     "metadata": {},
     "output_type": "execute_result"
    }
   ],
   "source": [
    "ols_object = smf.ols(formula = 'lpsa~lcavol+lweight+age+lbph+svi+lcp+gleason+pgg45', data = train)\n",
    "model = ols_object.fit()\n",
    "model.summary()"
   ]
  },
  {
   "attachments": {},
   "cell_type": "markdown",
   "id": "77e6c42c",
   "metadata": {},
   "source": [
    "lpsa= 0.6693+0.5870*lcavol+0.4545*lweight-0.0196*age+0.1071*lbph+0.7662*svi-0.1055*lcp+0.0451*gleason+0.0045*pgg45"
   ]
  },
  {
   "cell_type": "markdown",
   "id": "0275c2f6",
   "metadata": {},
   "source": [
    "### Model significance\n",
    "Is the overall regression significant at 5% level? Justify your answer.\n",
    "\n",
    "*(2 points)*"
   ]
  },
  {
   "attachments": {},
   "cell_type": "markdown",
   "id": "8d607a37",
   "metadata": {},
   "source": [
    "Yes it is significant since the F value is below 0.05. "
   ]
  },
  {
   "cell_type": "markdown",
   "id": "77b92cbc",
   "metadata": {},
   "source": [
    "### Coefficient interpretation\n",
    "Interpret the coefficient of `svi`.\n",
    "\n",
    "*(2 points)*"
   ]
  },
  {
   "attachments": {},
   "cell_type": "markdown",
   "id": "3945dd6f",
   "metadata": {},
   "source": [
    "A one unit change in svi will result in a 0.7662 increase in lpsa while holding all other independent variables constant."
   ]
  },
  {
   "cell_type": "markdown",
   "id": "457b732c",
   "metadata": {},
   "source": [
    "### Variable significance\n",
    "Report the $p$-values for `gleason` and `age`. What do you conclude about the significance of these variables?\n",
    "\n",
    "*(2+2 points)*"
   ]
  },
  {
   "attachments": {},
   "cell_type": "markdown",
   "id": "f54d220e",
   "metadata": {},
   "source": [
    "1) The P value of gleason is 0.775, which means it is not statistically significant at 0.05\n",
    "2) The P value of gleason is 0.082, which means it is not statistically significant at 0.05"
   ]
  },
  {
   "cell_type": "markdown",
   "id": "018d7f02",
   "metadata": {},
   "source": [
    "### Variable significance from confidence interval\n",
    "What is the 95% confidence interval for the coefficient of `age`? Can you conclude anything about its significance based on the confidence interval?\n",
    "\n",
    "*(2+2 points)*"
   ]
  },
  {
   "cell_type": "code",
   "execution_count": null,
   "id": "ce36c2cc",
   "metadata": {},
   "outputs": [],
   "source": [
    "conf = model.conf_int(alpha=0.05)\n",
    "print(conf)\n"
   ]
  },
  {
   "attachments": {},
   "cell_type": "markdown",
   "id": "e20f04c3",
   "metadata": {},
   "source": [
    "1. The confidence interaval is (-0.041841,0.002566). Since there is a 0 in between the values, it means that the effect of age on the dependent variable is not statistically significant. "
   ]
  },
  {
   "cell_type": "markdown",
   "id": "9da0f731",
   "metadata": {},
   "source": [
    "### $p$-value\n",
    "Fit a simple linear regression on `lpsa` against `gleason`. What is the $p$-value for `gleason`?\n",
    "\n",
    "*(1+1 points)*"
   ]
  },
  {
   "cell_type": "code",
   "execution_count": 57,
   "id": "3c3b6874",
   "metadata": {},
   "outputs": [
    {
     "data": {
      "text/html": [
       "<table class=\"simpletable\">\n",
       "<caption>OLS Regression Results</caption>\n",
       "<tr>\n",
       "  <th>Dep. Variable:</th>          <td>lpsa</td>       <th>  R-squared:         </th> <td>   0.136</td>\n",
       "</tr>\n",
       "<tr>\n",
       "  <th>Model:</th>                   <td>OLS</td>       <th>  Adj. R-squared:    </th> <td>   0.127</td>\n",
       "</tr>\n",
       "<tr>\n",
       "  <th>Method:</th>             <td>Least Squares</td>  <th>  F-statistic:       </th> <td>   14.97</td>\n",
       "</tr>\n",
       "<tr>\n",
       "  <th>Date:</th>             <td>Sun, 29 Jan 2023</td> <th>  Prob (F-statistic):</th> <td>0.000200</td>\n",
       "</tr>\n",
       "<tr>\n",
       "  <th>Time:</th>                 <td>22:26:06</td>     <th>  Log-Likelihood:    </th> <td> -143.96</td>\n",
       "</tr>\n",
       "<tr>\n",
       "  <th>No. Observations:</th>      <td>    97</td>      <th>  AIC:               </th> <td>   291.9</td>\n",
       "</tr>\n",
       "<tr>\n",
       "  <th>Df Residuals:</th>          <td>    95</td>      <th>  BIC:               </th> <td>   297.1</td>\n",
       "</tr>\n",
       "<tr>\n",
       "  <th>Df Model:</th>              <td>     1</td>      <th>                     </th>     <td> </td>   \n",
       "</tr>\n",
       "<tr>\n",
       "  <th>Covariance Type:</th>      <td>nonrobust</td>    <th>                     </th>     <td> </td>   \n",
       "</tr>\n",
       "</table>\n",
       "<table class=\"simpletable\">\n",
       "<tr>\n",
       "      <td></td>         <th>coef</th>     <th>std err</th>      <th>t</th>      <th>P>|t|</th>  <th>[0.025</th>    <th>0.975]</th>  \n",
       "</tr>\n",
       "<tr>\n",
       "  <th>Intercept</th> <td>   -1.5044</td> <td>    1.035</td> <td>   -1.453</td> <td> 0.149</td> <td>   -3.559</td> <td>    0.550</td>\n",
       "</tr>\n",
       "<tr>\n",
       "  <th>gleason</th>   <td>    0.5898</td> <td>    0.152</td> <td>    3.869</td> <td> 0.000</td> <td>    0.287</td> <td>    0.892</td>\n",
       "</tr>\n",
       "</table>\n",
       "<table class=\"simpletable\">\n",
       "<tr>\n",
       "  <th>Omnibus:</th>       <td> 2.099</td> <th>  Durbin-Watson:     </th> <td>   0.245</td>\n",
       "</tr>\n",
       "<tr>\n",
       "  <th>Prob(Omnibus):</th> <td> 0.350</td> <th>  Jarque-Bera (JB):  </th> <td>   1.526</td>\n",
       "</tr>\n",
       "<tr>\n",
       "  <th>Skew:</th>          <td> 0.178</td> <th>  Prob(JB):          </th> <td>   0.466</td>\n",
       "</tr>\n",
       "<tr>\n",
       "  <th>Kurtosis:</th>      <td> 3.501</td> <th>  Cond. No.          </th> <td>    65.6</td>\n",
       "</tr>\n",
       "</table><br/><br/>Notes:<br/>[1] Standard Errors assume that the covariance matrix of the errors is correctly specified."
      ],
      "text/plain": [
       "<class 'statsmodels.iolib.summary.Summary'>\n",
       "\"\"\"\n",
       "                            OLS Regression Results                            \n",
       "==============================================================================\n",
       "Dep. Variable:                   lpsa   R-squared:                       0.136\n",
       "Model:                            OLS   Adj. R-squared:                  0.127\n",
       "Method:                 Least Squares   F-statistic:                     14.97\n",
       "Date:                Sun, 29 Jan 2023   Prob (F-statistic):           0.000200\n",
       "Time:                        22:26:06   Log-Likelihood:                -143.96\n",
       "No. Observations:                  97   AIC:                             291.9\n",
       "Df Residuals:                      95   BIC:                             297.1\n",
       "Df Model:                           1                                         \n",
       "Covariance Type:            nonrobust                                         \n",
       "==============================================================================\n",
       "                 coef    std err          t      P>|t|      [0.025      0.975]\n",
       "------------------------------------------------------------------------------\n",
       "Intercept     -1.5044      1.035     -1.453      0.149      -3.559       0.550\n",
       "gleason        0.5898      0.152      3.869      0.000       0.287       0.892\n",
       "==============================================================================\n",
       "Omnibus:                        2.099   Durbin-Watson:                   0.245\n",
       "Prob(Omnibus):                  0.350   Jarque-Bera (JB):                1.526\n",
       "Skew:                           0.178   Prob(JB):                        0.466\n",
       "Kurtosis:                       3.501   Cond. No.                         65.6\n",
       "==============================================================================\n",
       "\n",
       "Notes:\n",
       "[1] Standard Errors assume that the covariance matrix of the errors is correctly specified.\n",
       "\"\"\""
      ]
     },
     "execution_count": 57,
     "metadata": {},
     "output_type": "execute_result"
    }
   ],
   "source": [
    "ols_objectSimple = smf.ols(formula = 'lpsa~gleason', data = train)\n",
    "modelSimple = ols_objectSimple.fit()\n",
    "modelSimple.summary()"
   ]
  },
  {
   "attachments": {},
   "cell_type": "markdown",
   "id": "6eea699d",
   "metadata": {},
   "source": [
    "The p value of gleason is 0.000. "
   ]
  },
  {
   "cell_type": "markdown",
   "id": "c53ae811",
   "metadata": {},
   "source": [
    "### Predictor significance in presence / absence of other predictors\n",
    "Is the predictor `gleason` statistically significant in the model developed in the previous question *(B.1.6)*? \n",
    "\n",
    "Was `gleason` statistically significant in the model developed in the first question *(B.1.1)* with multiple predictors?\n",
    "\n",
    "Did the statistical significance of `gleason` change in the absence of other predictors? Why or why not?\n",
    "\n",
    "*(1+1+4 points)*"
   ]
  },
  {
   "attachments": {},
   "cell_type": "markdown",
   "id": "aa8329a8",
   "metadata": {},
   "source": [
    "Gleason is statistically significant in the simple linear regression. However, it was not statistically significant in the multiple linear regression model. The statistical significance of gleason has changed with the absense of the other predictors. \n",
    "\n",
    "The reason for this is multicollinearity, meaning that gleason has a correlation with another regressor. "
   ]
  },
  {
   "cell_type": "markdown",
   "id": "2e88fb07",
   "metadata": {},
   "source": [
    "### Prediction\n",
    "Predict `lpsa` of a 65-year old man with `lcavol` = 1.35, `lweight` = 3.65, `lbph` = 0.1, `svi` = 0.22, `lcp` = -0.18, `gleason` = 6.75, and `pgg45` = 25 and find 95% prediction intervals.\n",
    "\n",
    "*(2 points)*"
   ]
  },
  {
   "cell_type": "code",
   "execution_count": 5,
   "id": "48d0bd38",
   "metadata": {},
   "outputs": [
    {
     "name": "stdout",
     "output_type": "stream",
     "text": [
      "0    2.460288\n",
      "dtype: float64\n"
     ]
    }
   ],
   "source": [
    "data = {'lcavol': [1.35],'age' : 65,'lweight': [3.65],'lweight' : [3.65],'lbph' : [0.1],'svi' : 0.22,'lcp' : -0.18,\n",
    "       'gleason': 6.75,\n",
    "       'pgg45' : 25}\n",
    "\n",
    "dataframe = pd.DataFrame(data)\n",
    "prediction = model.predict(dataframe)\n",
    "print(prediction[0])\n"
   ]
  },
  {
   "cell_type": "code",
   "execution_count": 14,
   "id": "5ec1c3dd",
   "metadata": {},
   "outputs": [
    {
     "data": {
      "text/html": [
       "<div>\n",
       "<style scoped>\n",
       "    .dataframe tbody tr th:only-of-type {\n",
       "        vertical-align: middle;\n",
       "    }\n",
       "\n",
       "    .dataframe tbody tr th {\n",
       "        vertical-align: top;\n",
       "    }\n",
       "\n",
       "    .dataframe thead th {\n",
       "        text-align: right;\n",
       "    }\n",
       "</style>\n",
       "<table border=\"1\" class=\"dataframe\">\n",
       "  <thead>\n",
       "    <tr style=\"text-align: right;\">\n",
       "      <th></th>\n",
       "      <th>mean</th>\n",
       "      <th>mean_se</th>\n",
       "      <th>mean_ci_lower</th>\n",
       "      <th>mean_ci_upper</th>\n",
       "      <th>obs_ci_lower</th>\n",
       "      <th>obs_ci_upper</th>\n",
       "    </tr>\n",
       "  </thead>\n",
       "  <tbody>\n",
       "    <tr>\n",
       "      <th>0</th>\n",
       "      <td>2.460288</td>\n",
       "      <td>0.073052</td>\n",
       "      <td>2.315113</td>\n",
       "      <td>2.605463</td>\n",
       "      <td>1.044995</td>\n",
       "      <td>3.87558</td>\n",
       "    </tr>\n",
       "  </tbody>\n",
       "</table>\n",
       "</div>"
      ],
      "text/plain": [
       "       mean   mean_se  mean_ci_lower  mean_ci_upper  obs_ci_lower  \\\n",
       "0  2.460288  0.073052       2.315113       2.605463      1.044995   \n",
       "\n",
       "   obs_ci_upper  \n",
       "0       3.87558  "
      ]
     },
     "execution_count": 14,
     "metadata": {},
     "output_type": "execute_result"
    }
   ],
   "source": [
    "intervals = model.get_prediction(dataframe)\n",
    "intervals.summary_frame(alpha=0.05)"
   ]
  },
  {
   "attachments": {},
   "cell_type": "markdown",
   "id": "e70038e2",
   "metadata": {},
   "source": [
    "The lpsa is 2.460287801901289. Confidence interval is (1.044995, 3.87558)"
   ]
  },
  {
   "cell_type": "markdown",
   "id": "63b55c67",
   "metadata": {},
   "source": [
    "### Variable selection\n",
    "Find the largest subset of predictors in the model developed in the first question *(B.1.1)*, such that their coefficients are zero, i.e., none of the predictors in the subset are statistically significant. \n",
    "\n",
    "Does the model $R$-squared change a lot if you remove the set of predictors identifed above from the model in the first question *(B.1.1)*?\n",
    "\n",
    "**Hint:** You may use the `f_test()` method to test hypotheses.\n",
    "\n",
    "*(4+1 points)*"
   ]
  },
  {
   "cell_type": "code",
   "execution_count": 15,
   "id": "79ac982b",
   "metadata": {},
   "outputs": [
    {
     "name": "stdout",
     "output_type": "stream",
     "text": [
      "<F test: F=array([[17.41143004]]), p=5.978359304883992e-12, df_denom=88, df_num=5>\n"
     ]
    }
   ],
   "source": [
    "Predictorsubset = ['lcavol', 'lweight', 'age', 'lbph','svi']\n",
    "\n",
    "hypothesis = ' = '.join(Predictorsubset) + ' = 0'\n",
    "\n",
    "f_test = model.f_test(hypothesis)\n",
    "\n",
    "print(f_test)"
   ]
  },
  {
   "cell_type": "code",
   "execution_count": 17,
   "id": "a9a2a864",
   "metadata": {},
   "outputs": [
    {
     "data": {
      "text/html": [
       "<table class=\"simpletable\">\n",
       "<caption>OLS Regression Results</caption>\n",
       "<tr>\n",
       "  <th>Dep. Variable:</th>          <td>lpsa</td>       <th>  R-squared:         </th> <td>   0.313</td>\n",
       "</tr>\n",
       "<tr>\n",
       "  <th>Model:</th>                   <td>OLS</td>       <th>  Adj. R-squared:    </th> <td>   0.291</td>\n",
       "</tr>\n",
       "<tr>\n",
       "  <th>Method:</th>             <td>Least Squares</td>  <th>  F-statistic:       </th> <td>   14.14</td>\n",
       "</tr>\n",
       "<tr>\n",
       "  <th>Date:</th>             <td>Sun, 29 Jan 2023</td> <th>  Prob (F-statistic):</th> <td>1.15e-07</td>\n",
       "</tr>\n",
       "<tr>\n",
       "  <th>Time:</th>                 <td>20:57:20</td>     <th>  Log-Likelihood:    </th> <td> -132.83</td>\n",
       "</tr>\n",
       "<tr>\n",
       "  <th>No. Observations:</th>      <td>    97</td>      <th>  AIC:               </th> <td>   273.7</td>\n",
       "</tr>\n",
       "<tr>\n",
       "  <th>Df Residuals:</th>          <td>    93</td>      <th>  BIC:               </th> <td>   284.0</td>\n",
       "</tr>\n",
       "<tr>\n",
       "  <th>Df Model:</th>              <td>     3</td>      <th>                     </th>     <td> </td>   \n",
       "</tr>\n",
       "<tr>\n",
       "  <th>Covariance Type:</th>      <td>nonrobust</td>    <th>                     </th>     <td> </td>   \n",
       "</tr>\n",
       "</table>\n",
       "<table class=\"simpletable\">\n",
       "<tr>\n",
       "      <td></td>         <th>coef</th>     <th>std err</th>      <th>t</th>      <th>P>|t|</th>  <th>[0.025</th>    <th>0.975]</th>  \n",
       "</tr>\n",
       "<tr>\n",
       "  <th>Intercept</th> <td>    1.6584</td> <td>    1.329</td> <td>    1.248</td> <td> 0.215</td> <td>   -0.981</td> <td>    4.298</td>\n",
       "</tr>\n",
       "<tr>\n",
       "  <th>lcp</th>       <td>    0.3832</td> <td>    0.092</td> <td>    4.176</td> <td> 0.000</td> <td>    0.201</td> <td>    0.566</td>\n",
       "</tr>\n",
       "<tr>\n",
       "  <th>gleason</th>   <td>    0.1209</td> <td>    0.209</td> <td>    0.579</td> <td> 0.564</td> <td>   -0.294</td> <td>    0.536</td>\n",
       "</tr>\n",
       "<tr>\n",
       "  <th>pgg45</th>     <td>    0.0030</td> <td>    0.006</td> <td>    0.500</td> <td> 0.618</td> <td>   -0.009</td> <td>    0.015</td>\n",
       "</tr>\n",
       "</table>\n",
       "<table class=\"simpletable\">\n",
       "<tr>\n",
       "  <th>Omnibus:</th>       <td> 0.017</td> <th>  Durbin-Watson:     </th> <td>   0.619</td>\n",
       "</tr>\n",
       "<tr>\n",
       "  <th>Prob(Omnibus):</th> <td> 0.992</td> <th>  Jarque-Bera (JB):  </th> <td>   0.032</td>\n",
       "</tr>\n",
       "<tr>\n",
       "  <th>Skew:</th>          <td>-0.006</td> <th>  Prob(JB):          </th> <td>   0.984</td>\n",
       "</tr>\n",
       "<tr>\n",
       "  <th>Kurtosis:</th>      <td> 2.912</td> <th>  Cond. No.          </th> <td>    511.</td>\n",
       "</tr>\n",
       "</table><br/><br/>Notes:<br/>[1] Standard Errors assume that the covariance matrix of the errors is correctly specified."
      ],
      "text/plain": [
       "<class 'statsmodels.iolib.summary.Summary'>\n",
       "\"\"\"\n",
       "                            OLS Regression Results                            \n",
       "==============================================================================\n",
       "Dep. Variable:                   lpsa   R-squared:                       0.313\n",
       "Model:                            OLS   Adj. R-squared:                  0.291\n",
       "Method:                 Least Squares   F-statistic:                     14.14\n",
       "Date:                Sun, 29 Jan 2023   Prob (F-statistic):           1.15e-07\n",
       "Time:                        20:57:20   Log-Likelihood:                -132.83\n",
       "No. Observations:                  97   AIC:                             273.7\n",
       "Df Residuals:                      93   BIC:                             284.0\n",
       "Df Model:                           3                                         \n",
       "Covariance Type:            nonrobust                                         \n",
       "==============================================================================\n",
       "                 coef    std err          t      P>|t|      [0.025      0.975]\n",
       "------------------------------------------------------------------------------\n",
       "Intercept      1.6584      1.329      1.248      0.215      -0.981       4.298\n",
       "lcp            0.3832      0.092      4.176      0.000       0.201       0.566\n",
       "gleason        0.1209      0.209      0.579      0.564      -0.294       0.536\n",
       "pgg45          0.0030      0.006      0.500      0.618      -0.009       0.015\n",
       "==============================================================================\n",
       "Omnibus:                        0.017   Durbin-Watson:                   0.619\n",
       "Prob(Omnibus):                  0.992   Jarque-Bera (JB):                0.032\n",
       "Skew:                          -0.006   Prob(JB):                        0.984\n",
       "Kurtosis:                       2.912   Cond. No.                         511.\n",
       "==============================================================================\n",
       "\n",
       "Notes:\n",
       "[1] Standard Errors assume that the covariance matrix of the errors is correctly specified.\n",
       "\"\"\""
      ]
     },
     "execution_count": 17,
     "metadata": {},
     "output_type": "execute_result"
    }
   ],
   "source": [
    "ols_object = smf.ols(formula = 'lpsa~lcp+gleason+pgg45', data = train)\n",
    "model_good = ols_object.fit()\n",
    "model_good.summary()\n"
   ]
  },
  {
   "attachments": {},
   "cell_type": "markdown",
   "id": "65517364",
   "metadata": {},
   "source": [
    "The R squared dropped from 0.655 to 0.313. "
   ]
  },
  {
   "cell_type": "markdown",
   "id": "4393cced-a26a-47a9-a23d-cba029eeaf27",
   "metadata": {},
   "source": [
    "## Using MLR coefficients and variable transformation\n",
    "\n",
    "The dataset *infmort.csv* gives the infant mortality of different countries in the world. The column `mortality` contains the infant mortality in deaths per 1000 births."
   ]
  },
  {
   "cell_type": "markdown",
   "id": "a2d1b785",
   "metadata": {},
   "source": [
    "###  Data visualisation\n",
    "Make the following plots:\n",
    "\n",
    "1. a boxplot of log(`mortality`) against `region` *(note that a plot of log(`mortality`) against `region` better distinguishes the mortality among regions as compared to a plot of `mortality` against `region`*, \n",
    "\n",
    "2. a boxplot of `income` against `region`, and \n",
    "\n",
    "3. a scatter plot of `mortality` against `income`. \n",
    "\n",
    "What trends do you see in these plots? *Mention the trend separately for each plot.*\n",
    "\n",
    "*(3+2 points)*"
   ]
  },
  {
   "cell_type": "code",
   "execution_count": 18,
   "id": "3a42469f",
   "metadata": {},
   "outputs": [],
   "source": [
    "infmort = pd.read_csv('infmort.csv')\n"
   ]
  },
  {
   "cell_type": "code",
   "execution_count": 26,
   "id": "886e897e",
   "metadata": {},
   "outputs": [
    {
     "data": {
      "text/plain": [
       "<AxesSubplot:xlabel='region', ylabel='log_mortality'>"
      ]
     },
     "execution_count": 26,
     "metadata": {},
     "output_type": "execute_result"
    },
    {
     "data": {
      "image/png": "[encoded data removed]",
      "text/plain": [
       "<Figure size 432x288 with 1 Axes>"
      ]
     },
     "metadata": {
      "needs_background": "light"
     },
     "output_type": "display_data"
    }
   ],
   "source": [
    "infmort['log_mortality'] = np.log(infmort['mortality'])\n",
    "sns.boxplot(y = infmort.log_mortality, x = infmort.region)"
   ]
  },
  {
   "attachments": {},
   "cell_type": "markdown",
   "id": "f42e6fc3",
   "metadata": {},
   "source": [
    "Asia's infant mortality rate has a wide range. On the other hand Europe has low rate with a smaller range. Americans have a larger rate than Europe and two outliers. Africa has the largest rate. "
   ]
  },
  {
   "cell_type": "code",
   "execution_count": 39,
   "id": "df1d4eea",
   "metadata": {},
   "outputs": [
    {
     "data": {
      "text/plain": [
       "<AxesSubplot:xlabel='region', ylabel='income'>"
      ]
     },
     "execution_count": 39,
     "metadata": {},
     "output_type": "execute_result"
    },
    {
     "data": {
      "image/png": "[encoded data removed]",
      "text/plain": [
       "<Figure size 432x288 with 1 Axes>"
      ]
     },
     "metadata": {
      "needs_background": "light"
     },
     "output_type": "display_data"
    }
   ],
   "source": [
    "sns.boxplot(y = infmort.income, x = infmort.region)"
   ]
  },
  {
   "attachments": {},
   "cell_type": "markdown",
   "id": "0a05e06f",
   "metadata": {},
   "source": [
    "Asia has a relatively lower income than Europe and it also has multiple outliers. Europe has a significantly larger income range while Amercias has a lower range than Europe but higher than Africa. The Americans has two outliers. Africa has the lowest income and the smallest range. However, it also has a few outliers. "
   ]
  },
  {
   "cell_type": "code",
   "execution_count": 24,
   "id": "443dc927",
   "metadata": {},
   "outputs": [
    {
     "data": {
      "text/plain": [
       "<AxesSubplot:xlabel='income', ylabel='mortality'>"
      ]
     },
     "execution_count": 24,
     "metadata": {},
     "output_type": "execute_result"
    },
    {
     "data": {
      "image/png": "[encoded data removed]",
      "text/plain": [
       "<Figure size 432x288 with 1 Axes>"
      ]
     },
     "metadata": {
      "needs_background": "light"
     },
     "output_type": "display_data"
    }
   ],
   "source": [
    "sns.scatterplot(y = infmort.mortality, x = infmort.income)"
   ]
  },
  {
   "attachments": {},
   "cell_type": "markdown",
   "id": "1ac19b96",
   "metadata": {},
   "source": [
    "There are a lot more countries with lower income than higher. Countries with low income have higher mortality than countires with higher income. However, after 2000 as income value, mortality rate stabilizes and becomes constant. "
   ]
  },
  {
   "cell_type": "markdown",
   "id": "b40dcfd1",
   "metadata": {},
   "source": [
    "### Removing effect of predictor from response\n",
    "Europe seems to have the lowest infant mortality, but it also has the highest per capita annual income. We want to see if  Europe still has the lowest mortality if we remove the effect of income from the mortality. We will answer this question with the following steps."
   ]
  },
  {
   "cell_type": "markdown",
   "id": "432df7d1",
   "metadata": {},
   "source": [
    "#### Variable transformation\n",
    "Plot: \n",
    "\n",
    "1. `mortality` against `income`, \n",
    "\n",
    "2. log(`mortality`) against `income`,\n",
    "\n",
    "3. `mortality` against log(`income`), and \n",
    "\n",
    "4. log(`mortality`) against log(`income`). \n",
    "\n",
    "Based on the plots, postulate an appropriate model to predict mortality as a function of income. *Print the model summary.*\n",
    "\n",
    "*(2+4 points)*"
   ]
  },
  {
   "cell_type": "code",
   "execution_count": 25,
   "id": "730fbf46",
   "metadata": {},
   "outputs": [
    {
     "data": {
      "text/plain": [
       "<AxesSubplot:xlabel='income', ylabel='mortality'>"
      ]
     },
     "execution_count": 25,
     "metadata": {},
     "output_type": "execute_result"
    },
    {
     "data": {
      "image/png": "[encoded data removed]",
      "text/plain": [
       "<Figure size 432x288 with 1 Axes>"
      ]
     },
     "metadata": {
      "needs_background": "light"
     },
     "output_type": "display_data"
    }
   ],
   "source": [
    "sns.scatterplot(y = infmort.mortality, x = infmort.income)"
   ]
  },
  {
   "cell_type": "code",
   "execution_count": 27,
   "id": "f4cad159",
   "metadata": {},
   "outputs": [
    {
     "data": {
      "text/plain": [
       "<AxesSubplot:xlabel='income', ylabel='log_mortality'>"
      ]
     },
     "execution_count": 27,
     "metadata": {},
     "output_type": "execute_result"
    },
    {
     "data": {
      "image/png": "[encoded data removed]",
      "text/plain": [
       "<Figure size 432x288 with 1 Axes>"
      ]
     },
     "metadata": {
      "needs_background": "light"
     },
     "output_type": "display_data"
    }
   ],
   "source": [
    "sns.scatterplot(y = infmort.log_mortality, x = infmort.income)"
   ]
  },
  {
   "cell_type": "code",
   "execution_count": 28,
   "id": "f873ce75",
   "metadata": {},
   "outputs": [],
   "source": [
    "infmort['log_income'] = np.log(infmort['income'])"
   ]
  },
  {
   "cell_type": "code",
   "execution_count": 29,
   "id": "06f45ef8",
   "metadata": {},
   "outputs": [
    {
     "data": {
      "text/plain": [
       "<AxesSubplot:xlabel='log_income', ylabel='mortality'>"
      ]
     },
     "execution_count": 29,
     "metadata": {},
     "output_type": "execute_result"
    },
    {
     "data": {
      "image/png": "[encoded data removed]",
      "text/plain": [
       "<Figure size 432x288 with 1 Axes>"
      ]
     },
     "metadata": {
      "needs_background": "light"
     },
     "output_type": "display_data"
    }
   ],
   "source": [
    "sns.scatterplot(y = infmort.mortality, x = infmort.log_income)"
   ]
  },
  {
   "cell_type": "code",
   "execution_count": 30,
   "id": "17c7f35e",
   "metadata": {},
   "outputs": [
    {
     "data": {
      "text/plain": [
       "<AxesSubplot:xlabel='log_income', ylabel='log_mortality'>"
      ]
     },
     "execution_count": 30,
     "metadata": {},
     "output_type": "execute_result"
    },
    {
     "data": {
      "image/png": "[encoded data removed]",
      "text/plain": [
       "<Figure size 432x288 with 1 Axes>"
      ]
     },
     "metadata": {
      "needs_background": "light"
     },
     "output_type": "display_data"
    }
   ],
   "source": [
    "sns.scatterplot(y = infmort.log_mortality, x = infmort.log_income)"
   ]
  },
  {
   "cell_type": "code",
   "execution_count": 35,
   "id": "45ea4a7c",
   "metadata": {},
   "outputs": [
    {
     "data": {
      "text/html": [
       "<table class=\"simpletable\">\n",
       "<caption>OLS Regression Results</caption>\n",
       "<tr>\n",
       "  <th>Dep. Variable:</th>      <td>log_mortality</td>  <th>  R-squared:         </th> <td>   0.502</td>\n",
       "</tr>\n",
       "<tr>\n",
       "  <th>Model:</th>                   <td>OLS</td>       <th>  Adj. R-squared:    </th> <td>   0.497</td>\n",
       "</tr>\n",
       "<tr>\n",
       "  <th>Method:</th>             <td>Least Squares</td>  <th>  F-statistic:       </th> <td>   99.84</td>\n",
       "</tr>\n",
       "<tr>\n",
       "  <th>Date:</th>             <td>Sun, 29 Jan 2023</td> <th>  Prob (F-statistic):</th> <td>1.14e-16</td>\n",
       "</tr>\n",
       "<tr>\n",
       "  <th>Time:</th>                 <td>21:20:07</td>     <th>  Log-Likelihood:    </th> <td> -104.34</td>\n",
       "</tr>\n",
       "<tr>\n",
       "  <th>No. Observations:</th>      <td>   101</td>      <th>  AIC:               </th> <td>   212.7</td>\n",
       "</tr>\n",
       "<tr>\n",
       "  <th>Df Residuals:</th>          <td>    99</td>      <th>  BIC:               </th> <td>   217.9</td>\n",
       "</tr>\n",
       "<tr>\n",
       "  <th>Df Model:</th>              <td>     1</td>      <th>                     </th>     <td> </td>   \n",
       "</tr>\n",
       "<tr>\n",
       "  <th>Covariance Type:</th>      <td>nonrobust</td>    <th>                     </th>     <td> </td>   \n",
       "</tr>\n",
       "</table>\n",
       "<table class=\"simpletable\">\n",
       "<tr>\n",
       "       <td></td>         <th>coef</th>     <th>std err</th>      <th>t</th>      <th>P>|t|</th>  <th>[0.025</th>    <th>0.975]</th>  \n",
       "</tr>\n",
       "<tr>\n",
       "  <th>Intercept</th>  <td>    7.1458</td> <td>    0.317</td> <td>   22.575</td> <td> 0.000</td> <td>    6.518</td> <td>    7.774</td>\n",
       "</tr>\n",
       "<tr>\n",
       "  <th>log_income</th> <td>   -0.5118</td> <td>    0.051</td> <td>   -9.992</td> <td> 0.000</td> <td>   -0.613</td> <td>   -0.410</td>\n",
       "</tr>\n",
       "</table>\n",
       "<table class=\"simpletable\">\n",
       "<tr>\n",
       "  <th>Omnibus:</th>       <td>38.668</td> <th>  Durbin-Watson:     </th> <td>   1.898</td>\n",
       "</tr>\n",
       "<tr>\n",
       "  <th>Prob(Omnibus):</th> <td> 0.000</td> <th>  Jarque-Bera (JB):  </th> <td> 129.408</td>\n",
       "</tr>\n",
       "<tr>\n",
       "  <th>Skew:</th>          <td> 1.255</td> <th>  Prob(JB):          </th> <td>7.93e-29</td>\n",
       "</tr>\n",
       "<tr>\n",
       "  <th>Kurtosis:</th>      <td> 7.945</td> <th>  Cond. No.          </th> <td>    29.3</td>\n",
       "</tr>\n",
       "</table><br/><br/>Notes:<br/>[1] Standard Errors assume that the covariance matrix of the errors is correctly specified."
      ],
      "text/plain": [
       "<class 'statsmodels.iolib.summary.Summary'>\n",
       "\"\"\"\n",
       "                            OLS Regression Results                            \n",
       "==============================================================================\n",
       "Dep. Variable:          log_mortality   R-squared:                       0.502\n",
       "Model:                            OLS   Adj. R-squared:                  0.497\n",
       "Method:                 Least Squares   F-statistic:                     99.84\n",
       "Date:                Sun, 29 Jan 2023   Prob (F-statistic):           1.14e-16\n",
       "Time:                        21:20:07   Log-Likelihood:                -104.34\n",
       "No. Observations:                 101   AIC:                             212.7\n",
       "Df Residuals:                      99   BIC:                             217.9\n",
       "Df Model:                           1                                         \n",
       "Covariance Type:            nonrobust                                         \n",
       "==============================================================================\n",
       "                 coef    std err          t      P>|t|      [0.025      0.975]\n",
       "------------------------------------------------------------------------------\n",
       "Intercept      7.1458      0.317     22.575      0.000       6.518       7.774\n",
       "log_income    -0.5118      0.051     -9.992      0.000      -0.613      -0.410\n",
       "==============================================================================\n",
       "Omnibus:                       38.668   Durbin-Watson:                   1.898\n",
       "Prob(Omnibus):                  0.000   Jarque-Bera (JB):              129.408\n",
       "Skew:                           1.255   Prob(JB):                     7.93e-29\n",
       "Kurtosis:                       7.945   Cond. No.                         29.3\n",
       "==============================================================================\n",
       "\n",
       "Notes:\n",
       "[1] Standard Errors assume that the covariance matrix of the errors is correctly specified.\n",
       "\"\"\""
      ]
     },
     "execution_count": 35,
     "metadata": {},
     "output_type": "execute_result"
    }
   ],
   "source": [
    "ols_object = smf.ols(formula = 'log_mortality~log_income', data = infmort)\n",
    "model1 = ols_object.fit()\n",
    "model1.summary()"
   ]
  },
  {
   "cell_type": "markdown",
   "id": "c1cba785",
   "metadata": {},
   "source": [
    "#### Model update\n",
    "Update the model developed in the previous question by adding `region` as a predictor. Print the model summary.\n",
    "\n",
    "*(2 points)*"
   ]
  },
  {
   "cell_type": "code",
   "execution_count": 34,
   "id": "7857cecd",
   "metadata": {},
   "outputs": [
    {
     "data": {
      "text/html": [
       "<table class=\"simpletable\">\n",
       "<caption>OLS Regression Results</caption>\n",
       "<tr>\n",
       "  <th>Dep. Variable:</th>      <td>log_mortality</td>  <th>  R-squared:         </th> <td>   0.616</td>\n",
       "</tr>\n",
       "<tr>\n",
       "  <th>Model:</th>                   <td>OLS</td>       <th>  Adj. R-squared:    </th> <td>   0.600</td>\n",
       "</tr>\n",
       "<tr>\n",
       "  <th>Method:</th>             <td>Least Squares</td>  <th>  F-statistic:       </th> <td>   38.55</td>\n",
       "</tr>\n",
       "<tr>\n",
       "  <th>Date:</th>             <td>Sun, 29 Jan 2023</td> <th>  Prob (F-statistic):</th> <td>3.29e-19</td>\n",
       "</tr>\n",
       "<tr>\n",
       "  <th>Time:</th>                 <td>21:20:00</td>     <th>  Log-Likelihood:    </th> <td> -91.189</td>\n",
       "</tr>\n",
       "<tr>\n",
       "  <th>No. Observations:</th>      <td>   101</td>      <th>  AIC:               </th> <td>   192.4</td>\n",
       "</tr>\n",
       "<tr>\n",
       "  <th>Df Residuals:</th>          <td>    96</td>      <th>  BIC:               </th> <td>   205.5</td>\n",
       "</tr>\n",
       "<tr>\n",
       "  <th>Df Model:</th>              <td>     4</td>      <th>                     </th>     <td> </td>   \n",
       "</tr>\n",
       "<tr>\n",
       "  <th>Covariance Type:</th>      <td>nonrobust</td>    <th>                     </th>     <td> </td>   \n",
       "</tr>\n",
       "</table>\n",
       "<table class=\"simpletable\">\n",
       "<tr>\n",
       "           <td></td>             <th>coef</th>     <th>std err</th>      <th>t</th>      <th>P>|t|</th>  <th>[0.025</th>    <th>0.975]</th>  \n",
       "</tr>\n",
       "<tr>\n",
       "  <th>Intercept</th>          <td>    6.4030</td> <td>    0.358</td> <td>   17.871</td> <td> 0.000</td> <td>    5.692</td> <td>    7.114</td>\n",
       "</tr>\n",
       "<tr>\n",
       "  <th>region[T.Americas]</th> <td>   -0.6022</td> <td>    0.190</td> <td>   -3.166</td> <td> 0.002</td> <td>   -0.980</td> <td>   -0.225</td>\n",
       "</tr>\n",
       "<tr>\n",
       "  <th>region[T.Asia]</th>     <td>   -0.7233</td> <td>    0.163</td> <td>   -4.431</td> <td> 0.000</td> <td>   -1.047</td> <td>   -0.399</td>\n",
       "</tr>\n",
       "<tr>\n",
       "  <th>region[T.Europe]</th>   <td>   -1.2028</td> <td>    0.259</td> <td>   -4.647</td> <td> 0.000</td> <td>   -1.717</td> <td>   -0.689</td>\n",
       "</tr>\n",
       "<tr>\n",
       "  <th>log_income</th>         <td>   -0.2994</td> <td>    0.067</td> <td>   -4.441</td> <td> 0.000</td> <td>   -0.433</td> <td>   -0.166</td>\n",
       "</tr>\n",
       "</table>\n",
       "<table class=\"simpletable\">\n",
       "<tr>\n",
       "  <th>Omnibus:</th>       <td>44.959</td> <th>  Durbin-Watson:     </th> <td>   1.847</td>\n",
       "</tr>\n",
       "<tr>\n",
       "  <th>Prob(Omnibus):</th> <td> 0.000</td> <th>  Jarque-Bera (JB):  </th> <td> 174.758</td>\n",
       "</tr>\n",
       "<tr>\n",
       "  <th>Skew:</th>          <td> 1.428</td> <th>  Prob(JB):          </th> <td>1.13e-38</td>\n",
       "</tr>\n",
       "<tr>\n",
       "  <th>Kurtosis:</th>      <td> 8.777</td> <th>  Cond. No.          </th> <td>    42.8</td>\n",
       "</tr>\n",
       "</table><br/><br/>Notes:<br/>[1] Standard Errors assume that the covariance matrix of the errors is correctly specified."
      ],
      "text/plain": [
       "<class 'statsmodels.iolib.summary.Summary'>\n",
       "\"\"\"\n",
       "                            OLS Regression Results                            \n",
       "==============================================================================\n",
       "Dep. Variable:          log_mortality   R-squared:                       0.616\n",
       "Model:                            OLS   Adj. R-squared:                  0.600\n",
       "Method:                 Least Squares   F-statistic:                     38.55\n",
       "Date:                Sun, 29 Jan 2023   Prob (F-statistic):           3.29e-19\n",
       "Time:                        21:20:00   Log-Likelihood:                -91.189\n",
       "No. Observations:                 101   AIC:                             192.4\n",
       "Df Residuals:                      96   BIC:                             205.5\n",
       "Df Model:                           4                                         \n",
       "Covariance Type:            nonrobust                                         \n",
       "======================================================================================\n",
       "                         coef    std err          t      P>|t|      [0.025      0.975]\n",
       "--------------------------------------------------------------------------------------\n",
       "Intercept              6.4030      0.358     17.871      0.000       5.692       7.114\n",
       "region[T.Americas]    -0.6022      0.190     -3.166      0.002      -0.980      -0.225\n",
       "region[T.Asia]        -0.7233      0.163     -4.431      0.000      -1.047      -0.399\n",
       "region[T.Europe]      -1.2028      0.259     -4.647      0.000      -1.717      -0.689\n",
       "log_income            -0.2994      0.067     -4.441      0.000      -0.433      -0.166\n",
       "==============================================================================\n",
       "Omnibus:                       44.959   Durbin-Watson:                   1.847\n",
       "Prob(Omnibus):                  0.000   Jarque-Bera (JB):              174.758\n",
       "Skew:                           1.428   Prob(JB):                     1.13e-38\n",
       "Kurtosis:                       8.777   Cond. No.                         42.8\n",
       "==============================================================================\n",
       "\n",
       "Notes:\n",
       "[1] Standard Errors assume that the covariance matrix of the errors is correctly specified.\n",
       "\"\"\""
      ]
     },
     "execution_count": 34,
     "metadata": {},
     "output_type": "execute_result"
    }
   ],
   "source": [
    "ols_object = smf.ols(formula = 'log_mortality~log_income+region', data = infmort)\n",
    "model2 = ols_object.fit()\n",
    "model2.summary()"
   ]
  },
  {
   "cell_type": "markdown",
   "id": "215fcb33",
   "metadata": {},
   "source": [
    "Use the model developed in the previous question to compute `adjusted_mortality` for each observation in the data, where adjusted mortality is the mortality after removing the estimated effect of income. Make a boxplot of log(`adjusted_mortality`) against `region`.\n",
    "\n",
    "*(4+2 points)*"
   ]
  },
  {
   "cell_type": "code",
   "execution_count": 36,
   "id": "6c38e9ca",
   "metadata": {},
   "outputs": [],
   "source": [
    "infmort['adjusted_mortality'] = infmort['log_mortality'] - model2.params['log_income']*infmort['log_income']\n",
    "infmort['log_adj_mortality'] = np.log(infmort['adjusted_mortality'])"
   ]
  },
  {
   "cell_type": "code",
   "execution_count": 38,
   "id": "059423bb",
   "metadata": {},
   "outputs": [
    {
     "data": {
      "text/plain": [
       "<AxesSubplot:xlabel='region', ylabel='log_adj_mortality'>"
      ]
     },
     "execution_count": 38,
     "metadata": {},
     "output_type": "execute_result"
    },
    {
     "data": {
      "image/png": "[encoded data removed]",
      "text/plain": [
       "<Figure size 432x288 with 1 Axes>"
      ]
     },
     "metadata": {
      "needs_background": "light"
     },
     "output_type": "display_data"
    }
   ],
   "source": [
    "sns.boxplot(y = infmort.log_adj_mortality, x = infmort.region)"
   ]
  },
  {
   "cell_type": "markdown",
   "id": "b8e7e78f",
   "metadata": {},
   "source": [
    "### Data visualisation after removing effect of predictor from response\n",
    "From the plot in the previous question: \n",
    "\n",
    "1. Does Europe still seem to have the lowest mortality as compared to other regions after removing the effect of income from mortality? \n",
    "\n",
    "2. After adjusting for income, is there any change in the mortality comparison among different regions. Compare the plot developed in the previous question to the plot of `log(mortality)` against `region` developed earlier *(B.2.1)* to answer this question.\n",
    "\n",
    "**Hint:** Do any African / Asian / American countries seem to do better than all the European countries with regard to mortality after adjusting for income? \n",
    "\n",
    "*(1+3 points)*"
   ]
  },
  {
   "attachments": {},
   "cell_type": "markdown",
   "id": "e1fcb19f",
   "metadata": {},
   "source": [
    "1. Europe still seems to have the lowest mortality rate as compared to other regions, however, the difference has decreased. \n",
    "2. After the adjustment some Asian, African, Americans countires seem to do better than European countries. Overall Asia's wide range has decreased. Americas and Africa have also significanlty reduced their mortality rate. "
   ]
  },
  {
   "cell_type": "markdown",
   "id": "c483d04f",
   "metadata": {},
   "source": [
    "## Variable transformations and interactions"
   ]
  },
  {
   "cell_type": "markdown",
   "id": "f0521e92",
   "metadata": {},
   "source": [
    "The dataset *soc_ind.csv* contains the GDP per capita of some countries along with several social indicators."
   ]
  },
  {
   "cell_type": "markdown",
   "id": "e8cc4d46",
   "metadata": {},
   "source": [
    "### Training SLR\n",
    "For a simple linear regression model predicting `gdpPerCapita`. Which predictor will provide the best model fit *(ignore categorical predictors)*? Let that predictor be $P$.\n",
    "\n",
    "*(2 points)*"
   ]
  },
  {
   "cell_type": "code",
   "execution_count": null,
   "id": "3516fc9b",
   "metadata": {},
   "outputs": [],
   "source": [
    "soc=pd.read_csv(\"soc_ind.csv\")\n",
    "soc.head\n"
   ]
  },
  {
   "cell_type": "code",
   "execution_count": 42,
   "id": "a0b9580a",
   "metadata": {},
   "outputs": [
    {
     "data": {
      "text/plain": [
       "Index                     0.073671\n",
       "economicActivityFemale    0.052964\n",
       "economicActivityMale      0.167231\n",
       "gdpPerCapita              1.000000\n",
       "illiteracyFemale          0.457012\n",
       "illiteracyMale            0.471689\n",
       "infantMortality           0.584060\n",
       "lifeFemale                0.604029\n",
       "lifeMale                  0.592267\n",
       "dtype: float64"
      ]
     },
     "execution_count": 42,
     "metadata": {},
     "output_type": "execute_result"
    }
   ],
   "source": [
    "soc.corrwith(soc.gdpPerCapita).abs()"
   ]
  },
  {
   "attachments": {},
   "cell_type": "markdown",
   "id": "ddcb940b",
   "metadata": {},
   "source": [
    "The predictors with the highest correlation is lifeFemale.  "
   ]
  },
  {
   "cell_type": "code",
   "execution_count": 47,
   "id": "19434c39",
   "metadata": {},
   "outputs": [
    {
     "data": {
      "text/html": [
       "<table class=\"simpletable\">\n",
       "<caption>OLS Regression Results</caption>\n",
       "<tr>\n",
       "  <th>Dep. Variable:</th>      <td>gdpPerCapita</td>   <th>  R-squared:         </th> <td>   0.365</td>\n",
       "</tr>\n",
       "<tr>\n",
       "  <th>Model:</th>                   <td>OLS</td>       <th>  Adj. R-squared:    </th> <td>   0.361</td>\n",
       "</tr>\n",
       "<tr>\n",
       "  <th>Method:</th>             <td>Least Squares</td>  <th>  F-statistic:       </th> <td>   87.89</td>\n",
       "</tr>\n",
       "<tr>\n",
       "  <th>Date:</th>             <td>Sun, 29 Jan 2023</td> <th>  Prob (F-statistic):</th> <td>8.77e-17</td>\n",
       "</tr>\n",
       "<tr>\n",
       "  <th>Time:</th>                 <td>21:55:31</td>     <th>  Log-Likelihood:    </th> <td> -1743.3</td>\n",
       "</tr>\n",
       "<tr>\n",
       "  <th>No. Observations:</th>      <td>   155</td>      <th>  AIC:               </th> <td>   3491.</td>\n",
       "</tr>\n",
       "<tr>\n",
       "  <th>Df Residuals:</th>          <td>   153</td>      <th>  BIC:               </th> <td>   3497.</td>\n",
       "</tr>\n",
       "<tr>\n",
       "  <th>Df Model:</th>              <td>     1</td>      <th>                     </th>     <td> </td>   \n",
       "</tr>\n",
       "<tr>\n",
       "  <th>Covariance Type:</th>      <td>nonrobust</td>    <th>                     </th>     <td> </td>   \n",
       "</tr>\n",
       "</table>\n",
       "<table class=\"simpletable\">\n",
       "<tr>\n",
       "       <td></td>         <th>coef</th>     <th>std err</th>      <th>t</th>      <th>P>|t|</th>  <th>[0.025</th>    <th>0.975]</th>  \n",
       "</tr>\n",
       "<tr>\n",
       "  <th>Intercept</th>  <td>-7.436e+04</td> <td> 1.06e+04</td> <td>   -7.002</td> <td> 0.000</td> <td>-9.53e+04</td> <td>-5.34e+04</td>\n",
       "</tr>\n",
       "<tr>\n",
       "  <th>lifeFemale</th> <td> 1398.2136</td> <td>  149.145</td> <td>    9.375</td> <td> 0.000</td> <td> 1103.564</td> <td> 1692.863</td>\n",
       "</tr>\n",
       "</table>\n",
       "<table class=\"simpletable\">\n",
       "<tr>\n",
       "  <th>Omnibus:</th>       <td>59.449</td> <th>  Durbin-Watson:     </th> <td>   1.982</td>\n",
       "</tr>\n",
       "<tr>\n",
       "  <th>Prob(Omnibus):</th> <td> 0.000</td> <th>  Jarque-Bera (JB):  </th> <td> 168.079</td>\n",
       "</tr>\n",
       "<tr>\n",
       "  <th>Skew:</th>          <td> 1.551</td> <th>  Prob(JB):          </th> <td>3.18e-37</td>\n",
       "</tr>\n",
       "<tr>\n",
       "  <th>Kurtosis:</th>      <td> 7.051</td> <th>  Cond. No.          </th> <td>    504.</td>\n",
       "</tr>\n",
       "</table><br/><br/>Notes:<br/>[1] Standard Errors assume that the covariance matrix of the errors is correctly specified."
      ],
      "text/plain": [
       "<class 'statsmodels.iolib.summary.Summary'>\n",
       "\"\"\"\n",
       "                            OLS Regression Results                            \n",
       "==============================================================================\n",
       "Dep. Variable:           gdpPerCapita   R-squared:                       0.365\n",
       "Model:                            OLS   Adj. R-squared:                  0.361\n",
       "Method:                 Least Squares   F-statistic:                     87.89\n",
       "Date:                Sun, 29 Jan 2023   Prob (F-statistic):           8.77e-17\n",
       "Time:                        21:55:31   Log-Likelihood:                -1743.3\n",
       "No. Observations:                 155   AIC:                             3491.\n",
       "Df Residuals:                     153   BIC:                             3497.\n",
       "Df Model:                           1                                         \n",
       "Covariance Type:            nonrobust                                         \n",
       "==============================================================================\n",
       "                 coef    std err          t      P>|t|      [0.025      0.975]\n",
       "------------------------------------------------------------------------------\n",
       "Intercept  -7.436e+04   1.06e+04     -7.002      0.000   -9.53e+04   -5.34e+04\n",
       "lifeFemale  1398.2136    149.145      9.375      0.000    1103.564    1692.863\n",
       "==============================================================================\n",
       "Omnibus:                       59.449   Durbin-Watson:                   1.982\n",
       "Prob(Omnibus):                  0.000   Jarque-Bera (JB):              168.079\n",
       "Skew:                           1.551   Prob(JB):                     3.18e-37\n",
       "Kurtosis:                       7.051   Cond. No.                         504.\n",
       "==============================================================================\n",
       "\n",
       "Notes:\n",
       "[1] Standard Errors assume that the covariance matrix of the errors is correctly specified.\n",
       "\"\"\""
      ]
     },
     "execution_count": 47,
     "metadata": {},
     "output_type": "execute_result"
    }
   ],
   "source": [
    "ols_object = smf.ols(formula = 'gdpPerCapita~lifeFemale',data = soc)\n",
    "model1= ols_object.fit()\n",
    "model1.summary()"
   ]
  },
  {
   "cell_type": "markdown",
   "id": "14cceb6d",
   "metadata": {},
   "source": [
    "### Linearity in relationship\n",
    "Make a scatterplot of `gdpPerCapita` vs $P$. Does the relationship between `gdpPerCapita` and $P$ seem linear or non-linear?\n",
    "\n",
    "*(1 + 2 points)*"
   ]
  },
  {
   "cell_type": "code",
   "execution_count": 44,
   "id": "0448f6e1",
   "metadata": {},
   "outputs": [
    {
     "data": {
      "text/plain": [
       "<AxesSubplot:xlabel='lifeFemale', ylabel='gdpPerCapita'>"
      ]
     },
     "execution_count": 44,
     "metadata": {},
     "output_type": "execute_result"
    },
    {
     "data": {
      "image/png": "[encoded data removed]",
      "text/plain": [
       "<Figure size 432x288 with 1 Axes>"
      ]
     },
     "metadata": {
      "needs_background": "light"
     },
     "output_type": "display_data"
    }
   ],
   "source": [
    "sns.scatterplot(y = soc.gdpPerCapita, x = soc.lifeFemale)"
   ]
  },
  {
   "attachments": {},
   "cell_type": "markdown",
   "id": "83d4d2b1",
   "metadata": {},
   "source": [
    "its non linear"
   ]
  },
  {
   "cell_type": "markdown",
   "id": "d86a5991",
   "metadata": {},
   "source": [
    "### Variable transformation\n",
    "If the relationship identified in the previous question is non-linear, identify and include transformation(s) of the predictor $P$ in the model to improve the model fit. \n",
    "\n",
    "Mention the predictors of the transformed model, and report the change in the $R$-squared value of the transformed model as compared to the simple linear regression model with only $P$.\n",
    "\n",
    "*(4+4 points)*"
   ]
  },
  {
   "cell_type": "code",
   "execution_count": 46,
   "id": "f066255b",
   "metadata": {},
   "outputs": [
    {
     "data": {
      "text/html": [
       "<table class=\"simpletable\">\n",
       "<caption>OLS Regression Results</caption>\n",
       "<tr>\n",
       "  <th>Dep. Variable:</th>      <td>gdpPerCapita</td>   <th>  R-squared:         </th> <td>   0.496</td>\n",
       "</tr>\n",
       "<tr>\n",
       "  <th>Model:</th>                   <td>OLS</td>       <th>  Adj. R-squared:    </th> <td>   0.490</td>\n",
       "</tr>\n",
       "<tr>\n",
       "  <th>Method:</th>             <td>Least Squares</td>  <th>  F-statistic:       </th> <td>   74.87</td>\n",
       "</tr>\n",
       "<tr>\n",
       "  <th>Date:</th>             <td>Sun, 29 Jan 2023</td> <th>  Prob (F-statistic):</th> <td>2.34e-23</td>\n",
       "</tr>\n",
       "<tr>\n",
       "  <th>Time:</th>                 <td>21:48:26</td>     <th>  Log-Likelihood:    </th> <td> -1725.4</td>\n",
       "</tr>\n",
       "<tr>\n",
       "  <th>No. Observations:</th>      <td>   155</td>      <th>  AIC:               </th> <td>   3457.</td>\n",
       "</tr>\n",
       "<tr>\n",
       "  <th>Df Residuals:</th>          <td>   152</td>      <th>  BIC:               </th> <td>   3466.</td>\n",
       "</tr>\n",
       "<tr>\n",
       "  <th>Df Model:</th>              <td>     2</td>      <th>                     </th>     <td> </td>   \n",
       "</tr>\n",
       "<tr>\n",
       "  <th>Covariance Type:</th>      <td>nonrobust</td>    <th>                     </th>     <td> </td>   \n",
       "</tr>\n",
       "</table>\n",
       "<table class=\"simpletable\">\n",
       "<tr>\n",
       "           <td></td>             <th>coef</th>     <th>std err</th>      <th>t</th>      <th>P>|t|</th>  <th>[0.025</th>    <th>0.975]</th>  \n",
       "</tr>\n",
       "<tr>\n",
       "  <th>Intercept</th>          <td> 2.489e+05</td> <td> 5.22e+04</td> <td>    4.767</td> <td> 0.000</td> <td> 1.46e+05</td> <td> 3.52e+05</td>\n",
       "</tr>\n",
       "<tr>\n",
       "  <th>lifeFemale</th>         <td>-8952.5933</td> <td> 1649.317</td> <td>   -5.428</td> <td> 0.000</td> <td>-1.22e+04</td> <td>-5694.048</td>\n",
       "</tr>\n",
       "<tr>\n",
       "  <th>I(lifeFemale ** 2)</th> <td>   80.1589</td> <td>   12.731</td> <td>    6.296</td> <td> 0.000</td> <td>   55.007</td> <td>  105.311</td>\n",
       "</tr>\n",
       "</table>\n",
       "<table class=\"simpletable\">\n",
       "<tr>\n",
       "  <th>Omnibus:</th>       <td>62.484</td> <th>  Durbin-Watson:     </th> <td>   1.973</td>\n",
       "</tr>\n",
       "<tr>\n",
       "  <th>Prob(Omnibus):</th> <td> 0.000</td> <th>  Jarque-Bera (JB):  </th> <td> 240.593</td>\n",
       "</tr>\n",
       "<tr>\n",
       "  <th>Skew:</th>          <td> 1.486</td> <th>  Prob(JB):          </th> <td>5.70e-53</td>\n",
       "</tr>\n",
       "<tr>\n",
       "  <th>Kurtosis:</th>      <td> 8.332</td> <th>  Cond. No.          </th> <td>2.04e+05</td>\n",
       "</tr>\n",
       "</table><br/><br/>Notes:<br/>[1] Standard Errors assume that the covariance matrix of the errors is correctly specified.<br/>[2] The condition number is large, 2.04e+05. This might indicate that there are<br/>strong multicollinearity or other numerical problems."
      ],
      "text/plain": [
       "<class 'statsmodels.iolib.summary.Summary'>\n",
       "\"\"\"\n",
       "                            OLS Regression Results                            \n",
       "==============================================================================\n",
       "Dep. Variable:           gdpPerCapita   R-squared:                       0.496\n",
       "Model:                            OLS   Adj. R-squared:                  0.490\n",
       "Method:                 Least Squares   F-statistic:                     74.87\n",
       "Date:                Sun, 29 Jan 2023   Prob (F-statistic):           2.34e-23\n",
       "Time:                        21:48:26   Log-Likelihood:                -1725.4\n",
       "No. Observations:                 155   AIC:                             3457.\n",
       "Df Residuals:                     152   BIC:                             3466.\n",
       "Df Model:                           2                                         \n",
       "Covariance Type:            nonrobust                                         \n",
       "======================================================================================\n",
       "                         coef    std err          t      P>|t|      [0.025      0.975]\n",
       "--------------------------------------------------------------------------------------\n",
       "Intercept           2.489e+05   5.22e+04      4.767      0.000    1.46e+05    3.52e+05\n",
       "lifeFemale         -8952.5933   1649.317     -5.428      0.000   -1.22e+04   -5694.048\n",
       "I(lifeFemale ** 2)    80.1589     12.731      6.296      0.000      55.007     105.311\n",
       "==============================================================================\n",
       "Omnibus:                       62.484   Durbin-Watson:                   1.973\n",
       "Prob(Omnibus):                  0.000   Jarque-Bera (JB):              240.593\n",
       "Skew:                           1.486   Prob(JB):                     5.70e-53\n",
       "Kurtosis:                       8.332   Cond. No.                     2.04e+05\n",
       "==============================================================================\n",
       "\n",
       "Notes:\n",
       "[1] Standard Errors assume that the covariance matrix of the errors is correctly specified.\n",
       "[2] The condition number is large, 2.04e+05. This might indicate that there are\n",
       "strong multicollinearity or other numerical problems.\n",
       "\"\"\""
      ]
     },
     "execution_count": 46,
     "metadata": {},
     "output_type": "execute_result"
    }
   ],
   "source": [
    "ols_object = smf.ols(formula = 'gdpPerCapita~lifeFemale+I(lifeFemale**2)',data = soc)\n",
    "model2= ols_object.fit()\n",
    "model2.summary()"
   ]
  },
  {
   "attachments": {},
   "cell_type": "markdown",
   "id": "e52e38b1",
   "metadata": {},
   "source": [
    "The R-squared increased from 0.365 to 0.496 on the new model. "
   ]
  },
  {
   "cell_type": "markdown",
   "id": "5c77722a",
   "metadata": {},
   "source": [
    "### Model visualisation\n",
    "Plot the regression curve of the transformed model *(developed in the previous question)* over the scatterplot in (b) to visualize model fit. Also make the regression line of the simple linear regression model with only $P$ on the same plot.\n",
    "\n",
    "*(3 + 1 points)*"
   ]
  },
  {
   "cell_type": "code",
   "execution_count": 50,
   "id": "34486771",
   "metadata": {},
   "outputs": [
    {
     "name": "stderr",
     "output_type": "stream",
     "text": [
      "/Users/abm7053/opt/anaconda3/lib/python3.8/site-packages/seaborn/_decorators.py:36: FutureWarning: Pass the following variables as keyword args: x, y. From version 0.12, the only valid positional argument will be `data`, and passing other arguments without an explicit keyword will result in an error or misinterpretation.\n",
      "  warnings.warn(\n"
     ]
    },
    {
     "data": {
      "text/plain": [
       "<matplotlib.legend.Legend at 0x7fbe6570cc10>"
      ]
     },
     "execution_count": 50,
     "metadata": {},
     "output_type": "execute_result"
    },
    {
     "data": {
      "image/png": "[encoded data removed]",
      "text/plain": [
       "<Figure size 432x288 with 1 Axes>"
      ]
     },
     "metadata": {
      "needs_background": "light"
     },
     "output_type": "display_data"
    }
   ],
   "source": [
    "m2 = model2.predict(soc)\n",
    "m1 = model1.predict(soc)\n",
    "\n",
    "plot = sns.scatterplot(soc.lifeFemale, soc.gdpPerCapita, label='_nolegend_')\n",
    "\n",
    "sns.lineplot(x = soc.lifeFemale, y = m2, color = 'orange', label='New model')\n",
    "sns.lineplot(x = soc.lifeFemale, y = m1, color = 'black', label='Old model')\n",
    "\n",
    "plt.xlabel('Female Life Expectancy')\n",
    "plt.ylabel('GDP Per Capita')\n",
    "\n",
    "plot.yaxis.set_major_formatter('${x:,.0f}')\n",
    "\n",
    "plt.legend()"
   ]
  },
  {
   "cell_type": "markdown",
   "id": "77fae611",
   "metadata": {},
   "source": [
    "### Training MLR with qualitative predictor\n",
    "Develop a model to predict `gdpPerCapita` with $P$ and `continent` as predictors. \n",
    "\n",
    "1. Interpert the intercept term. \n",
    "\n",
    "2. For a given value of $P$, are there any continents that **do not** have a signficant difference between their mean `gdpPerCapita` and that of Africa? If yes, then which ones, and why? If no, then why not? Consider a significance level of 5%.\n",
    "\n",
    "*(4 + 4 points)*"
   ]
  },
  {
   "cell_type": "code",
   "execution_count": 53,
   "id": "93058623",
   "metadata": {},
   "outputs": [
    {
     "data": {
      "text/html": [
       "<table class=\"simpletable\">\n",
       "<caption>OLS Regression Results</caption>\n",
       "<tr>\n",
       "  <th>Dep. Variable:</th>      <td>gdpPerCapita</td>   <th>  R-squared:         </th> <td>   0.508</td>\n",
       "</tr>\n",
       "<tr>\n",
       "  <th>Model:</th>                   <td>OLS</td>       <th>  Adj. R-squared:    </th> <td>   0.488</td>\n",
       "</tr>\n",
       "<tr>\n",
       "  <th>Method:</th>             <td>Least Squares</td>  <th>  F-statistic:       </th> <td>   25.43</td>\n",
       "</tr>\n",
       "<tr>\n",
       "  <th>Date:</th>             <td>Sun, 29 Jan 2023</td> <th>  Prob (F-statistic):</th> <td>1.28e-20</td>\n",
       "</tr>\n",
       "<tr>\n",
       "  <th>Time:</th>                 <td>22:04:22</td>     <th>  Log-Likelihood:    </th> <td> -1723.6</td>\n",
       "</tr>\n",
       "<tr>\n",
       "  <th>No. Observations:</th>      <td>   155</td>      <th>  AIC:               </th> <td>   3461.</td>\n",
       "</tr>\n",
       "<tr>\n",
       "  <th>Df Residuals:</th>          <td>   148</td>      <th>  BIC:               </th> <td>   3483.</td>\n",
       "</tr>\n",
       "<tr>\n",
       "  <th>Df Model:</th>              <td>     6</td>      <th>                     </th>     <td> </td>   \n",
       "</tr>\n",
       "<tr>\n",
       "  <th>Covariance Type:</th>      <td>nonrobust</td>    <th>                     </th>     <td> </td>   \n",
       "</tr>\n",
       "</table>\n",
       "<table class=\"simpletable\">\n",
       "<tr>\n",
       "               <td></td>                 <th>coef</th>     <th>std err</th>      <th>t</th>      <th>P>|t|</th>  <th>[0.025</th>    <th>0.975]</th>  \n",
       "</tr>\n",
       "<tr>\n",
       "  <th>Intercept</th>                  <td>-7.208e+04</td> <td> 1.14e+04</td> <td>   -6.305</td> <td> 0.000</td> <td>-9.47e+04</td> <td>-4.95e+04</td>\n",
       "</tr>\n",
       "<tr>\n",
       "  <th>continent[T.Asia]</th>          <td> 1324.7980</td> <td> 4805.099</td> <td>    0.276</td> <td> 0.783</td> <td>-8170.667</td> <td> 1.08e+04</td>\n",
       "</tr>\n",
       "<tr>\n",
       "  <th>continent[T.Europe]</th>        <td> 9167.0203</td> <td> 5785.650</td> <td>    1.584</td> <td> 0.115</td> <td>-2266.134</td> <td> 2.06e+04</td>\n",
       "</tr>\n",
       "<tr>\n",
       "  <th>continent[T.North America]</th> <td>-1.446e+04</td> <td> 5947.502</td> <td>   -2.431</td> <td> 0.016</td> <td>-2.62e+04</td> <td>-2704.270</td>\n",
       "</tr>\n",
       "<tr>\n",
       "  <th>continent[T.Oceania]</th>       <td>-1.429e+04</td> <td> 6063.764</td> <td>   -2.357</td> <td> 0.020</td> <td>-2.63e+04</td> <td>-2307.304</td>\n",
       "</tr>\n",
       "<tr>\n",
       "  <th>continent[T.South America]</th> <td>-1.329e+04</td> <td> 6462.516</td> <td>   -2.056</td> <td> 0.042</td> <td>-2.61e+04</td> <td> -516.198</td>\n",
       "</tr>\n",
       "<tr>\n",
       "  <th>lifeFemale</th>                 <td> 1393.4213</td> <td>  194.062</td> <td>    7.180</td> <td> 0.000</td> <td> 1009.931</td> <td> 1776.911</td>\n",
       "</tr>\n",
       "</table>\n",
       "<table class=\"simpletable\">\n",
       "<tr>\n",
       "  <th>Omnibus:</th>       <td>67.873</td> <th>  Durbin-Watson:     </th> <td>   1.942</td>\n",
       "</tr>\n",
       "<tr>\n",
       "  <th>Prob(Omnibus):</th> <td> 0.000</td> <th>  Jarque-Bera (JB):  </th> <td> 231.081</td>\n",
       "</tr>\n",
       "<tr>\n",
       "  <th>Skew:</th>          <td> 1.701</td> <th>  Prob(JB):          </th> <td>6.63e-51</td>\n",
       "</tr>\n",
       "<tr>\n",
       "  <th>Kurtosis:</th>      <td> 7.920</td> <th>  Cond. No.          </th> <td>    721.</td>\n",
       "</tr>\n",
       "</table><br/><br/>Notes:<br/>[1] Standard Errors assume that the covariance matrix of the errors is correctly specified."
      ],
      "text/plain": [
       "<class 'statsmodels.iolib.summary.Summary'>\n",
       "\"\"\"\n",
       "                            OLS Regression Results                            \n",
       "==============================================================================\n",
       "Dep. Variable:           gdpPerCapita   R-squared:                       0.508\n",
       "Model:                            OLS   Adj. R-squared:                  0.488\n",
       "Method:                 Least Squares   F-statistic:                     25.43\n",
       "Date:                Sun, 29 Jan 2023   Prob (F-statistic):           1.28e-20\n",
       "Time:                        22:04:22   Log-Likelihood:                -1723.6\n",
       "No. Observations:                 155   AIC:                             3461.\n",
       "Df Residuals:                     148   BIC:                             3483.\n",
       "Df Model:                           6                                         \n",
       "Covariance Type:            nonrobust                                         \n",
       "==============================================================================================\n",
       "                                 coef    std err          t      P>|t|      [0.025      0.975]\n",
       "----------------------------------------------------------------------------------------------\n",
       "Intercept                  -7.208e+04   1.14e+04     -6.305      0.000   -9.47e+04   -4.95e+04\n",
       "continent[T.Asia]           1324.7980   4805.099      0.276      0.783   -8170.667    1.08e+04\n",
       "continent[T.Europe]         9167.0203   5785.650      1.584      0.115   -2266.134    2.06e+04\n",
       "continent[T.North America] -1.446e+04   5947.502     -2.431      0.016   -2.62e+04   -2704.270\n",
       "continent[T.Oceania]       -1.429e+04   6063.764     -2.357      0.020   -2.63e+04   -2307.304\n",
       "continent[T.South America] -1.329e+04   6462.516     -2.056      0.042   -2.61e+04    -516.198\n",
       "lifeFemale                  1393.4213    194.062      7.180      0.000    1009.931    1776.911\n",
       "==============================================================================\n",
       "Omnibus:                       67.873   Durbin-Watson:                   1.942\n",
       "Prob(Omnibus):                  0.000   Jarque-Bera (JB):              231.081\n",
       "Skew:                           1.701   Prob(JB):                     6.63e-51\n",
       "Kurtosis:                       7.920   Cond. No.                         721.\n",
       "==============================================================================\n",
       "\n",
       "Notes:\n",
       "[1] Standard Errors assume that the covariance matrix of the errors is correctly specified.\n",
       "\"\"\""
      ]
     },
     "execution_count": 53,
     "metadata": {},
     "output_type": "execute_result"
    }
   ],
   "source": [
    "ols_object = smf.ols(formula = 'gdpPerCapita~lifeFemale+continent',data = soc)\n",
    "model3= ols_object.fit()\n",
    "model3.summary()"
   ]
  },
  {
   "attachments": {},
   "cell_type": "markdown",
   "id": "f992f181",
   "metadata": {},
   "source": [
    "Asia and Europe don't have a significant have a signficant difference between their mean `gdpPerCapita` and that of Africa and this is because their p value is above 0.05. "
   ]
  },
  {
   "cell_type": "markdown",
   "id": "4f3a1954",
   "metadata": {},
   "source": [
    "### Variable interaction\n",
    "The model developed in the previous question has a limitation. It assumes that the increase in mean `gdpPerCapita` with a unit increase in $P$ does not depend on the `continent`. \n",
    "\n",
    "1. Eliminate this limitation by including interaction of `continent` with $P$ in the model developed in the previous question. Print the model summary of the model with interactions.\n",
    "\n",
    "2. Interpret the coefficient of any one of the interaction terms.\n",
    "*(4 + 4 points)*"
   ]
  },
  {
   "cell_type": "code",
   "execution_count": 54,
   "id": "530e3ce7",
   "metadata": {},
   "outputs": [
    {
     "data": {
      "text/html": [
       "<table class=\"simpletable\">\n",
       "<caption>OLS Regression Results</caption>\n",
       "<tr>\n",
       "  <th>Dep. Variable:</th>      <td>gdpPerCapita</td>   <th>  R-squared:         </th> <td>   0.605</td>\n",
       "</tr>\n",
       "<tr>\n",
       "  <th>Model:</th>                   <td>OLS</td>       <th>  Adj. R-squared:    </th> <td>   0.574</td>\n",
       "</tr>\n",
       "<tr>\n",
       "  <th>Method:</th>             <td>Least Squares</td>  <th>  F-statistic:       </th> <td>   19.90</td>\n",
       "</tr>\n",
       "<tr>\n",
       "  <th>Date:</th>             <td>Sun, 29 Jan 2023</td> <th>  Prob (F-statistic):</th> <td>7.99e-24</td>\n",
       "</tr>\n",
       "<tr>\n",
       "  <th>Time:</th>                 <td>22:09:00</td>     <th>  Log-Likelihood:    </th> <td> -1706.6</td>\n",
       "</tr>\n",
       "<tr>\n",
       "  <th>No. Observations:</th>      <td>   155</td>      <th>  AIC:               </th> <td>   3437.</td>\n",
       "</tr>\n",
       "<tr>\n",
       "  <th>Df Residuals:</th>          <td>   143</td>      <th>  BIC:               </th> <td>   3474.</td>\n",
       "</tr>\n",
       "<tr>\n",
       "  <th>Df Model:</th>              <td>    11</td>      <th>                     </th>     <td> </td>   \n",
       "</tr>\n",
       "<tr>\n",
       "  <th>Covariance Type:</th>      <td>nonrobust</td>    <th>                     </th>     <td> </td>   \n",
       "</tr>\n",
       "</table>\n",
       "<table class=\"simpletable\">\n",
       "<tr>\n",
       "                    <td></td>                       <th>coef</th>     <th>std err</th>      <th>t</th>      <th>P>|t|</th>  <th>[0.025</th>    <th>0.975]</th>  \n",
       "</tr>\n",
       "<tr>\n",
       "  <th>Intercept</th>                             <td>-1.723e+04</td> <td> 1.53e+04</td> <td>   -1.129</td> <td> 0.261</td> <td>-4.74e+04</td> <td> 1.29e+04</td>\n",
       "</tr>\n",
       "<tr>\n",
       "  <th>continent[T.Asia]</th>                     <td>-1.094e+05</td> <td> 2.63e+04</td> <td>   -4.156</td> <td> 0.000</td> <td>-1.61e+05</td> <td>-5.74e+04</td>\n",
       "</tr>\n",
       "<tr>\n",
       "  <th>continent[T.Europe]</th>                   <td>-2.774e+05</td> <td> 6.63e+04</td> <td>   -4.185</td> <td> 0.000</td> <td>-4.08e+05</td> <td>-1.46e+05</td>\n",
       "</tr>\n",
       "<tr>\n",
       "  <th>continent[T.North America]</th>            <td>  -6.6e+04</td> <td> 4.88e+04</td> <td>   -1.352</td> <td> 0.178</td> <td>-1.62e+05</td> <td> 3.05e+04</td>\n",
       "</tr>\n",
       "<tr>\n",
       "  <th>continent[T.Oceania]</th>                  <td>-1.367e+05</td> <td> 5.78e+04</td> <td>   -2.364</td> <td> 0.019</td> <td>-2.51e+05</td> <td>-2.24e+04</td>\n",
       "</tr>\n",
       "<tr>\n",
       "  <th>continent[T.South America]</th>            <td>-7830.3082</td> <td> 8.18e+04</td> <td>   -0.096</td> <td> 0.924</td> <td>-1.69e+05</td> <td> 1.54e+05</td>\n",
       "</tr>\n",
       "<tr>\n",
       "  <th>lifeFemale</th>                            <td>  428.5595</td> <td>  264.214</td> <td>    1.622</td> <td> 0.107</td> <td>  -93.711</td> <td>  950.830</td>\n",
       "</tr>\n",
       "<tr>\n",
       "  <th>continent[T.Asia]:lifeFemale</th>          <td> 1755.1049</td> <td>  400.782</td> <td>    4.379</td> <td> 0.000</td> <td>  962.882</td> <td> 2547.328</td>\n",
       "</tr>\n",
       "<tr>\n",
       "  <th>continent[T.Europe]:lifeFemale</th>        <td> 3944.6364</td> <td>  869.916</td> <td>    4.535</td> <td> 0.000</td> <td> 2225.080</td> <td> 5664.193</td>\n",
       "</tr>\n",
       "<tr>\n",
       "  <th>continent[T.North America]:lifeFemale</th> <td>  921.1328</td> <td>  667.359</td> <td>    1.380</td> <td> 0.170</td> <td> -398.031</td> <td> 2240.297</td>\n",
       "</tr>\n",
       "<tr>\n",
       "  <th>continent[T.Oceania]:lifeFemale</th>       <td> 1898.4382</td> <td>  812.766</td> <td>    2.336</td> <td> 0.021</td> <td>  291.851</td> <td> 3505.026</td>\n",
       "</tr>\n",
       "<tr>\n",
       "  <th>continent[T.South America]:lifeFemale</th> <td>  135.3138</td> <td> 1134.388</td> <td>    0.119</td> <td> 0.905</td> <td>-2107.022</td> <td> 2377.650</td>\n",
       "</tr>\n",
       "</table>\n",
       "<table class=\"simpletable\">\n",
       "<tr>\n",
       "  <th>Omnibus:</th>       <td>73.348</td> <th>  Durbin-Watson:     </th> <td>   1.900</td>\n",
       "</tr>\n",
       "<tr>\n",
       "  <th>Prob(Omnibus):</th> <td> 0.000</td> <th>  Jarque-Bera (JB):  </th> <td> 290.376</td>\n",
       "</tr>\n",
       "<tr>\n",
       "  <th>Skew:</th>          <td> 1.785</td> <th>  Prob(JB):          </th> <td>8.82e-64</td>\n",
       "</tr>\n",
       "<tr>\n",
       "  <th>Kurtosis:</th>      <td> 8.676</td> <th>  Cond. No.          </th> <td>5.23e+03</td>\n",
       "</tr>\n",
       "</table><br/><br/>Notes:<br/>[1] Standard Errors assume that the covariance matrix of the errors is correctly specified.<br/>[2] The condition number is large, 5.23e+03. This might indicate that there are<br/>strong multicollinearity or other numerical problems."
      ],
      "text/plain": [
       "<class 'statsmodels.iolib.summary.Summary'>\n",
       "\"\"\"\n",
       "                            OLS Regression Results                            \n",
       "==============================================================================\n",
       "Dep. Variable:           gdpPerCapita   R-squared:                       0.605\n",
       "Model:                            OLS   Adj. R-squared:                  0.574\n",
       "Method:                 Least Squares   F-statistic:                     19.90\n",
       "Date:                Sun, 29 Jan 2023   Prob (F-statistic):           7.99e-24\n",
       "Time:                        22:09:00   Log-Likelihood:                -1706.6\n",
       "No. Observations:                 155   AIC:                             3437.\n",
       "Df Residuals:                     143   BIC:                             3474.\n",
       "Df Model:                          11                                         \n",
       "Covariance Type:            nonrobust                                         \n",
       "=========================================================================================================\n",
       "                                            coef    std err          t      P>|t|      [0.025      0.975]\n",
       "---------------------------------------------------------------------------------------------------------\n",
       "Intercept                             -1.723e+04   1.53e+04     -1.129      0.261   -4.74e+04    1.29e+04\n",
       "continent[T.Asia]                     -1.094e+05   2.63e+04     -4.156      0.000   -1.61e+05   -5.74e+04\n",
       "continent[T.Europe]                   -2.774e+05   6.63e+04     -4.185      0.000   -4.08e+05   -1.46e+05\n",
       "continent[T.North America]              -6.6e+04   4.88e+04     -1.352      0.178   -1.62e+05    3.05e+04\n",
       "continent[T.Oceania]                  -1.367e+05   5.78e+04     -2.364      0.019   -2.51e+05   -2.24e+04\n",
       "continent[T.South America]            -7830.3082   8.18e+04     -0.096      0.924   -1.69e+05    1.54e+05\n",
       "lifeFemale                              428.5595    264.214      1.622      0.107     -93.711     950.830\n",
       "continent[T.Asia]:lifeFemale           1755.1049    400.782      4.379      0.000     962.882    2547.328\n",
       "continent[T.Europe]:lifeFemale         3944.6364    869.916      4.535      0.000    2225.080    5664.193\n",
       "continent[T.North America]:lifeFemale   921.1328    667.359      1.380      0.170    -398.031    2240.297\n",
       "continent[T.Oceania]:lifeFemale        1898.4382    812.766      2.336      0.021     291.851    3505.026\n",
       "continent[T.South America]:lifeFemale   135.3138   1134.388      0.119      0.905   -2107.022    2377.650\n",
       "==============================================================================\n",
       "Omnibus:                       73.348   Durbin-Watson:                   1.900\n",
       "Prob(Omnibus):                  0.000   Jarque-Bera (JB):              290.376\n",
       "Skew:                           1.785   Prob(JB):                     8.82e-64\n",
       "Kurtosis:                       8.676   Cond. No.                     5.23e+03\n",
       "==============================================================================\n",
       "\n",
       "Notes:\n",
       "[1] Standard Errors assume that the covariance matrix of the errors is correctly specified.\n",
       "[2] The condition number is large, 5.23e+03. This might indicate that there are\n",
       "strong multicollinearity or other numerical problems.\n",
       "\"\"\""
      ]
     },
     "execution_count": 54,
     "metadata": {},
     "output_type": "execute_result"
    }
   ],
   "source": [
    "ols_object = smf.ols(formula = 'gdpPerCapita~lifeFemale+continent*lifeFemale',data = soc)\n",
    "model4 = ols_object.fit()\n",
    "model4.summary()"
   ]
  },
  {
   "attachments": {},
   "cell_type": "markdown",
   "id": "7875ab28",
   "metadata": {},
   "source": [
    "A one unit increase in female life expectancy in Europe results in 3944.636 increase in gdp per capita relative to Africa."
   ]
  },
  {
   "cell_type": "markdown",
   "id": "329e4e69",
   "metadata": {},
   "source": [
    "### Model visualisation\n",
    "Use the model developed in the previous question to plot the regression lines for Africa, Asia, and Europe. Put `gdpPerCapita` on the vertical axis and $P$ on the horizontal axis. Use a legend to distinguish among the regression lines of the three continents.\n",
    "\n",
    "*(4 points)*"
   ]
  },
  {
   "cell_type": "code",
   "execution_count": 59,
   "id": "7a078a97",
   "metadata": {},
   "outputs": [
    {
     "data": {
      "text/plain": [
       "<matplotlib.legend.Legend at 0x7fbe66dacfd0>"
      ]
     },
     "execution_count": 59,
     "metadata": {},
     "output_type": "execute_result"
    },
    {
     "data": {
      "image/png": "[encoded data removed]",
      "text/plain": [
       "<Figure size 648x432 with 1 Axes>"
      ]
     },
     "metadata": {},
     "output_type": "display_data"
    }
   ],
   "source": [
    "plt.rcParams[\"figure.figsize\"] = (9,6)\n",
    "sns.set(font_scale=1.25)\n",
    "x = np.linspace(soc.lifeFemale.min(), soc.lifeFemale.max(), 1000)\n",
    "\n",
    "ax = sns.lineplot(x = x, y = model4.params['lifeFemale']*x+model4.params['Intercept'], label = 'Africa')\n",
    "sns.lineplot(x = x, y = (model4.params['lifeFemale'] + model4.params['continent[T.Asia]:lifeFemale'])*x+model4.params['continent[T.Asia]']+model4.params['Intercept'], label = 'Asia')\n",
    "sns.lineplot(x = x, y = (model4.params['lifeFemale'] + model4.params['continent[T.Europe]:lifeFemale'])*x+model4.params['continent[T.Europe]']+model4.params['Intercept'], label = 'Europe')\n",
    "\n",
    "ax.yaxis.set_major_formatter('${x:,.0f}')\n",
    "\n",
    "plt.legend()"
   ]
  },
  {
   "cell_type": "markdown",
   "id": "1f33bca2",
   "metadata": {},
   "source": [
    "### Model interpretation\n",
    "Based on the plot develop in the previous question, which continent has the highest increase in mean `gdpPerCapita` for a unit increase in $P$, and which one has the least? Justify your answer.\n",
    "\n",
    "*(2+2 points)*"
   ]
  },
  {
   "attachments": {},
   "cell_type": "markdown",
   "id": "8d394b2c",
   "metadata": {},
   "source": [
    "Highest increase is in Europe since the slope is larger. Lowest is Africa since the slope is lower and flatter. "
   ]
  }
 ],
 "metadata": {
  "kernelspec": {
   "display_name": "base",
   "language": "python",
   "name": "python3"
  },
  "language_info": {
   "codemirror_mode": {
    "name": "ipython",
    "version": 3
   },
   "file_extension": ".py",
   "mimetype": "text/x-python",
   "name": "python",
   "nbconvert_exporter": "python",
   "pygments_lexer": "ipython3",
   "version": "3.8.8"
  },
  "vscode": {
   "interpreter": {
    "hash": "9b30c500a2c6b773b3af537f6a7d82178de4caa4af23850326d13fdd2609c842"
   }
  }
 },
 "nbformat": 4,
 "nbformat_minor": 5
}

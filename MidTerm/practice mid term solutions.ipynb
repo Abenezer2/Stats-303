{
 "cells": [
  {
   "cell_type": "markdown",
   "id": "57f9ad7d",
   "metadata": {},
   "source": [
    "# Solutions to coding questions of practice midterm"
   ]
  },
  {
   "cell_type": "code",
   "execution_count": 1,
   "id": "ef072607",
   "metadata": {},
   "outputs": [],
   "source": [
    "import pandas as pd\n",
    "import numpy as np\n",
    "import seaborn as sns\n",
    "import matplotlib.pyplot as plt\n",
    "import statsmodels.formula.api as sm"
   ]
  },
  {
   "cell_type": "markdown",
   "id": "b48e59a3",
   "metadata": {},
   "source": [
    "# 14"
   ]
  },
  {
   "cell_type": "code",
   "execution_count": 2,
   "id": "3edc3069",
   "metadata": {},
   "outputs": [
    {
     "data": {
      "text/html": [
       "<div>\n",
       "<style scoped>\n",
       "    .dataframe tbody tr th:only-of-type {\n",
       "        vertical-align: middle;\n",
       "    }\n",
       "\n",
       "    .dataframe tbody tr th {\n",
       "        vertical-align: top;\n",
       "    }\n",
       "\n",
       "    .dataframe thead th {\n",
       "        text-align: right;\n",
       "    }\n",
       "</style>\n",
       "<table border=\"1\" class=\"dataframe\">\n",
       "  <thead>\n",
       "    <tr style=\"text-align: right;\">\n",
       "      <th></th>\n",
       "      <th>Id</th>\n",
       "      <th>BldgType</th>\n",
       "      <th>HouseStyle</th>\n",
       "      <th>OverallQual</th>\n",
       "      <th>GrLivArea</th>\n",
       "      <th>SalePrice</th>\n",
       "      <th>Neighborhood</th>\n",
       "      <th>LotArea</th>\n",
       "      <th>TotRmsAbvGrd</th>\n",
       "    </tr>\n",
       "  </thead>\n",
       "  <tbody>\n",
       "    <tr>\n",
       "      <th>0</th>\n",
       "      <td>15</td>\n",
       "      <td>1Fam</td>\n",
       "      <td>1Story</td>\n",
       "      <td>6</td>\n",
       "      <td>1253</td>\n",
       "      <td>157000</td>\n",
       "      <td>NAmes</td>\n",
       "      <td>10920</td>\n",
       "      <td>5</td>\n",
       "    </tr>\n",
       "    <tr>\n",
       "      <th>1</th>\n",
       "      <td>17</td>\n",
       "      <td>1Fam</td>\n",
       "      <td>1Story</td>\n",
       "      <td>6</td>\n",
       "      <td>1004</td>\n",
       "      <td>149000</td>\n",
       "      <td>NAmes</td>\n",
       "      <td>11241</td>\n",
       "      <td>5</td>\n",
       "    </tr>\n",
       "    <tr>\n",
       "      <th>2</th>\n",
       "      <td>20</td>\n",
       "      <td>1Fam</td>\n",
       "      <td>1Story</td>\n",
       "      <td>5</td>\n",
       "      <td>1339</td>\n",
       "      <td>139000</td>\n",
       "      <td>NAmes</td>\n",
       "      <td>7560</td>\n",
       "      <td>6</td>\n",
       "    </tr>\n",
       "    <tr>\n",
       "      <th>3</th>\n",
       "      <td>27</td>\n",
       "      <td>1Fam</td>\n",
       "      <td>1Story</td>\n",
       "      <td>5</td>\n",
       "      <td>900</td>\n",
       "      <td>134800</td>\n",
       "      <td>NAmes</td>\n",
       "      <td>7200</td>\n",
       "      <td>5</td>\n",
       "    </tr>\n",
       "    <tr>\n",
       "      <th>4</th>\n",
       "      <td>29</td>\n",
       "      <td>1Fam</td>\n",
       "      <td>1Story</td>\n",
       "      <td>5</td>\n",
       "      <td>1600</td>\n",
       "      <td>207500</td>\n",
       "      <td>NAmes</td>\n",
       "      <td>16321</td>\n",
       "      <td>6</td>\n",
       "    </tr>\n",
       "  </tbody>\n",
       "</table>\n",
       "</div>"
      ],
      "text/plain": [
       "   Id BldgType HouseStyle  OverallQual  GrLivArea  SalePrice Neighborhood  \\\n",
       "0  15     1Fam     1Story            6       1253     157000        NAmes   \n",
       "1  17     1Fam     1Story            6       1004     149000        NAmes   \n",
       "2  20     1Fam     1Story            5       1339     139000        NAmes   \n",
       "3  27     1Fam     1Story            5        900     134800        NAmes   \n",
       "4  29     1Fam     1Story            5       1600     207500        NAmes   \n",
       "\n",
       "   LotArea  TotRmsAbvGrd  \n",
       "0    10920             5  \n",
       "1    11241             5  \n",
       "2     7560             6  \n",
       "3     7200             5  \n",
       "4    16321             6  "
      ]
     },
     "execution_count": 2,
     "metadata": {},
     "output_type": "execute_result"
    }
   ],
   "source": [
    "data = pd.read_csv('housing_data_train.csv')\n",
    "test = pd.read_csv('housing_data_test.csv')\n",
    "data.head()"
   ]
  },
  {
   "cell_type": "code",
   "execution_count": 3,
   "id": "30c95344",
   "metadata": {},
   "outputs": [
    {
     "data": {
      "text/html": [
       "<table class=\"simpletable\">\n",
       "<caption>OLS Regression Results</caption>\n",
       "<tr>\n",
       "  <th>Dep. Variable:</th>        <td>SalePrice</td>    <th>  R-squared:         </th> <td>   0.769</td> \n",
       "</tr>\n",
       "<tr>\n",
       "  <th>Model:</th>                   <td>OLS</td>       <th>  Adj. R-squared:    </th> <td>   0.768</td> \n",
       "</tr>\n",
       "<tr>\n",
       "  <th>Method:</th>             <td>Least Squares</td>  <th>  F-statistic:       </th> <td>   707.2</td> \n",
       "</tr>\n",
       "<tr>\n",
       "  <th>Date:</th>             <td>Wed, 01 Feb 2023</td> <th>  Prob (F-statistic):</th> <td>8.83e-269</td>\n",
       "</tr>\n",
       "<tr>\n",
       "  <th>Time:</th>                 <td>09:05:38</td>     <th>  Log-Likelihood:    </th> <td> -10346.</td> \n",
       "</tr>\n",
       "<tr>\n",
       "  <th>No. Observations:</th>      <td>   856</td>      <th>  AIC:               </th> <td>2.070e+04</td>\n",
       "</tr>\n",
       "<tr>\n",
       "  <th>Df Residuals:</th>          <td>   851</td>      <th>  BIC:               </th> <td>2.073e+04</td>\n",
       "</tr>\n",
       "<tr>\n",
       "  <th>Df Model:</th>              <td>     4</td>      <th>                     </th>     <td> </td>    \n",
       "</tr>\n",
       "<tr>\n",
       "  <th>Covariance Type:</th>      <td>nonrobust</td>    <th>                     </th>     <td> </td>    \n",
       "</tr>\n",
       "</table>\n",
       "<table class=\"simpletable\">\n",
       "<tr>\n",
       "        <td></td>          <th>coef</th>     <th>std err</th>      <th>t</th>      <th>P>|t|</th>  <th>[0.025</th>    <th>0.975]</th>  \n",
       "</tr>\n",
       "<tr>\n",
       "  <th>Intercept</th>    <td>-1.318e+05</td> <td> 8349.223</td> <td>  -15.786</td> <td> 0.000</td> <td>-1.48e+05</td> <td>-1.15e+05</td>\n",
       "</tr>\n",
       "<tr>\n",
       "  <th>GrLivArea</th>    <td>   66.0374</td> <td>    5.650</td> <td>   11.687</td> <td> 0.000</td> <td>   54.947</td> <td>   77.128</td>\n",
       "</tr>\n",
       "<tr>\n",
       "  <th>OverallQual</th>  <td> 3.674e+04</td> <td> 1297.740</td> <td>   28.308</td> <td> 0.000</td> <td> 3.42e+04</td> <td> 3.93e+04</td>\n",
       "</tr>\n",
       "<tr>\n",
       "  <th>LotArea</th>      <td>    1.0524</td> <td>    0.151</td> <td>    6.963</td> <td> 0.000</td> <td>    0.756</td> <td>    1.349</td>\n",
       "</tr>\n",
       "<tr>\n",
       "  <th>TotRmsAbvGrd</th> <td>-3190.0280</td> <td> 1580.487</td> <td>   -2.018</td> <td> 0.044</td> <td>-6292.138</td> <td>  -87.918</td>\n",
       "</tr>\n",
       "</table>\n",
       "<table class=\"simpletable\">\n",
       "<tr>\n",
       "  <th>Omnibus:</th>       <td>220.950</td> <th>  Durbin-Watson:     </th> <td>   1.778</td>\n",
       "</tr>\n",
       "<tr>\n",
       "  <th>Prob(Omnibus):</th> <td> 0.000</td>  <th>  Jarque-Bera (JB):  </th> <td>1471.153</td>\n",
       "</tr>\n",
       "<tr>\n",
       "  <th>Skew:</th>          <td> 0.996</td>  <th>  Prob(JB):          </th> <td>    0.00</td>\n",
       "</tr>\n",
       "<tr>\n",
       "  <th>Kurtosis:</th>      <td> 9.106</td>  <th>  Cond. No.          </th> <td>8.40e+04</td>\n",
       "</tr>\n",
       "</table><br/><br/>Notes:<br/>[1] Standard Errors assume that the covariance matrix of the errors is correctly specified.<br/>[2] The condition number is large, 8.4e+04. This might indicate that there are<br/>strong multicollinearity or other numerical problems."
      ],
      "text/plain": [
       "<class 'statsmodels.iolib.summary.Summary'>\n",
       "\"\"\"\n",
       "                            OLS Regression Results                            \n",
       "==============================================================================\n",
       "Dep. Variable:              SalePrice   R-squared:                       0.769\n",
       "Model:                            OLS   Adj. R-squared:                  0.768\n",
       "Method:                 Least Squares   F-statistic:                     707.2\n",
       "Date:                Wed, 01 Feb 2023   Prob (F-statistic):          8.83e-269\n",
       "Time:                        09:05:38   Log-Likelihood:                -10346.\n",
       "No. Observations:                 856   AIC:                         2.070e+04\n",
       "Df Residuals:                     851   BIC:                         2.073e+04\n",
       "Df Model:                           4                                         \n",
       "Covariance Type:            nonrobust                                         \n",
       "================================================================================\n",
       "                   coef    std err          t      P>|t|      [0.025      0.975]\n",
       "--------------------------------------------------------------------------------\n",
       "Intercept    -1.318e+05   8349.223    -15.786      0.000   -1.48e+05   -1.15e+05\n",
       "GrLivArea       66.0374      5.650     11.687      0.000      54.947      77.128\n",
       "OverallQual   3.674e+04   1297.740     28.308      0.000    3.42e+04    3.93e+04\n",
       "LotArea          1.0524      0.151      6.963      0.000       0.756       1.349\n",
       "TotRmsAbvGrd -3190.0280   1580.487     -2.018      0.044   -6292.138     -87.918\n",
       "==============================================================================\n",
       "Omnibus:                      220.950   Durbin-Watson:                   1.778\n",
       "Prob(Omnibus):                  0.000   Jarque-Bera (JB):             1471.153\n",
       "Skew:                           0.996   Prob(JB):                         0.00\n",
       "Kurtosis:                       9.106   Cond. No.                     8.40e+04\n",
       "==============================================================================\n",
       "\n",
       "Notes:\n",
       "[1] Standard Errors assume that the covariance matrix of the errors is correctly specified.\n",
       "[2] The condition number is large, 8.4e+04. This might indicate that there are\n",
       "strong multicollinearity or other numerical problems.\n",
       "\"\"\""
      ]
     },
     "execution_count": 3,
     "metadata": {},
     "output_type": "execute_result"
    }
   ],
   "source": [
    "model = sm.ols(formula = 'SalePrice~GrLivArea+OverallQual+LotArea+TotRmsAbvGrd', data = data).fit()\n",
    "model.summary()"
   ]
  },
  {
   "cell_type": "markdown",
   "id": "d1f853dd",
   "metadata": {},
   "source": [
    "# 15"
   ]
  },
  {
   "cell_type": "code",
   "execution_count": 16,
   "id": "49493a03",
   "metadata": {},
   "outputs": [
    {
     "data": {
      "text/plain": [
       "43061.08396927368"
      ]
     },
     "execution_count": 16,
     "metadata": {},
     "output_type": "execute_result"
    }
   ],
   "source": [
    "np.sqrt(model.mse_resid)"
   ]
  },
  {
   "cell_type": "markdown",
   "id": "7f093cac",
   "metadata": {},
   "source": [
    "# 16"
   ]
  },
  {
   "cell_type": "code",
   "execution_count": 4,
   "id": "b26d8b57",
   "metadata": {},
   "outputs": [
    {
     "data": {
      "text/html": [
       "<table class=\"simpletable\">\n",
       "<caption>OLS Regression Results</caption>\n",
       "<tr>\n",
       "  <th>Dep. Variable:</th>        <td>SalePrice</td>    <th>  R-squared:         </th> <td>   0.774</td> \n",
       "</tr>\n",
       "<tr>\n",
       "  <th>Model:</th>                   <td>OLS</td>       <th>  Adj. R-squared:    </th> <td>   0.772</td> \n",
       "</tr>\n",
       "<tr>\n",
       "  <th>Method:</th>             <td>Least Squares</td>  <th>  F-statistic:       </th> <td>   414.7</td> \n",
       "</tr>\n",
       "<tr>\n",
       "  <th>Date:</th>             <td>Wed, 01 Feb 2023</td> <th>  Prob (F-statistic):</th> <td>9.43e-269</td>\n",
       "</tr>\n",
       "<tr>\n",
       "  <th>Time:</th>                 <td>09:07:19</td>     <th>  Log-Likelihood:    </th> <td> -10336.</td> \n",
       "</tr>\n",
       "<tr>\n",
       "  <th>No. Observations:</th>      <td>   856</td>      <th>  AIC:               </th> <td>2.069e+04</td>\n",
       "</tr>\n",
       "<tr>\n",
       "  <th>Df Residuals:</th>          <td>   848</td>      <th>  BIC:               </th> <td>2.073e+04</td>\n",
       "</tr>\n",
       "<tr>\n",
       "  <th>Df Model:</th>              <td>     7</td>      <th>                     </th>     <td> </td>    \n",
       "</tr>\n",
       "<tr>\n",
       "  <th>Covariance Type:</th>      <td>nonrobust</td>    <th>                     </th>     <td> </td>    \n",
       "</tr>\n",
       "</table>\n",
       "<table class=\"simpletable\">\n",
       "<tr>\n",
       "           <td></td>             <th>coef</th>     <th>std err</th>      <th>t</th>      <th>P>|t|</th>  <th>[0.025</th>    <th>0.975]</th>  \n",
       "</tr>\n",
       "<tr>\n",
       "  <th>Intercept</th>          <td>-1.379e+05</td> <td> 6903.293</td> <td>  -19.983</td> <td> 0.000</td> <td>-1.51e+05</td> <td>-1.24e+05</td>\n",
       "</tr>\n",
       "<tr>\n",
       "  <th>BldgType[T.2fmCon]</th> <td>-3.402e+04</td> <td> 9961.456</td> <td>   -3.415</td> <td> 0.001</td> <td>-5.36e+04</td> <td>-1.45e+04</td>\n",
       "</tr>\n",
       "<tr>\n",
       "  <th>BldgType[T.Duplex]</th> <td>-9149.7907</td> <td> 7910.993</td> <td>   -1.157</td> <td> 0.248</td> <td>-2.47e+04</td> <td> 6377.632</td>\n",
       "</tr>\n",
       "<tr>\n",
       "  <th>BldgType[T.Twnhs]</th>  <td>-2.847e+04</td> <td> 1.01e+04</td> <td>   -2.832</td> <td> 0.005</td> <td>-4.82e+04</td> <td>-8736.436</td>\n",
       "</tr>\n",
       "<tr>\n",
       "  <th>BldgType[T.TwnhsE]</th> <td>-1.103e+04</td> <td> 5948.819</td> <td>   -1.854</td> <td> 0.064</td> <td>-2.27e+04</td> <td>  648.230</td>\n",
       "</tr>\n",
       "<tr>\n",
       "  <th>GrLivArea</th>          <td>   57.3631</td> <td>    3.639</td> <td>   15.763</td> <td> 0.000</td> <td>   50.220</td> <td>   64.506</td>\n",
       "</tr>\n",
       "<tr>\n",
       "  <th>OverallQual</th>        <td> 3.699e+04</td> <td> 1415.272</td> <td>   26.137</td> <td> 0.000</td> <td> 3.42e+04</td> <td> 3.98e+04</td>\n",
       "</tr>\n",
       "<tr>\n",
       "  <th>LotArea</th>            <td>    1.0079</td> <td>    0.152</td> <td>    6.616</td> <td> 0.000</td> <td>    0.709</td> <td>    1.307</td>\n",
       "</tr>\n",
       "</table>\n",
       "<table class=\"simpletable\">\n",
       "<tr>\n",
       "  <th>Omnibus:</th>       <td>226.401</td> <th>  Durbin-Watson:     </th> <td>   1.793</td>\n",
       "</tr>\n",
       "<tr>\n",
       "  <th>Prob(Omnibus):</th> <td> 0.000</td>  <th>  Jarque-Bera (JB):  </th> <td>1543.620</td>\n",
       "</tr>\n",
       "<tr>\n",
       "  <th>Skew:</th>          <td> 1.018</td>  <th>  Prob(JB):          </th> <td>    0.00</td>\n",
       "</tr>\n",
       "<tr>\n",
       "  <th>Kurtosis:</th>      <td> 9.256</td>  <th>  Cond. No.          </th> <td>1.03e+05</td>\n",
       "</tr>\n",
       "</table><br/><br/>Notes:<br/>[1] Standard Errors assume that the covariance matrix of the errors is correctly specified.<br/>[2] The condition number is large, 1.03e+05. This might indicate that there are<br/>strong multicollinearity or other numerical problems."
      ],
      "text/plain": [
       "<class 'statsmodels.iolib.summary.Summary'>\n",
       "\"\"\"\n",
       "                            OLS Regression Results                            \n",
       "==============================================================================\n",
       "Dep. Variable:              SalePrice   R-squared:                       0.774\n",
       "Model:                            OLS   Adj. R-squared:                  0.772\n",
       "Method:                 Least Squares   F-statistic:                     414.7\n",
       "Date:                Wed, 01 Feb 2023   Prob (F-statistic):          9.43e-269\n",
       "Time:                        09:07:19   Log-Likelihood:                -10336.\n",
       "No. Observations:                 856   AIC:                         2.069e+04\n",
       "Df Residuals:                     848   BIC:                         2.073e+04\n",
       "Df Model:                           7                                         \n",
       "Covariance Type:            nonrobust                                         \n",
       "======================================================================================\n",
       "                         coef    std err          t      P>|t|      [0.025      0.975]\n",
       "--------------------------------------------------------------------------------------\n",
       "Intercept          -1.379e+05   6903.293    -19.983      0.000   -1.51e+05   -1.24e+05\n",
       "BldgType[T.2fmCon] -3.402e+04   9961.456     -3.415      0.001   -5.36e+04   -1.45e+04\n",
       "BldgType[T.Duplex] -9149.7907   7910.993     -1.157      0.248   -2.47e+04    6377.632\n",
       "BldgType[T.Twnhs]  -2.847e+04   1.01e+04     -2.832      0.005   -4.82e+04   -8736.436\n",
       "BldgType[T.TwnhsE] -1.103e+04   5948.819     -1.854      0.064   -2.27e+04     648.230\n",
       "GrLivArea             57.3631      3.639     15.763      0.000      50.220      64.506\n",
       "OverallQual         3.699e+04   1415.272     26.137      0.000    3.42e+04    3.98e+04\n",
       "LotArea                1.0079      0.152      6.616      0.000       0.709       1.307\n",
       "==============================================================================\n",
       "Omnibus:                      226.401   Durbin-Watson:                   1.793\n",
       "Prob(Omnibus):                  0.000   Jarque-Bera (JB):             1543.620\n",
       "Skew:                           1.018   Prob(JB):                         0.00\n",
       "Kurtosis:                       9.256   Cond. No.                     1.03e+05\n",
       "==============================================================================\n",
       "\n",
       "Notes:\n",
       "[1] Standard Errors assume that the covariance matrix of the errors is correctly specified.\n",
       "[2] The condition number is large, 1.03e+05. This might indicate that there are\n",
       "strong multicollinearity or other numerical problems.\n",
       "\"\"\""
      ]
     },
     "execution_count": 4,
     "metadata": {},
     "output_type": "execute_result"
    }
   ],
   "source": [
    "model = sm.ols(formula = 'SalePrice~GrLivArea+OverallQual+LotArea+BldgType', data = data).fit()\n",
    "model.summary()"
   ]
  },
  {
   "cell_type": "markdown",
   "id": "9db54643",
   "metadata": {},
   "source": [
    "# 17"
   ]
  },
  {
   "cell_type": "code",
   "execution_count": 5,
   "id": "ef6aeeb5",
   "metadata": {},
   "outputs": [],
   "source": [
    "data.loc[(data.BldgType!= '1Fam'),'BldgType']='Other'\n",
    "#data.loc[(data.HouseStyle!= '1Story') & (data.HouseStyle!= '2Story'),'HouseStyle']='Other'\n",
    "test.loc[(test.BldgType!= '1Fam'),'BldgType']='Other'\n",
    "#test.loc[(test.HouseStyle!= '1Story') & (test.HouseStyle!= '2Story'),'HouseStyle']='Other'"
   ]
  },
  {
   "cell_type": "code",
   "execution_count": 6,
   "id": "37cd806c",
   "metadata": {},
   "outputs": [
    {
     "data": {
      "text/html": [
       "<div>\n",
       "<style scoped>\n",
       "    .dataframe tbody tr th:only-of-type {\n",
       "        vertical-align: middle;\n",
       "    }\n",
       "\n",
       "    .dataframe tbody tr th {\n",
       "        vertical-align: top;\n",
       "    }\n",
       "\n",
       "    .dataframe thead th {\n",
       "        text-align: right;\n",
       "    }\n",
       "</style>\n",
       "<table border=\"1\" class=\"dataframe\">\n",
       "  <thead>\n",
       "    <tr style=\"text-align: right;\">\n",
       "      <th></th>\n",
       "      <th>Id</th>\n",
       "      <th>BldgType</th>\n",
       "      <th>HouseStyle</th>\n",
       "      <th>OverallQual</th>\n",
       "      <th>GrLivArea</th>\n",
       "      <th>SalePrice</th>\n",
       "      <th>Neighborhood</th>\n",
       "      <th>LotArea</th>\n",
       "      <th>TotRmsAbvGrd</th>\n",
       "    </tr>\n",
       "  </thead>\n",
       "  <tbody>\n",
       "    <tr>\n",
       "      <th>0</th>\n",
       "      <td>220</td>\n",
       "      <td>Other</td>\n",
       "      <td>1Story</td>\n",
       "      <td>7</td>\n",
       "      <td>1248</td>\n",
       "      <td>167240</td>\n",
       "      <td>Blmngtn</td>\n",
       "      <td>3010</td>\n",
       "      <td>5</td>\n",
       "    </tr>\n",
       "    <tr>\n",
       "      <th>1</th>\n",
       "      <td>230</td>\n",
       "      <td>Other</td>\n",
       "      <td>1Story</td>\n",
       "      <td>7</td>\n",
       "      <td>1555</td>\n",
       "      <td>192500</td>\n",
       "      <td>Blmngtn</td>\n",
       "      <td>3182</td>\n",
       "      <td>7</td>\n",
       "    </tr>\n",
       "    <tr>\n",
       "      <th>2</th>\n",
       "      <td>386</td>\n",
       "      <td>Other</td>\n",
       "      <td>1Story</td>\n",
       "      <td>8</td>\n",
       "      <td>1269</td>\n",
       "      <td>192000</td>\n",
       "      <td>Blmngtn</td>\n",
       "      <td>3182</td>\n",
       "      <td>6</td>\n",
       "    </tr>\n",
       "    <tr>\n",
       "      <th>3</th>\n",
       "      <td>444</td>\n",
       "      <td>Other</td>\n",
       "      <td>1Story</td>\n",
       "      <td>7</td>\n",
       "      <td>1258</td>\n",
       "      <td>172500</td>\n",
       "      <td>Blmngtn</td>\n",
       "      <td>3922</td>\n",
       "      <td>6</td>\n",
       "    </tr>\n",
       "    <tr>\n",
       "      <th>4</th>\n",
       "      <td>466</td>\n",
       "      <td>Other</td>\n",
       "      <td>1Story</td>\n",
       "      <td>7</td>\n",
       "      <td>1414</td>\n",
       "      <td>178740</td>\n",
       "      <td>Blmngtn</td>\n",
       "      <td>3072</td>\n",
       "      <td>6</td>\n",
       "    </tr>\n",
       "  </tbody>\n",
       "</table>\n",
       "</div>"
      ],
      "text/plain": [
       "    Id BldgType HouseStyle  OverallQual  GrLivArea  SalePrice Neighborhood  \\\n",
       "0  220    Other     1Story            7       1248     167240      Blmngtn   \n",
       "1  230    Other     1Story            7       1555     192500      Blmngtn   \n",
       "2  386    Other     1Story            8       1269     192000      Blmngtn   \n",
       "3  444    Other     1Story            7       1258     172500      Blmngtn   \n",
       "4  466    Other     1Story            7       1414     178740      Blmngtn   \n",
       "\n",
       "   LotArea  TotRmsAbvGrd  \n",
       "0     3010             5  \n",
       "1     3182             7  \n",
       "2     3182             6  \n",
       "3     3922             6  \n",
       "4     3072             6  "
      ]
     },
     "execution_count": 6,
     "metadata": {},
     "output_type": "execute_result"
    }
   ],
   "source": [
    "test.head()"
   ]
  },
  {
   "cell_type": "markdown",
   "id": "83ce3d0a",
   "metadata": {},
   "source": [
    "Predicted Price of a house = -1.389e+05 + 3.506e+04*BldgType[T.Other] + 61.03*GrLivArea -34.1667*BldgType[T.Other]:GrLivArea+3.624e+04\t*OverallQual+0.9942*LotArea"
   ]
  },
  {
   "cell_type": "markdown",
   "id": "f1e07736",
   "metadata": {},
   "source": [
    "Predicted Price of a 1Family house = -1.389e+05 + 61.03*GrLivArea +3.624e+04*OverallQual+0.9942*LotArea"
   ]
  },
  {
   "cell_type": "markdown",
   "id": "c60e9d96",
   "metadata": {},
   "source": [
    "Predicted Price of a 'Other' type of house = -1.389e+05 + 3.506e+04 + 61.03*GrLivArea -34.1667*1*GrLivArea+3.624e+04\t*OverallQual+0.9942*LotArea"
   ]
  },
  {
   "cell_type": "markdown",
   "id": "115ef888",
   "metadata": {},
   "source": [
    "Predicted Price of a 1Family house - Predicted Price of a 'Other' type of house = 0 - (3.506e+04-34.1667*1*1500)"
   ]
  },
  {
   "cell_type": "code",
   "execution_count": 35,
   "id": "9ccfde01",
   "metadata": {},
   "outputs": [
    {
     "data": {
      "text/html": [
       "<table class=\"simpletable\">\n",
       "<caption>OLS Regression Results</caption>\n",
       "<tr>\n",
       "  <th>Dep. Variable:</th>        <td>SalePrice</td>    <th>  R-squared:         </th> <td>   0.775</td> \n",
       "</tr>\n",
       "<tr>\n",
       "  <th>Model:</th>                   <td>OLS</td>       <th>  Adj. R-squared:    </th> <td>   0.774</td> \n",
       "</tr>\n",
       "<tr>\n",
       "  <th>Method:</th>             <td>Least Squares</td>  <th>  F-statistic:       </th> <td>   586.3</td> \n",
       "</tr>\n",
       "<tr>\n",
       "  <th>Date:</th>             <td>Fri, 27 Jan 2023</td> <th>  Prob (F-statistic):</th> <td>1.45e-272</td>\n",
       "</tr>\n",
       "<tr>\n",
       "  <th>Time:</th>                 <td>22:34:21</td>     <th>  Log-Likelihood:    </th> <td> -10334.</td> \n",
       "</tr>\n",
       "<tr>\n",
       "  <th>No. Observations:</th>      <td>   856</td>      <th>  AIC:               </th> <td>2.068e+04</td>\n",
       "</tr>\n",
       "<tr>\n",
       "  <th>Df Residuals:</th>          <td>   850</td>      <th>  BIC:               </th> <td>2.071e+04</td>\n",
       "</tr>\n",
       "<tr>\n",
       "  <th>Df Model:</th>              <td>     5</td>      <th>                     </th>     <td> </td>    \n",
       "</tr>\n",
       "<tr>\n",
       "  <th>Covariance Type:</th>      <td>nonrobust</td>    <th>                     </th>     <td> </td>    \n",
       "</tr>\n",
       "</table>\n",
       "<table class=\"simpletable\">\n",
       "<tr>\n",
       "               <td></td>                  <th>coef</th>     <th>std err</th>      <th>t</th>      <th>P>|t|</th>  <th>[0.025</th>    <th>0.975]</th>  \n",
       "</tr>\n",
       "<tr>\n",
       "  <th>Intercept</th>                   <td>-1.389e+05</td> <td> 6627.029</td> <td>  -20.959</td> <td> 0.000</td> <td>-1.52e+05</td> <td>-1.26e+05</td>\n",
       "</tr>\n",
       "<tr>\n",
       "  <th>BldgType[T.Other]</th>           <td> 3.506e+04</td> <td> 1.56e+04</td> <td>    2.242</td> <td> 0.025</td> <td> 4367.666</td> <td> 6.58e+04</td>\n",
       "</tr>\n",
       "<tr>\n",
       "  <th>GrLivArea</th>                   <td>   61.0313</td> <td>    3.655</td> <td>   16.700</td> <td> 0.000</td> <td>   53.858</td> <td>   68.204</td>\n",
       "</tr>\n",
       "<tr>\n",
       "  <th>BldgType[T.Other]:GrLivArea</th> <td>  -34.1667</td> <td>   10.004</td> <td>   -3.415</td> <td> 0.001</td> <td>  -53.802</td> <td>  -14.532</td>\n",
       "</tr>\n",
       "<tr>\n",
       "  <th>OverallQual</th>                 <td> 3.624e+04</td> <td> 1297.350</td> <td>   27.932</td> <td> 0.000</td> <td> 3.37e+04</td> <td> 3.88e+04</td>\n",
       "</tr>\n",
       "<tr>\n",
       "  <th>LotArea</th>                     <td>    0.9942</td> <td>    0.150</td> <td>    6.629</td> <td> 0.000</td> <td>    0.700</td> <td>    1.289</td>\n",
       "</tr>\n",
       "</table>\n",
       "<table class=\"simpletable\">\n",
       "<tr>\n",
       "  <th>Omnibus:</th>       <td>211.504</td> <th>  Durbin-Watson:     </th> <td>   1.759</td> \n",
       "</tr>\n",
       "<tr>\n",
       "  <th>Prob(Omnibus):</th> <td> 0.000</td>  <th>  Jarque-Bera (JB):  </th> <td>1414.902</td> \n",
       "</tr>\n",
       "<tr>\n",
       "  <th>Skew:</th>          <td> 0.944</td>  <th>  Prob(JB):          </th> <td>5.73e-308</td>\n",
       "</tr>\n",
       "<tr>\n",
       "  <th>Kurtosis:</th>      <td> 9.009</td>  <th>  Cond. No.          </th> <td>1.58e+05</td> \n",
       "</tr>\n",
       "</table><br/><br/>Notes:<br/>[1] Standard Errors assume that the covariance matrix of the errors is correctly specified.<br/>[2] The condition number is large, 1.58e+05. This might indicate that there are<br/>strong multicollinearity or other numerical problems."
      ],
      "text/plain": [
       "<class 'statsmodels.iolib.summary.Summary'>\n",
       "\"\"\"\n",
       "                            OLS Regression Results                            \n",
       "==============================================================================\n",
       "Dep. Variable:              SalePrice   R-squared:                       0.775\n",
       "Model:                            OLS   Adj. R-squared:                  0.774\n",
       "Method:                 Least Squares   F-statistic:                     586.3\n",
       "Date:                Fri, 27 Jan 2023   Prob (F-statistic):          1.45e-272\n",
       "Time:                        22:34:21   Log-Likelihood:                -10334.\n",
       "No. Observations:                 856   AIC:                         2.068e+04\n",
       "Df Residuals:                     850   BIC:                         2.071e+04\n",
       "Df Model:                           5                                         \n",
       "Covariance Type:            nonrobust                                         \n",
       "===============================================================================================\n",
       "                                  coef    std err          t      P>|t|      [0.025      0.975]\n",
       "-----------------------------------------------------------------------------------------------\n",
       "Intercept                   -1.389e+05   6627.029    -20.959      0.000   -1.52e+05   -1.26e+05\n",
       "BldgType[T.Other]            3.506e+04   1.56e+04      2.242      0.025    4367.666    6.58e+04\n",
       "GrLivArea                      61.0313      3.655     16.700      0.000      53.858      68.204\n",
       "BldgType[T.Other]:GrLivArea   -34.1667     10.004     -3.415      0.001     -53.802     -14.532\n",
       "OverallQual                  3.624e+04   1297.350     27.932      0.000    3.37e+04    3.88e+04\n",
       "LotArea                         0.9942      0.150      6.629      0.000       0.700       1.289\n",
       "==============================================================================\n",
       "Omnibus:                      211.504   Durbin-Watson:                   1.759\n",
       "Prob(Omnibus):                  0.000   Jarque-Bera (JB):             1414.902\n",
       "Skew:                           0.944   Prob(JB):                    5.73e-308\n",
       "Kurtosis:                       9.009   Cond. No.                     1.58e+05\n",
       "==============================================================================\n",
       "\n",
       "Notes:\n",
       "[1] Standard Errors assume that the covariance matrix of the errors is correctly specified.\n",
       "[2] The condition number is large, 1.58e+05. This might indicate that there are\n",
       "strong multicollinearity or other numerical problems.\n",
       "\"\"\""
      ]
     },
     "execution_count": 35,
     "metadata": {},
     "output_type": "execute_result"
    }
   ],
   "source": [
    "model = sm.ols(formula = 'SalePrice~GrLivArea+OverallQual+LotArea+BldgType*GrLivArea', data = data).fit()\n",
    "model.summary()"
   ]
  },
  {
   "cell_type": "code",
   "execution_count": 36,
   "id": "5574c35b",
   "metadata": {},
   "outputs": [
    {
     "data": {
      "text/plain": [
       "26.86454719639184"
      ]
     },
     "execution_count": 36,
     "metadata": {},
     "output_type": "execute_result"
    }
   ],
   "source": [
    "model.params['GrLivArea']+model.params['BldgType[T.Other]:GrLivArea']"
   ]
  },
  {
   "cell_type": "markdown",
   "id": "24a453b7",
   "metadata": {},
   "source": [
    "# 18"
   ]
  },
  {
   "cell_type": "code",
   "execution_count": 37,
   "id": "872383a8",
   "metadata": {},
   "outputs": [
    {
     "data": {
      "text/plain": [
       "-34.1667382782559"
      ]
     },
     "execution_count": 37,
     "metadata": {},
     "output_type": "execute_result"
    }
   ],
   "source": [
    "model.params['BldgType[T.Other]:GrLivArea']"
   ]
  },
  {
   "cell_type": "code",
   "execution_count": 38,
   "id": "9d43984c",
   "metadata": {},
   "outputs": [
    {
     "data": {
      "text/plain": [
       "-15939.49069812354"
      ]
     },
     "execution_count": 38,
     "metadata": {},
     "output_type": "execute_result"
    }
   ],
   "source": [
    "model.params['BldgType[T.Other]']+1500*(-34)"
   ]
  },
  {
   "cell_type": "code",
   "execution_count": 39,
   "id": "e8dff6ba",
   "metadata": {},
   "outputs": [
    {
     "data": {
      "text/plain": [
       "16189.59811550739"
      ]
     },
     "execution_count": 39,
     "metadata": {},
     "output_type": "execute_result"
    }
   ],
   "source": [
    "-model.params['BldgType[T.Other]']-1500*model.params['BldgType[T.Other]:GrLivArea']"
   ]
  },
  {
   "cell_type": "code",
   "execution_count": null,
   "id": "151fa1d2",
   "metadata": {},
   "outputs": [],
   "source": [
    "df= pd.DataFrame "
   ]
  },
  {
   "cell_type": "markdown",
   "id": "64c144fe",
   "metadata": {},
   "source": [
    "# 19"
   ]
  },
  {
   "cell_type": "code",
   "execution_count": 40,
   "id": "3cabb2e3",
   "metadata": {},
   "outputs": [
    {
     "data": {
      "text/plain": [
       "41366.78832820778"
      ]
     },
     "execution_count": 40,
     "metadata": {},
     "output_type": "execute_result"
    }
   ],
   "source": [
    "pred_price = model.predict(test)\n",
    "np.sqrt(((((pred_price) - test.SalePrice)**2)).mean())"
   ]
  },
  {
   "cell_type": "markdown",
   "id": "086e378e",
   "metadata": {},
   "source": [
    "# 20"
   ]
  },
  {
   "cell_type": "code",
   "execution_count": 41,
   "id": "3796ba29",
   "metadata": {},
   "outputs": [
    {
     "name": "stderr",
     "output_type": "stream",
     "text": [
      "C:\\Users\\akl0407\\Anaconda3\\lib\\site-packages\\seaborn\\_decorators.py:36: FutureWarning: Pass the following variables as keyword args: x, y. From version 0.12, the only valid positional argument will be `data`, and passing other arguments without an explicit keyword will result in an error or misinterpretation.\n",
      "  warnings.warn(\n"
     ]
    },
    {
     "data": {
      "text/plain": [
       "<AxesSubplot:>"
      ]
     },
     "execution_count": 41,
     "metadata": {},
     "output_type": "execute_result"
    },
    {
     "data": {
      "image/png": "[encoded data removed]",
      "text/plain": [
       "<Figure size 432x288 with 1 Axes>"
      ]
     },
     "metadata": {
      "needs_background": "light"
     },
     "output_type": "display_data"
    }
   ],
   "source": [
    "sns.scatterplot(model.fittedvalues, model.resid)"
   ]
  },
  {
   "cell_type": "markdown",
   "id": "cf69602b",
   "metadata": {},
   "source": [
    "# 21"
   ]
  },
  {
   "cell_type": "code",
   "execution_count": 42,
   "id": "7bc4a53e",
   "metadata": {},
   "outputs": [],
   "source": [
    "data['Qual_binned'] = pd.cut(data['OverallQual'],bins = (0,4,5,6,7,10),labels = ['Q1','Q2','Q3','Q4','Q5'])\n",
    "test['Qual_binned'] = pd.cut(test['OverallQual'],bins = (0,4,5,6,7,10),labels = ['Q1','Q2','Q3','Q4','Q5'])"
   ]
  },
  {
   "cell_type": "code",
   "execution_count": 44,
   "id": "6b515e5c",
   "metadata": {},
   "outputs": [
    {
     "data": {
      "text/html": [
       "<table class=\"simpletable\">\n",
       "<caption>OLS Regression Results</caption>\n",
       "<tr>\n",
       "  <th>Dep. Variable:</th>    <td>np.log(SalePrice)</td> <th>  R-squared:         </th> <td>   0.830</td> \n",
       "</tr>\n",
       "<tr>\n",
       "  <th>Model:</th>                   <td>OLS</td>        <th>  Adj. R-squared:    </th> <td>   0.823</td> \n",
       "</tr>\n",
       "<tr>\n",
       "  <th>Method:</th>             <td>Least Squares</td>   <th>  F-statistic:       </th> <td>   105.3</td> \n",
       "</tr>\n",
       "<tr>\n",
       "  <th>Date:</th>             <td>Fri, 27 Jan 2023</td>  <th>  Prob (F-statistic):</th> <td>1.17e-285</td>\n",
       "</tr>\n",
       "<tr>\n",
       "  <th>Time:</th>                 <td>22:34:30</td>      <th>  Log-Likelihood:    </th> <td>  319.31</td> \n",
       "</tr>\n",
       "<tr>\n",
       "  <th>No. Observations:</th>      <td>   856</td>       <th>  AIC:               </th> <td>  -560.6</td> \n",
       "</tr>\n",
       "<tr>\n",
       "  <th>Df Residuals:</th>          <td>   817</td>       <th>  BIC:               </th> <td>  -375.3</td> \n",
       "</tr>\n",
       "<tr>\n",
       "  <th>Df Model:</th>              <td>    38</td>       <th>                     </th>     <td> </td>    \n",
       "</tr>\n",
       "<tr>\n",
       "  <th>Covariance Type:</th>      <td>nonrobust</td>     <th>                     </th>     <td> </td>    \n",
       "</tr>\n",
       "</table>\n",
       "<table class=\"simpletable\">\n",
       "<tr>\n",
       "                     <td></td>                       <th>coef</th>     <th>std err</th>      <th>t</th>      <th>P>|t|</th>  <th>[0.025</th>    <th>0.975]</th>  \n",
       "</tr>\n",
       "<tr>\n",
       "  <th>Intercept</th>                              <td>    7.1058</td> <td>    0.217</td> <td>   32.702</td> <td> 0.000</td> <td>    6.679</td> <td>    7.532</td>\n",
       "</tr>\n",
       "<tr>\n",
       "  <th>Qual_binned[T.Q2]</th>                      <td>    0.1811</td> <td>    0.067</td> <td>    2.687</td> <td> 0.007</td> <td>    0.049</td> <td>    0.313</td>\n",
       "</tr>\n",
       "<tr>\n",
       "  <th>Qual_binned[T.Q3]</th>                      <td>    0.1508</td> <td>    0.071</td> <td>    2.118</td> <td> 0.034</td> <td>    0.011</td> <td>    0.291</td>\n",
       "</tr>\n",
       "<tr>\n",
       "  <th>Qual_binned[T.Q4]</th>                      <td>    0.3460</td> <td>    0.092</td> <td>    3.745</td> <td> 0.000</td> <td>    0.165</td> <td>    0.527</td>\n",
       "</tr>\n",
       "<tr>\n",
       "  <th>Qual_binned[T.Q5]</th>                      <td>    0.7604</td> <td>    0.117</td> <td>    6.483</td> <td> 0.000</td> <td>    0.530</td> <td>    0.991</td>\n",
       "</tr>\n",
       "<tr>\n",
       "  <th>HouseStyle[T.1.5Unf]</th>                   <td>    0.2940</td> <td>    0.181</td> <td>    1.622</td> <td> 0.105</td> <td>   -0.062</td> <td>    0.650</td>\n",
       "</tr>\n",
       "<tr>\n",
       "  <th>HouseStyle[T.1Story]</th>                   <td>    0.2462</td> <td>    0.067</td> <td>    3.694</td> <td> 0.000</td> <td>    0.115</td> <td>    0.377</td>\n",
       "</tr>\n",
       "<tr>\n",
       "  <th>HouseStyle[T.2.5Fin]</th>                   <td>   -0.1344</td> <td>    0.182</td> <td>   -0.740</td> <td> 0.459</td> <td>   -0.491</td> <td>    0.222</td>\n",
       "</tr>\n",
       "<tr>\n",
       "  <th>HouseStyle[T.2.5Unf]</th>                   <td>   -0.1366</td> <td>    0.062</td> <td>   -2.218</td> <td> 0.027</td> <td>   -0.257</td> <td>   -0.016</td>\n",
       "</tr>\n",
       "<tr>\n",
       "  <th>HouseStyle[T.2Story]</th>                   <td>    0.0021</td> <td>    0.086</td> <td>    0.024</td> <td> 0.981</td> <td>   -0.166</td> <td>    0.171</td>\n",
       "</tr>\n",
       "<tr>\n",
       "  <th>HouseStyle[T.SFoyer]</th>                   <td>    0.1731</td> <td>    0.182</td> <td>    0.952</td> <td> 0.341</td> <td>   -0.184</td> <td>    0.530</td>\n",
       "</tr>\n",
       "<tr>\n",
       "  <th>HouseStyle[T.SLvl]</th>                     <td>    0.5668</td> <td>    0.181</td> <td>    3.129</td> <td> 0.002</td> <td>    0.211</td> <td>    0.922</td>\n",
       "</tr>\n",
       "<tr>\n",
       "  <th>BldgType[T.Other]</th>                      <td>   -0.0654</td> <td>    0.017</td> <td>   -3.885</td> <td> 0.000</td> <td>   -0.098</td> <td>   -0.032</td>\n",
       "</tr>\n",
       "<tr>\n",
       "  <th>Qual_binned[T.Q2]:HouseStyle[T.1.5Unf]</th> <td>   -0.1261</td> <td>    0.220</td> <td>   -0.575</td> <td> 0.566</td> <td>   -0.557</td> <td>    0.305</td>\n",
       "</tr>\n",
       "<tr>\n",
       "  <th>Qual_binned[T.Q3]:HouseStyle[T.1.5Unf]</th> <td>   -0.2478</td> <td>    0.221</td> <td>   -1.122</td> <td> 0.262</td> <td>   -0.681</td> <td>    0.186</td>\n",
       "</tr>\n",
       "<tr>\n",
       "  <th>Qual_binned[T.Q4]:HouseStyle[T.1.5Unf]</th> <td>-4.633e-13</td> <td> 1.73e-12</td> <td>   -0.267</td> <td> 0.789</td> <td>-3.87e-12</td> <td> 2.94e-12</td>\n",
       "</tr>\n",
       "<tr>\n",
       "  <th>Qual_binned[T.Q5]:HouseStyle[T.1.5Unf]</th> <td>  3.99e-12</td> <td> 3.43e-12</td> <td>    1.163</td> <td> 0.245</td> <td>-2.75e-12</td> <td> 1.07e-11</td>\n",
       "</tr>\n",
       "<tr>\n",
       "  <th>Qual_binned[T.Q2]:HouseStyle[T.1Story]</th> <td>   -0.0429</td> <td>    0.074</td> <td>   -0.581</td> <td> 0.561</td> <td>   -0.188</td> <td>    0.102</td>\n",
       "</tr>\n",
       "<tr>\n",
       "  <th>Qual_binned[T.Q3]:HouseStyle[T.1Story]</th> <td>    0.0936</td> <td>    0.078</td> <td>    1.204</td> <td> 0.229</td> <td>   -0.059</td> <td>    0.246</td>\n",
       "</tr>\n",
       "<tr>\n",
       "  <th>Qual_binned[T.Q4]:HouseStyle[T.1Story]</th> <td>    0.0427</td> <td>    0.099</td> <td>    0.431</td> <td> 0.666</td> <td>   -0.152</td> <td>    0.237</td>\n",
       "</tr>\n",
       "<tr>\n",
       "  <th>Qual_binned[T.Q5]:HouseStyle[T.1Story]</th> <td>   -0.0806</td> <td>    0.120</td> <td>   -0.672</td> <td> 0.502</td> <td>   -0.316</td> <td>    0.155</td>\n",
       "</tr>\n",
       "<tr>\n",
       "  <th>Qual_binned[T.Q2]:HouseStyle[T.2.5Fin]</th> <td>    0.2373</td> <td>    0.250</td> <td>    0.947</td> <td> 0.344</td> <td>   -0.254</td> <td>    0.729</td>\n",
       "</tr>\n",
       "<tr>\n",
       "  <th>Qual_binned[T.Q3]:HouseStyle[T.2.5Fin]</th> <td>   -0.0561</td> <td>    0.221</td> <td>   -0.254</td> <td> 0.800</td> <td>   -0.489</td> <td>    0.377</td>\n",
       "</tr>\n",
       "<tr>\n",
       "  <th>Qual_binned[T.Q4]:HouseStyle[T.2.5Fin]</th> <td>    0.0930</td> <td>    0.228</td> <td>    0.407</td> <td> 0.684</td> <td>   -0.355</td> <td>    0.541</td>\n",
       "</tr>\n",
       "<tr>\n",
       "  <th>Qual_binned[T.Q5]:HouseStyle[T.2.5Fin]</th> <td>    0.2796</td> <td>    0.268</td> <td>    1.045</td> <td> 0.296</td> <td>   -0.246</td> <td>    0.805</td>\n",
       "</tr>\n",
       "<tr>\n",
       "  <th>Qual_binned[T.Q2]:HouseStyle[T.2.5Unf]</th> <td>   -0.2711</td> <td>    0.148</td> <td>   -1.834</td> <td> 0.067</td> <td>   -0.561</td> <td>    0.019</td>\n",
       "</tr>\n",
       "<tr>\n",
       "  <th>Qual_binned[T.Q3]:HouseStyle[T.2.5Unf]</th> <td>    0.0576</td> <td>    0.102</td> <td>    0.564</td> <td> 0.573</td> <td>   -0.143</td> <td>    0.258</td>\n",
       "</tr>\n",
       "<tr>\n",
       "  <th>Qual_binned[T.Q4]:HouseStyle[T.2.5Unf]</th> <td>   -0.0165</td> <td>    0.112</td> <td>   -0.147</td> <td> 0.883</td> <td>   -0.236</td> <td>    0.203</td>\n",
       "</tr>\n",
       "<tr>\n",
       "  <th>Qual_binned[T.Q5]:HouseStyle[T.2.5Unf]</th> <td>    0.0934</td> <td>    0.165</td> <td>    0.568</td> <td> 0.570</td> <td>   -0.230</td> <td>    0.416</td>\n",
       "</tr>\n",
       "<tr>\n",
       "  <th>Qual_binned[T.Q2]:HouseStyle[T.2Story]</th> <td>   -0.0304</td> <td>    0.097</td> <td>   -0.313</td> <td> 0.754</td> <td>   -0.221</td> <td>    0.160</td>\n",
       "</tr>\n",
       "<tr>\n",
       "  <th>Qual_binned[T.Q3]:HouseStyle[T.2Story]</th> <td>    0.2487</td> <td>    0.096</td> <td>    2.589</td> <td> 0.010</td> <td>    0.060</td> <td>    0.437</td>\n",
       "</tr>\n",
       "<tr>\n",
       "  <th>Qual_binned[T.Q4]:HouseStyle[T.2Story]</th> <td>    0.2098</td> <td>    0.112</td> <td>    1.877</td> <td> 0.061</td> <td>   -0.010</td> <td>    0.429</td>\n",
       "</tr>\n",
       "<tr>\n",
       "  <th>Qual_binned[T.Q5]:HouseStyle[T.2Story]</th> <td>    0.0169</td> <td>    0.132</td> <td>    0.127</td> <td> 0.899</td> <td>   -0.243</td> <td>    0.277</td>\n",
       "</tr>\n",
       "<tr>\n",
       "  <th>Qual_binned[T.Q2]:HouseStyle[T.SFoyer]</th> <td>    0.1738</td> <td>    0.192</td> <td>    0.905</td> <td> 0.366</td> <td>   -0.203</td> <td>    0.551</td>\n",
       "</tr>\n",
       "<tr>\n",
       "  <th>Qual_binned[T.Q3]:HouseStyle[T.SFoyer]</th> <td>    0.1982</td> <td>    0.204</td> <td>    0.969</td> <td> 0.333</td> <td>   -0.203</td> <td>    0.599</td>\n",
       "</tr>\n",
       "<tr>\n",
       "  <th>Qual_binned[T.Q4]:HouseStyle[T.SFoyer]</th> <td>    0.1639</td> <td>    0.218</td> <td>    0.751</td> <td> 0.453</td> <td>   -0.264</td> <td>    0.592</td>\n",
       "</tr>\n",
       "<tr>\n",
       "  <th>Qual_binned[T.Q5]:HouseStyle[T.SFoyer]</th> <td> 1.259e-18</td> <td> 4.28e-17</td> <td>    0.029</td> <td> 0.977</td> <td>-8.28e-17</td> <td> 8.53e-17</td>\n",
       "</tr>\n",
       "<tr>\n",
       "  <th>Qual_binned[T.Q2]:HouseStyle[T.SLvl]</th>   <td>   -0.2942</td> <td>    0.189</td> <td>   -1.556</td> <td> 0.120</td> <td>   -0.665</td> <td>    0.077</td>\n",
       "</tr>\n",
       "<tr>\n",
       "  <th>Qual_binned[T.Q3]:HouseStyle[T.SLvl]</th>   <td>   -0.2778</td> <td>    0.189</td> <td>   -1.469</td> <td> 0.142</td> <td>   -0.649</td> <td>    0.093</td>\n",
       "</tr>\n",
       "<tr>\n",
       "  <th>Qual_binned[T.Q4]:HouseStyle[T.SLvl]</th>   <td>   -0.3555</td> <td>    0.206</td> <td>   -1.724</td> <td> 0.085</td> <td>   -0.760</td> <td>    0.049</td>\n",
       "</tr>\n",
       "<tr>\n",
       "  <th>Qual_binned[T.Q5]:HouseStyle[T.SLvl]</th>   <td>   -0.5357</td> <td>    0.268</td> <td>   -2.002</td> <td> 0.046</td> <td>   -1.061</td> <td>   -0.010</td>\n",
       "</tr>\n",
       "<tr>\n",
       "  <th>np.log(GrLivArea)</th>                      <td>    0.6084</td> <td>    0.029</td> <td>   20.813</td> <td> 0.000</td> <td>    0.551</td> <td>    0.666</td>\n",
       "</tr>\n",
       "<tr>\n",
       "  <th>LotArea</th>                                <td> 3.319e-06</td> <td> 6.15e-07</td> <td>    5.394</td> <td> 0.000</td> <td> 2.11e-06</td> <td> 4.53e-06</td>\n",
       "</tr>\n",
       "</table>\n",
       "<table class=\"simpletable\">\n",
       "<tr>\n",
       "  <th>Omnibus:</th>       <td>153.328</td> <th>  Durbin-Watson:     </th> <td>   1.877</td> \n",
       "</tr>\n",
       "<tr>\n",
       "  <th>Prob(Omnibus):</th> <td> 0.000</td>  <th>  Jarque-Bera (JB):  </th> <td> 456.341</td> \n",
       "</tr>\n",
       "<tr>\n",
       "  <th>Skew:</th>          <td>-0.883</td>  <th>  Prob(JB):          </th> <td>8.07e-100</td>\n",
       "</tr>\n",
       "<tr>\n",
       "  <th>Kurtosis:</th>      <td> 6.111</td>  <th>  Cond. No.          </th> <td>1.37e+16</td> \n",
       "</tr>\n",
       "</table><br/><br/>Notes:<br/>[1] Standard Errors assume that the covariance matrix of the errors is correctly specified.<br/>[2] The smallest eigenvalue is 9.65e-22. This might indicate that there are<br/>strong multicollinearity problems or that the design matrix is singular."
      ],
      "text/plain": [
       "<class 'statsmodels.iolib.summary.Summary'>\n",
       "\"\"\"\n",
       "                            OLS Regression Results                            \n",
       "==============================================================================\n",
       "Dep. Variable:      np.log(SalePrice)   R-squared:                       0.830\n",
       "Model:                            OLS   Adj. R-squared:                  0.823\n",
       "Method:                 Least Squares   F-statistic:                     105.3\n",
       "Date:                Fri, 27 Jan 2023   Prob (F-statistic):          1.17e-285\n",
       "Time:                        22:34:30   Log-Likelihood:                 319.31\n",
       "No. Observations:                 856   AIC:                            -560.6\n",
       "Df Residuals:                     817   BIC:                            -375.3\n",
       "Df Model:                          38                                         \n",
       "Covariance Type:            nonrobust                                         \n",
       "==========================================================================================================\n",
       "                                             coef    std err          t      P>|t|      [0.025      0.975]\n",
       "----------------------------------------------------------------------------------------------------------\n",
       "Intercept                                  7.1058      0.217     32.702      0.000       6.679       7.532\n",
       "Qual_binned[T.Q2]                          0.1811      0.067      2.687      0.007       0.049       0.313\n",
       "Qual_binned[T.Q3]                          0.1508      0.071      2.118      0.034       0.011       0.291\n",
       "Qual_binned[T.Q4]                          0.3460      0.092      3.745      0.000       0.165       0.527\n",
       "Qual_binned[T.Q5]                          0.7604      0.117      6.483      0.000       0.530       0.991\n",
       "HouseStyle[T.1.5Unf]                       0.2940      0.181      1.622      0.105      -0.062       0.650\n",
       "HouseStyle[T.1Story]                       0.2462      0.067      3.694      0.000       0.115       0.377\n",
       "HouseStyle[T.2.5Fin]                      -0.1344      0.182     -0.740      0.459      -0.491       0.222\n",
       "HouseStyle[T.2.5Unf]                      -0.1366      0.062     -2.218      0.027      -0.257      -0.016\n",
       "HouseStyle[T.2Story]                       0.0021      0.086      0.024      0.981      -0.166       0.171\n",
       "HouseStyle[T.SFoyer]                       0.1731      0.182      0.952      0.341      -0.184       0.530\n",
       "HouseStyle[T.SLvl]                         0.5668      0.181      3.129      0.002       0.211       0.922\n",
       "BldgType[T.Other]                         -0.0654      0.017     -3.885      0.000      -0.098      -0.032\n",
       "Qual_binned[T.Q2]:HouseStyle[T.1.5Unf]    -0.1261      0.220     -0.575      0.566      -0.557       0.305\n",
       "Qual_binned[T.Q3]:HouseStyle[T.1.5Unf]    -0.2478      0.221     -1.122      0.262      -0.681       0.186\n",
       "Qual_binned[T.Q4]:HouseStyle[T.1.5Unf] -4.633e-13   1.73e-12     -0.267      0.789   -3.87e-12    2.94e-12\n",
       "Qual_binned[T.Q5]:HouseStyle[T.1.5Unf]   3.99e-12   3.43e-12      1.163      0.245   -2.75e-12    1.07e-11\n",
       "Qual_binned[T.Q2]:HouseStyle[T.1Story]    -0.0429      0.074     -0.581      0.561      -0.188       0.102\n",
       "Qual_binned[T.Q3]:HouseStyle[T.1Story]     0.0936      0.078      1.204      0.229      -0.059       0.246\n",
       "Qual_binned[T.Q4]:HouseStyle[T.1Story]     0.0427      0.099      0.431      0.666      -0.152       0.237\n",
       "Qual_binned[T.Q5]:HouseStyle[T.1Story]    -0.0806      0.120     -0.672      0.502      -0.316       0.155\n",
       "Qual_binned[T.Q2]:HouseStyle[T.2.5Fin]     0.2373      0.250      0.947      0.344      -0.254       0.729\n",
       "Qual_binned[T.Q3]:HouseStyle[T.2.5Fin]    -0.0561      0.221     -0.254      0.800      -0.489       0.377\n",
       "Qual_binned[T.Q4]:HouseStyle[T.2.5Fin]     0.0930      0.228      0.407      0.684      -0.355       0.541\n",
       "Qual_binned[T.Q5]:HouseStyle[T.2.5Fin]     0.2796      0.268      1.045      0.296      -0.246       0.805\n",
       "Qual_binned[T.Q2]:HouseStyle[T.2.5Unf]    -0.2711      0.148     -1.834      0.067      -0.561       0.019\n",
       "Qual_binned[T.Q3]:HouseStyle[T.2.5Unf]     0.0576      0.102      0.564      0.573      -0.143       0.258\n",
       "Qual_binned[T.Q4]:HouseStyle[T.2.5Unf]    -0.0165      0.112     -0.147      0.883      -0.236       0.203\n",
       "Qual_binned[T.Q5]:HouseStyle[T.2.5Unf]     0.0934      0.165      0.568      0.570      -0.230       0.416\n",
       "Qual_binned[T.Q2]:HouseStyle[T.2Story]    -0.0304      0.097     -0.313      0.754      -0.221       0.160\n",
       "Qual_binned[T.Q3]:HouseStyle[T.2Story]     0.2487      0.096      2.589      0.010       0.060       0.437\n",
       "Qual_binned[T.Q4]:HouseStyle[T.2Story]     0.2098      0.112      1.877      0.061      -0.010       0.429\n",
       "Qual_binned[T.Q5]:HouseStyle[T.2Story]     0.0169      0.132      0.127      0.899      -0.243       0.277\n",
       "Qual_binned[T.Q2]:HouseStyle[T.SFoyer]     0.1738      0.192      0.905      0.366      -0.203       0.551\n",
       "Qual_binned[T.Q3]:HouseStyle[T.SFoyer]     0.1982      0.204      0.969      0.333      -0.203       0.599\n",
       "Qual_binned[T.Q4]:HouseStyle[T.SFoyer]     0.1639      0.218      0.751      0.453      -0.264       0.592\n",
       "Qual_binned[T.Q5]:HouseStyle[T.SFoyer]  1.259e-18   4.28e-17      0.029      0.977   -8.28e-17    8.53e-17\n",
       "Qual_binned[T.Q2]:HouseStyle[T.SLvl]      -0.2942      0.189     -1.556      0.120      -0.665       0.077\n",
       "Qual_binned[T.Q3]:HouseStyle[T.SLvl]      -0.2778      0.189     -1.469      0.142      -0.649       0.093\n",
       "Qual_binned[T.Q4]:HouseStyle[T.SLvl]      -0.3555      0.206     -1.724      0.085      -0.760       0.049\n",
       "Qual_binned[T.Q5]:HouseStyle[T.SLvl]      -0.5357      0.268     -2.002      0.046      -1.061      -0.010\n",
       "np.log(GrLivArea)                          0.6084      0.029     20.813      0.000       0.551       0.666\n",
       "LotArea                                 3.319e-06   6.15e-07      5.394      0.000    2.11e-06    4.53e-06\n",
       "==============================================================================\n",
       "Omnibus:                      153.328   Durbin-Watson:                   1.877\n",
       "Prob(Omnibus):                  0.000   Jarque-Bera (JB):              456.341\n",
       "Skew:                          -0.883   Prob(JB):                    8.07e-100\n",
       "Kurtosis:                       6.111   Cond. No.                     1.37e+16\n",
       "==============================================================================\n",
       "\n",
       "Notes:\n",
       "[1] Standard Errors assume that the covariance matrix of the errors is correctly specified.\n",
       "[2] The smallest eigenvalue is 9.65e-22. This might indicate that there are\n",
       "strong multicollinearity problems or that the design matrix is singular.\n",
       "\"\"\""
      ]
     },
     "execution_count": 44,
     "metadata": {},
     "output_type": "execute_result"
    }
   ],
   "source": [
    "model = sm.ols(formula = 'np.log(SalePrice)~np.log(GrLivArea)+Qual_binned+HouseStyle+BldgType+LotArea+Qual_binned*HouseStyle', data = data).fit()\n",
    "model.summary()"
   ]
  },
  {
   "cell_type": "code",
   "execution_count": 45,
   "id": "0649dcac",
   "metadata": {},
   "outputs": [
    {
     "data": {
      "text/plain": [
       "37198.19844421495"
      ]
     },
     "execution_count": 45,
     "metadata": {},
     "output_type": "execute_result"
    }
   ],
   "source": [
    "pred_price = model.predict(test)\n",
    "np.sqrt((((np.exp(pred_price) - test.SalePrice)**2)).mean())"
   ]
  }
 ],
 "metadata": {
  "kernelspec": {
   "display_name": "base",
   "language": "python",
   "name": "python3"
  },
  "language_info": {
   "codemirror_mode": {
    "name": "ipython",
    "version": 3
   },
   "file_extension": ".py",
   "mimetype": "text/x-python",
   "name": "python",
   "nbconvert_exporter": "python",
   "pygments_lexer": "ipython3",
   "version": "3.8.8"
  },
  "vscode": {
   "interpreter": {
    "hash": "9b30c500a2c6b773b3af537f6a7d82178de4caa4af23850326d13fdd2609c842"
   }
  }
 },
 "nbformat": 4,
 "nbformat_minor": 5
}

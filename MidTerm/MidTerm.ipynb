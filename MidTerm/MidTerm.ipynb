{
 "cells": [
  {
   "attachments": {},
   "cell_type": "markdown",
   "metadata": {},
   "source": [
    "DEFAULT LIBRARIES\n",
    "\n",
    "import pandas as pd\n",
    "import seaborn as sns\n",
    "import statsmodels.formula.api as smf\n",
    "import numpy as np\n",
    "import matplotlib.pyplot as plt"
   ]
  },
  {
   "attachments": {},
   "cell_type": "markdown",
   "metadata": {},
   "source": [
    "# SIMPLE LINEAR REGRESSION MODEL"
   ]
  },
  {
   "attachments": {},
   "cell_type": "markdown",
   "metadata": {},
   "source": [
    "\n",
    "Linear_model= smf.ols(formula= \"DEPENDENT_VARIABLE~INDEPENDENT\", data=DF)\n",
    "model = Linear_model.fit()\n",
    "print(model.summary())"
   ]
  },
  {
   "attachments": {},
   "cell_type": "markdown",
   "metadata": {},
   "source": [
    "### CORRELATION AND R2 (Explained Variation)"
   ]
  },
  {
   "attachments": {},
   "cell_type": "markdown",
   "metadata": {},
   "source": [
    "Finding the Correlation and Idenfiying the P:\n",
    "    df.corrwith(df.dependent_variable).abs().sort_values(ascending = False)\n",
    "\n",
    "If we want to find Corrleation of all Variables:\n",
    "    df.corr() \n",
    "\n",
    "If asked for pair plot: \n",
    "    sns.pairplot(df)"
   ]
  },
  {
   "attachments": {},
   "cell_type": "markdown",
   "metadata": {},
   "source": [
    " R2 - from the model \n",
    "      - explaination = The value of  R-squared is 0.516, which means that 51.6% of the variations in the dependent variable is explained by the independet varaible. "
   ]
  },
  {
   "attachments": {},
   "cell_type": "markdown",
   "metadata": {},
   "source": [
    "CORRELATION AND FINDING R2 \n",
    "    Find the correlation between `Petrol_consumption` and the rest of the variables in *petrol_consumption_train.csv*. Based on the correlations, a simple linear regression model with which predictor will have the least R-squared value for predicting `Petrol_consumption`. Don't develop any linear regression models.\n",
    "\n",
    "        train.corrwith(train.Petrol_consumption)\n",
    "        SQUARE THE VALUES\n"
   ]
  },
  {
   "attachments": {},
   "cell_type": "markdown",
   "metadata": {},
   "source": [
    "### PREDICTION AND CONFIDENCE INTERVAL"
   ]
  },
  {
   "attachments": {},
   "cell_type": "markdown",
   "metadata": {},
   "source": [
    "AT SPECIFIC POINTS \n",
    "    Using model to estimate petrol consumption for a state in which 50% of the population has a driver’s license.\n",
    "    Confidence and prediction intervals for your estmate? Which interval includes the irreducible error?\n",
    "\n",
    "        prediction = model.get_prediction(pd.DataFrame({'Prop_license':[0.5]})) # if 10% put 0.1\n",
    "        prediction.summary_frame(alpha=0.05)\n",
    "\n",
    "        Confidence Interval= (mean_ci_lower, mean_ci_upper)\n",
    "        Prediction Interval= (obs_ci_lower, obs_ci_upper)"
   ]
  },
  {
   "attachments": {},
   "cell_type": "markdown",
   "metadata": {},
   "source": [
    " FIND INTERVALS \n",
    "        intervals = model.get_prediction(test)\n",
    "        intervals.summary_frame(alpha=0.05)\n",
    "        interval_table = intervals.summary_frame(alpha=0.05)"
   ]
  },
  {
   "attachments": {},
   "cell_type": "markdown",
   "metadata": {},
   "source": [
    "Variable significance from confidence interval\n",
    "    conf = model.conf_int(alpha=0.05)\n",
    "    print(conf)\n"
   ]
  },
  {
   "attachments": {},
   "cell_type": "markdown",
   "metadata": {},
   "source": [
    "### RESIDUAL STANDARD ERROR (RSE)The standard deviation of the irreducible error"
   ]
  },
  {
   "attachments": {},
   "cell_type": "markdown",
   "metadata": {},
   "source": [
    "    np.sqrt(model.mse_resid)"
   ]
  },
  {
   "attachments": {},
   "cell_type": "markdown",
   "metadata": {},
   "source": [
    "### RMSE & PREDICTION"
   ]
  },
  {
   "attachments": {},
   "cell_type": "markdown",
   "metadata": {},
   "source": [
    "    PREDICTION\n",
    "        test= pd.read_csv(\"petrol_consumption_test.csv\")\n",
    "        pred_price = model.predict(test['Prop_license'])\n",
    "\n",
    "    RMSE\n",
    "        np.sqrt(((test.Petrol_consumption - pred_price)**2).mean())"
   ]
  },
  {
   "attachments": {},
   "cell_type": "markdown",
   "metadata": {},
   "source": [
    "### OVERFITTING & UNDERFITTING "
   ]
  },
  {
   "attachments": {},
   "cell_type": "markdown",
   "metadata": {},
   "source": [
    "\n",
    "    train_pred_price = model.predict(train['Prop_license'])\n",
    "    np.sqrt(((train.Petrol_consumption - train_pred_price)**2).mean())\n",
    "    Compare train RMSE and test RMSE \n",
    "\n",
    "    ORRR\n",
    "\n",
    "    CHECK IF: \n",
    "        residual standard error on the training data is close to the RMSE on the test data: not overfitting\n",
    "        In case we  a model on the training data, its performance on unknown data is likely to be worse than that on the training data."
   ]
  },
  {
   "attachments": {},
   "cell_type": "markdown",
   "metadata": {},
   "source": [
    "### PLOTTING THE GRAPH & INTERVALS "
   ]
  },
  {
   "attachments": {},
   "cell_type": "markdown",
   "metadata": {},
   "source": [
    "Visualize the regression line\n",
    "    sns.regplot(x = 'engineSize', y = 'price', data = train, color = 'orange',line_kws={\"color\": \"red\"})\n",
    "    plt.xlim(-1,7)"
   ]
  },
  {
   "attachments": {},
   "cell_type": "markdown",
   "metadata": {},
   "source": [
    "    FIND INTERVALS \n",
    "        intervals = model.get_prediction(test)\n",
    "        intervals.summary_frame(alpha=0.05)\n",
    "        interval_table = intervals.summary_frame(alpha=0.05)\n",
    "    PLOT THE GRAPH\n",
    "        (VARIABLE RELATION) sns.scatterplot(x = test.Prop_license, y = test.Petrol_consumption,color = 'orange', s = 10) \n",
    "        (REGRESSION LINE) sns.lineplot(x = test.Prop_license, y = pred_price, color = 'red')\n",
    "        (CONFIDENCE INTERVAL)sns.lineplot(x = test.Prop_license, y = interval_table.mean_ci_lower, color = 'blue')\n",
    "        (CONFIDENCE INTERVAL)sns.lineplot(x = test.Prop_license, y = interval_table.mean_ci_upper, color = 'blue' label='_nolegend_')\n",
    "        (PREDICTION INTERVAL)sns.lineplot(x = test.Prop_license, y = interval_table.obs_ci_lower, color = 'green')\n",
    "        (PREDICTION INTERVAL)sns.lineplot(x = test.Prop_license, y = interval_table.obs_ci_upper, color = 'green')\n",
    "        plt.legend(labels=[\"Regression line\",\"Confidence interval\", \"Prediction interval\"])"
   ]
  },
  {
   "attachments": {},
   "cell_type": "markdown",
   "metadata": {},
   "source": [
    "COMPARING (Actual vs Predicted)\n",
    "    Make a visualization that compares the predicted car prices with the actual car prices\n",
    "        sns.scatterplot(x = testp.price, y = pred_price)\n",
    "        #In case of a perfect prediction, all the points must lie on the line x = y.\n",
    "        sns.lineplot(x = [0,testp.price.max()], y = [0,testp.price.max()],color='orange') #Plotting the line x = y.\n",
    "        plt.xlabel('Actual price')\n",
    "        plt.ylabel('Predicted price')"
   ]
  },
  {
   "attachments": {},
   "cell_type": "markdown",
   "metadata": {},
   "source": [
    "# Multiple Linear Regression: (MLR)"
   ]
  },
  {
   "attachments": {},
   "cell_type": "markdown",
   "metadata": {},
   "source": [
    "MODEL \n",
    "#Using the ols function to create an ols object. 'ols' stands for 'Ordinary least squares'\n",
    "    ols_object = smf.ols(formula = 'price~year+mileage+mpg+engineSize', data = train)\n",
    "    model = ols_object.fit()\n",
    "    model.summary()\n",
    "    "
   ]
  },
  {
   "attachments": {},
   "cell_type": "markdown",
   "metadata": {},
   "source": [
    "### Prediction\n"
   ]
  },
  {
   "attachments": {},
   "cell_type": "markdown",
   "metadata": {},
   "source": [
    "data = {'lcavol': [1.35],'age' : 65,'lweight': [3.65],'lweight' : [3.65],'lbph' : [0.1],'svi' : 0.22,'lcp' : -0.18,\n",
    "       'gleason': 6.75,\n",
    "       'pgg45' : 25}\n",
    "dataframe = pd.DataFrame(data)\n",
    "prediction = model.predict(dataframe)\n",
    "print(prediction)"
   ]
  },
  {
   "attachments": {},
   "cell_type": "markdown",
   "metadata": {},
   "source": [
    "Interval \n",
    "    intervals = model.get_prediction(dataframe)\n",
    "    intervals.summary_frame(alpha=0.05)"
   ]
  },
  {
   "attachments": {},
   "cell_type": "markdown",
   "metadata": {},
   "source": [
    "### Plotting the Residual Point "
   ]
  },
  {
   "attachments": {},
   "cell_type": "markdown",
   "metadata": {},
   "source": [
    "sns.scatterplot(x = model.fittedvalues, y=model.resid,color = 'orange')\n",
    "sns.lineplot(x = [pred_price.min(),pred_price.max()],y = [0,0],color = 'blue')\n",
    "plt.xlabel('Predicted price')\n",
    "plt.ylabel('Residual')\n"
   ]
  },
  {
   "attachments": {},
   "cell_type": "markdown",
   "metadata": {},
   "source": [
    "# Variable interaction"
   ]
  },
  {
   "attachments": {},
   "cell_type": "markdown",
   "metadata": {},
   "source": [
    "#Considering interaction between engineSize and year\n",
    "    ols_object = smf.ols(formula = 'price~year*engineSize+mileage+mpg', data = train)\n",
    "    model = ols_object.fit()\n",
    "    model.summary()"
   ]
  },
  {
   "attachments": {},
   "cell_type": "markdown",
   "metadata": {},
   "source": [
    "#### Qualitative Model"
   ]
  },
  {
   "attachments": {},
   "cell_type": "markdown",
   "metadata": {},
   "source": [
    "Changing BaseLines (Qualitative Model)\n",
    "    ols_object = smf.ols(formula = 'price~engineSize+C(transmission, Treatment(\"Manual\"))', data = train_updated)\n",
    "    model = ols_object.fit()\n",
    "    model.summary()"
   ]
  },
  {
   "attachments": {},
   "cell_type": "markdown",
   "metadata": {},
   "source": [
    "Visualizing the developed model that has a qualitative variable\n",
    "\n",
    "\n",
    "    plt.rcParams[\"figure.figsize\"] = (9,6)\n",
    "    sns.set(font_scale = 1.3)\n",
    "    x = np.linspace(train_updated.engineSize.min(),train_updated.engineSize.max(),100)\n",
    "    ax = sns.lineplot(x = x, y = model.params['engineSize']*x+model.params['Intercept'], color = 'red')\n",
    "    sns.lineplot(x = x, y = model.params['engineSize']*x+model.params['Intercept']+model.params['transmission[T.Semi-Auto]'], color = 'blue')\n",
    "    sns.lineplot(x = x, y = model.params['engineSize']*x+model.params['Intercept']+model.params['transmission[T.Manual]'], color = 'green')\n",
    "    plt.legend(labels=[\"Automatic\",\"Semi-Automatic\", \"Manual\"])\n",
    "    plt.xlabel('Engine size (in litre)')\n",
    "    plt.ylabel('Predicted car price')\n",
    "    ax.yaxis.set_major_formatter('${x:,.0f}')"
   ]
  },
  {
   "attachments": {},
   "cell_type": "markdown",
   "metadata": {},
   "source": [
    "Visualizing the interaction between a qualitative and quantitave variable \n",
    "\n",
    "    plt.rcParams[\"figure.figsize\"] = (9,6)\n",
    "    sns.set(font_scale = 1.3)\n",
    "    x = np.linspace(train_updated.engineSize.min(),train_updated.engineSize.max(),100)\n",
    "    ax = sns.lineplot(x = x, y = model.params['engineSize']*x+model.params['Intercept'], label='Automatic', color = 'red')\n",
    "    plt.plot(x, (model.params['engineSize']+model.params['engineSize:transmission[T.Semi-Auto]'])*x+model.params['Intercept']+model.params['transmission[T.Semi-Auto]'], '-b', label='Semi-Automatic')\n",
    "    plt.plot(x, (model.params['engineSize']+model.params['engineSize:transmission[T.Manual]'])*x+model.params['Intercept']+model.params['transmission[T.Manual]'], '-g', label='Manual')\n",
    "    plt.legend(loc='upper left')\n",
    "    plt.xlabel('Engine size (in litre)')\n",
    "    plt.ylabel('Predicted car price')\n",
    "    ax.yaxis.set_major_formatter('${x:,.0f}')"
   ]
  },
  {
   "attachments": {},
   "cell_type": "markdown",
   "metadata": {},
   "source": [
    "### Quadratic transformation"
   ]
  },
  {
   "attachments": {},
   "cell_type": "markdown",
   "metadata": {},
   "source": [
    "Let us transform the predictor mileage to include (i.e., perform a quadratic transformation on the predictor).\n",
    "#Including mileage squared as a predictor and developing the model\n",
    "    ols_object = smf.ols(formula = 'price~mileage+I(mileage**2)', data = train_updated)\n",
    "    model = ols_object.fit()\n",
    "    model.summary()"
   ]
  },
  {
   "attachments": {},
   "cell_type": "markdown",
   "metadata": {},
   "source": [
    "#Visualizing the regression line with the model consisting of the quadratic transformation of the predictor - mileage\n",
    "        pred_price = model.predict(train_updated)\n",
    "        ax = sns.scatterplot(x = 'mileage', y = 'price', data = train_updated, color = 'orange')\n",
    "        sns.lineplot(x = train_updated.mileage, y = pred_price, color = 'blue')\n",
    "        plt.xlabel('Mileage')\n",
    "        plt.ylabel('Predicted car price')\n",
    "        ax.yaxis.set_major_formatter('${x:,.0f}')\n",
    "        ax.xaxis.set_major_formatter('{x:,.0f}')"
   ]
  },
  {
   "attachments": {},
   "cell_type": "markdown",
   "metadata": {},
   "source": [
    "### Cubic Transformation "
   ]
  },
  {
   "attachments": {},
   "cell_type": "markdown",
   "metadata": {},
   "source": [
    "#Including mileage squared and mileage cube as predictors and developing the model\n",
    "    ols_object = smf.ols(formula = 'price~mileage+I(mileage**2)+I(mileage**3)', data = train_updated)\n",
    "    model = ols_object.fit()\n",
    "    model.summary()"
   ]
  },
  {
   "attachments": {},
   "cell_type": "markdown",
   "metadata": {},
   "source": [
    "#Visualizing the model with the cubic transformation of mileage\n",
    "        pred_price = model.predict(train_updated)\n",
    "        ax = sns.scatterplot(x = 'mileage', y = 'price', data = train_updated, color = 'orange')\n",
    "        sns.lineplot(x = train_updated.mileage, y = pred_price, color = 'blue')\n",
    "        plt.xlabel('Mileage')\n",
    "        plt.ylabel('Predicted car price')\n",
    "        ax.yaxis.set_major_formatter('${x:,.0f}')\n",
    "        ax.xaxis.set_major_formatter('{x:,.0f}')"
   ]
  },
  {
   "attachments": {},
   "cell_type": "markdown",
   "metadata": {},
   "source": [
    "### Model Assumption"
   ]
  },
  {
   "attachments": {},
   "cell_type": "markdown",
   "metadata": {},
   "source": [
    "#### MAE (Mean absolute error)"
   ]
  },
  {
   "attachments": {},
   "cell_type": "markdown",
   "metadata": {},
   "source": [
    "#Computing MAE on test data\n",
    "pred_price = model.predict(testf)\n",
    "(np.abs(testp.price - pred_price)).mean()"
   ]
  },
  {
   "attachments": {},
   "cell_type": "markdown",
   "metadata": {},
   "source": [
    "### Plotting residuals vs fitted values"
   ]
  },
  {
   "attachments": {},
   "cell_type": "markdown",
   "metadata": {},
   "source": [
    "\n",
    "plt.rcParams[\"figure.figsize\"] = (9,6)\n",
    "sns.set(font_scale=1.25)\n",
    "ax = sns.scatterplot(x = model.fittedvalues, y=model.resid,color = 'orange')\n",
    "sns.lineplot(x = [pred_price.min(),pred_price.max()],y = [0,0],color = 'blue')\n",
    "plt.xlabel('Fitted values')\n",
    "plt.ylabel('Residuals')\n",
    "ax.yaxis.set_major_formatter('${x:,.0f}')\n",
    "ax.xaxis.set_major_formatter('${x:,.0f}')"
   ]
  },
  {
   "attachments": {},
   "cell_type": "markdown",
   "metadata": {},
   "source": [
    "### Variable selection\n",
    "Find the largest subset of predictors in the model developed in the first question *(B.1.1)*, such that their coefficients are zero, i.e., none of the predictors in the subset are statistically significant. \n",
    "\n",
    "Does the model $R$-squared change a lot if you remove the set of predictors identifed above from the model in the first question *(B.1.1)*?\n",
    "\n",
    "**Hint:** You may use the `f_test()` method to test hypotheses.\n"
   ]
  },
  {
   "attachments": {},
   "cell_type": "markdown",
   "metadata": {},
   "source": [
    "Predictorsubset = ['lcavol', 'lweight', 'age', 'lbph','svi']\n",
    "\n",
    "hypothesis = ' = '.join(Predictorsubset) + ' = 0'\n",
    "\n",
    "f_test = model.f_test(hypothesis)\n",
    "\n",
    "print(f_test)"
   ]
  }
 ],
 "metadata": {
  "kernelspec": {
   "display_name": "Python 3",
   "language": "python",
   "name": "python3"
  },
  "language_info": {
   "name": "python",
   "version": "3.10.7"
  },
  "orig_nbformat": 4,
  "vscode": {
   "interpreter": {
    "hash": "aee8b7b246df8f9039afb4144a1f6fd8d2ca17a180786b69acc140d282b71a49"
   }
  }
 },
 "nbformat": 4,
 "nbformat_minor": 2
}
